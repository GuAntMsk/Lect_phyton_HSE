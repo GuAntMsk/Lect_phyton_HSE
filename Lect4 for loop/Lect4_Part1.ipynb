{
 "cells": [
  {
   "cell_type": "markdown",
   "id": "574d616a",
   "metadata": {},
   "source": [
    "Центр непрерывного образования\n",
    "\n",
    "# Программа «Python для автоматизации и анализа данных»\n",
    "\n",
    " \n",
    "\n",
    "# Цикл for. Применение циклов к строкам, спискам, кортежам и словарям."
   ]
  },
  {
   "cell_type": "markdown",
   "id": "7093994f",
   "metadata": {},
   "source": [
    "Циклы мы используем в тех случаях, когда нужно повторить что-нибудь n-ное количество раз. Например, у нас уже был цикл **While**"
   ]
  },
  {
   "cell_type": "code",
   "execution_count": 6,
   "id": "4f65fb7c",
   "metadata": {},
   "outputs": [
    {
     "name": "stdout",
     "output_type": "stream",
     "text": [
      "0\n",
      "1\n",
      "2\n",
      "3\n"
     ]
    }
   ],
   "source": [
    "for i in range(4): #0,1,2,3\n",
    "    print(i)"
   ]
  },
  {
   "cell_type": "code",
   "execution_count": 7,
   "id": "ea6c2dff",
   "metadata": {},
   "outputs": [
    {
     "name": "stdout",
     "output_type": "stream",
     "text": [
      "0\n",
      "1\n",
      "2\n",
      "3\n",
      "4\n"
     ]
    }
   ],
   "source": [
    "i = 0\n",
    "while (i <= 4):\n",
    "    print(i)\n",
    "    i += 1"
   ]
  },
  {
   "cell_type": "markdown",
   "id": "ce4d7f1e",
   "metadata": {},
   "source": [
    "Здесь мы проверяем условие *i <= 10* (оно выполнено, *i = 1*), заходим в цикл с *i = 1*, печатаем значение *i*, добавляем к нему 1 иииии... \\\n",
    "Снова проверяем условие *i <= 10* (оно выполнено, *i = 2*), заходим в цикл с *i = 2*, печатаем значение *i*, добавляем к нему 1 иииии... \\\n",
    "Делаем такие же действия, пока *i* не становится равным 11, тогда условие входа в цикл не выполняется, и цикл завершается"
   ]
  },
  {
   "cell_type": "markdown",
   "id": "6fe1a0a3",
   "metadata": {},
   "source": [
    "Как мы уже обсуждали, цикл *While* гипотетически может \"уходить в бесконечность\", если условие, которое проверяется на входе в цикл будет выполнено всегда, например **While True**. Такие зацикливания можно прерывать оператором **break**, НО, это надо использовать очень аккуратно"
   ]
  },
  {
   "cell_type": "code",
   "execution_count": null,
   "id": "4fd97ddf",
   "metadata": {},
   "outputs": [],
   "source": []
  },
  {
   "cell_type": "markdown",
   "id": "337b73cf",
   "metadata": {},
   "source": [
    "### FOR"
   ]
  },
  {
   "cell_type": "markdown",
   "id": "90106d56",
   "metadata": {},
   "source": [
    "В Python цикл начинается с ключевого слова **for**, за которым следует произвольное имя переменной, которое будет хранить значения следующего объекта последовательности. Общий синтаксис **for...in** в python выглядит следующим образом:\n",
    "\n",
    "**for** <переменная> **in** <последовательность>:\n",
    "\n",
    "    <действие> \n",
    "    \n",
    "**else:**\n",
    "\n",
    "    <действие>\n",
    "    \n",
    "Элементы “последовательности” перебираются один за другим “переменной” цикла; если быть точным, переменная указывает на элементы. Для каждого элемента выполняется “действие”."
   ]
  },
  {
   "cell_type": "markdown",
   "id": "dc8885cc",
   "metadata": {},
   "source": [
    "<img src =\"https://d33wubrfki0l68.cloudfront.net/09c51b2f33c74a58ae5ae12689b2c5441e6f6bb4/83a52/wp-content/uploads/2017/06/forloop.png\" alt =\"Test picture\" style=\"width: 300px;\"/>"
   ]
  },
  {
   "cell_type": "markdown",
   "id": "451807f4",
   "metadata": {},
   "source": [
    "Вот пример простейшего цикла **for**"
   ]
  },
  {
   "cell_type": "code",
   "execution_count": 8,
   "id": "dc86047d",
   "metadata": {},
   "outputs": [],
   "source": [
    "l1 = range(1, 10) # 1 2 3 4 ...9 "
   ]
  },
  {
   "cell_type": "code",
   "execution_count": 9,
   "id": "336a3317",
   "metadata": {},
   "outputs": [
    {
     "data": {
      "text/plain": [
       "range"
      ]
     },
     "execution_count": 9,
     "metadata": {},
     "output_type": "execute_result"
    }
   ],
   "source": [
    "type(l1)"
   ]
  },
  {
   "cell_type": "code",
   "execution_count": 11,
   "id": "982c8a06",
   "metadata": {},
   "outputs": [
    {
     "data": {
      "text/plain": [
       "3"
      ]
     },
     "execution_count": 11,
     "metadata": {},
     "output_type": "execute_result"
    }
   ],
   "source": [
    "l1[2]"
   ]
  },
  {
   "cell_type": "code",
   "execution_count": 13,
   "id": "666dcee3",
   "metadata": {},
   "outputs": [
    {
     "data": {
      "text/plain": [
       "9"
      ]
     },
     "execution_count": 13,
     "metadata": {},
     "output_type": "execute_result"
    }
   ],
   "source": [
    "l1[-1]"
   ]
  },
  {
   "cell_type": "code",
   "execution_count": 15,
   "id": "c72d967c",
   "metadata": {},
   "outputs": [
    {
     "data": {
      "text/plain": [
       "range(2, 6)"
      ]
     },
     "execution_count": 15,
     "metadata": {},
     "output_type": "execute_result"
    }
   ],
   "source": [
    "l1[1:5]"
   ]
  },
  {
   "cell_type": "code",
   "execution_count": 16,
   "id": "d356367f",
   "metadata": {},
   "outputs": [
    {
     "data": {
      "text/plain": [
       "[1, 2, 3, 4, 5, 6, 7, 8, 9]"
      ]
     },
     "execution_count": 16,
     "metadata": {},
     "output_type": "execute_result"
    }
   ],
   "source": [
    "list(l1)"
   ]
  },
  {
   "cell_type": "markdown",
   "id": "26f47a29",
   "metadata": {},
   "source": [
    "Элементы “последовательности” перебираются один за другим “переменной” цикла; \\\n",
    "Если быть точным, переменная указывает на элементы. Для каждого элемента выполняется “действие”.\\\n",
    "Здесь в роли \"последовательности\" у нас список"
   ]
  },
  {
   "cell_type": "code",
   "execution_count": 17,
   "id": "5aaec80e",
   "metadata": {},
   "outputs": [
    {
     "name": "stdout",
     "output_type": "stream",
     "text": [
      "10 12 14 16 18 \n"
     ]
    }
   ],
   "source": [
    "for i in range(10, 20, 2): #start, end, step\n",
    "    print(i, end = ' ')\n",
    "print()"
   ]
  },
  {
   "cell_type": "code",
   "execution_count": 18,
   "id": "7bb8cbf3",
   "metadata": {},
   "outputs": [
    {
     "name": "stdout",
     "output_type": "stream",
     "text": [
      "20 18 16 14 12 \n"
     ]
    }
   ],
   "source": [
    "for i in range(20, 10, -2): #start, end, step\n",
    "    print(i, end = ' ')\n",
    "print()"
   ]
  },
  {
   "cell_type": "code",
   "execution_count": 19,
   "id": "68e736cd",
   "metadata": {},
   "outputs": [
    {
     "name": "stdout",
     "output_type": "stream",
     "text": [
      "9 0 8 5 6 7 2 1 8 \n"
     ]
    }
   ],
   "source": [
    "l2 = (9, 0, 8, 5, 6, 7, 2, 1, 8)\n",
    "for i in l2:\n",
    "    print(i, end = ' ')\n",
    "print()"
   ]
  },
  {
   "cell_type": "code",
   "execution_count": 20,
   "id": "97869497",
   "metadata": {},
   "outputs": [
    {
     "name": "stdout",
     "output_type": "stream",
     "text": [
      "9 0 8 5 6 7 2 1 8 \n"
     ]
    }
   ],
   "source": [
    "l2 = (9, 0, 8, 5, 6, 7, 2, 1, 8)\n",
    "for i in range(len(l2)):\n",
    "    print(l2[i], end = ' ')\n",
    "print()"
   ]
  },
  {
   "cell_type": "code",
   "execution_count": 22,
   "id": "20be1f00",
   "metadata": {},
   "outputs": [
    {
     "name": "stdout",
     "output_type": "stream",
     "text": [
      "9 0 8 5 6 7 2 1 8 \n"
     ]
    }
   ],
   "source": [
    "l3 = [9, 0, 8, 5, 6, 7, 2, 1, 8]\n",
    "for i in l2:\n",
    "    print(i, end = ' ')\n",
    "print()"
   ]
  },
  {
   "cell_type": "code",
   "execution_count": 24,
   "id": "6c25d643",
   "metadata": {},
   "outputs": [
    {
     "name": "stdout",
     "output_type": "stream",
     "text": [
      "5 53\n",
      "4 52\n",
      "6 54\n",
      "r 114\n",
      "7 55\n",
      "f 102\n",
      "8 56\n",
      "d 100\n",
      "s 115\n",
      "i 105\n",
      "f 102\n",
      "\n"
     ]
    }
   ],
   "source": [
    "for i in '546r7f8dsif':\n",
    "    print(i, ord(i))\n",
    "print()"
   ]
  },
  {
   "cell_type": "markdown",
   "id": "580ccafc",
   "metadata": {},
   "source": [
    "### Итерируемый объект \n",
    "\n",
    "**Итерация** - это общий термин, который описывает процедуру взятия элементов чего-то по очереди.\n",
    "\n",
    "В более общем смысле, это последовательность инструкций, которая повторяется определенное количество раз или до выполнения указанного условия.\n",
    "\n",
    "**Итерируемый объект** (iterable) - это объект, который способен возвращать элементы по одному(не обязательно по порядку). Кроме того, это объект, из которого можно получить итератор.\n",
    "\n",
    "Примеры итерируемых объектов:\n",
    "\n",
    "* все последовательности: список, строка, кортеж\n",
    "* словари и множества\n",
    "* файлы"
   ]
  },
  {
   "cell_type": "markdown",
   "id": "54b28e2b",
   "metadata": {},
   "source": [
    "**Итератор** (iterator) - это объект, который возвращает свои элементы по одному за раз.\n",
    "\n",
    "С точки зрения Python - это любой объект, у которого есть метод __next__. Этот метод возвращает следующий элемент, если он есть, или возвращает исключение **StopIteration**, когда элементы закончились.\n",
    "\n",
    "Кроме того, итератор запоминает, на каком объекте он остановился в последнюю итерацию."
   ]
  },
  {
   "cell_type": "markdown",
   "id": "b61fcd89",
   "metadata": {},
   "source": [
    "Сейчас сложновато: Наш цикл for проходит именно по итератору! Когда мы говорим:\n",
    "\n",
    "for object in iterable:\n",
    "\n",
    "    do something  \n",
    "    \n",
    "Мы, на самом деле, вызываем метод итерируемого объекта , который возвращает итератор.\n",
    "Таким образом, создаем объект-итератор , по которому и бежит цикл for.\n",
    "Для того чтобы все это увидеть, есть функция iter() В качестве аргумента ей передается итерируемый объект (словарь, список, кортеж и т.д.) , а она возвращает соответствующий итератор.\n"
   ]
  },
  {
   "cell_type": "code",
   "execution_count": 27,
   "id": "6d8cbb18",
   "metadata": {},
   "outputs": [],
   "source": [
    "s1 = {1, 2, 3, 4, 5}\n",
    "l1 = [1, 2, 3, 4, 5]\n",
    "c1 = (1, 2, 3, 4, 5)\n",
    "st1 = '12345'"
   ]
  },
  {
   "cell_type": "code",
   "execution_count": 28,
   "id": "9696b2b2",
   "metadata": {},
   "outputs": [
    {
     "name": "stdout",
     "output_type": "stream",
     "text": [
      "<class 'set'>\n",
      "<class 'list'>\n",
      "<class 'tuple'>\n",
      "<class 'str'>\n"
     ]
    }
   ],
   "source": [
    "print(type(s1))\n",
    "print(type(l1))\n",
    "print(type(c1))\n",
    "print(type(st1))"
   ]
  },
  {
   "cell_type": "code",
   "execution_count": 34,
   "id": "4cda2ac7",
   "metadata": {},
   "outputs": [
    {
     "name": "stdout",
     "output_type": "stream",
     "text": [
      "<set_iterator object at 0x7f89404c2d00>\n",
      "<list_iterator object at 0x7f8938b3c0a0>\n",
      "<tuple_iterator object at 0x7f89388890d0>\n",
      "<str_iterator object at 0x7f8938b3c0a0>\n"
     ]
    }
   ],
   "source": [
    "print(iter(s1))\n",
    "print(iter(l1))\n",
    "print(iter(c1))\n",
    "print(iter(st1))"
   ]
  },
  {
   "cell_type": "code",
   "execution_count": 35,
   "id": "d8197f85",
   "metadata": {},
   "outputs": [
    {
     "name": "stdout",
     "output_type": "stream",
     "text": [
      "<class 'set_iterator'>\n",
      "<class 'list_iterator'>\n",
      "<class 'tuple_iterator'>\n",
      "<class 'str_iterator'>\n"
     ]
    }
   ],
   "source": [
    "print(type(iter(s1)))\n",
    "print(type(iter(l1)))\n",
    "print(type(iter(c1)))\n",
    "print(type(iter(st1)))"
   ]
  },
  {
   "cell_type": "code",
   "execution_count": 37,
   "id": "51f98fdb",
   "metadata": {},
   "outputs": [
    {
     "name": "stdout",
     "output_type": "stream",
     "text": [
      "1 2 3 4 5 \n"
     ]
    }
   ],
   "source": [
    "for i in s1:\n",
    "    print(i, end = ' ')\n",
    "print()"
   ]
  },
  {
   "cell_type": "code",
   "execution_count": 38,
   "id": "569c0419",
   "metadata": {},
   "outputs": [
    {
     "name": "stdout",
     "output_type": "stream",
     "text": [
      "1 2 3 4 5 \n"
     ]
    }
   ],
   "source": [
    "for i in iter(s1):\n",
    "    print(i, end = ' ')\n",
    "print()"
   ]
  },
  {
   "cell_type": "markdown",
   "id": "8b544868",
   "metadata": {},
   "source": [
    "Посмотрим на встроенную функцию next(). Она должна отдавать следующий элемент итератора. "
   ]
  },
  {
   "cell_type": "code",
   "execution_count": 41,
   "id": "592bb9ce",
   "metadata": {},
   "outputs": [
    {
     "name": "stdout",
     "output_type": "stream",
     "text": [
      "<set_iterator object at 0x7f8940505900>\n",
      "1\n",
      "2\n",
      "3\n",
      "4\n",
      "5\n"
     ]
    },
    {
     "ename": "StopIteration",
     "evalue": "",
     "output_type": "error",
     "traceback": [
      "\u001b[0;31m---------------------------------------------------------------------------\u001b[0m",
      "\u001b[0;31mStopIteration\u001b[0m                             Traceback (most recent call last)",
      "Input \u001b[0;32mIn [41]\u001b[0m, in \u001b[0;36m<cell line: 9>\u001b[0;34m()\u001b[0m\n\u001b[1;32m      7\u001b[0m \u001b[38;5;28mprint\u001b[39m(\u001b[38;5;28mnext\u001b[39m(s_iter))\n\u001b[1;32m      8\u001b[0m \u001b[38;5;28mprint\u001b[39m(\u001b[38;5;28mnext\u001b[39m(s_iter))\n\u001b[0;32m----> 9\u001b[0m \u001b[38;5;28mprint\u001b[39m(\u001b[38;5;28;43mnext\u001b[39;49m\u001b[43m(\u001b[49m\u001b[43ms_iter\u001b[49m\u001b[43m)\u001b[49m)\n",
      "\u001b[0;31mStopIteration\u001b[0m: "
     ]
    }
   ],
   "source": [
    "s1 = {1, 2, 3, 4, 5}\n",
    "s_iter = iter(s1)\n",
    "print(s_iter)\n",
    "print(next(s_iter))\n",
    "print(next(s_iter))\n",
    "print(next(s_iter))\n",
    "print(next(s_iter))\n",
    "print(next(s_iter))\n",
    "print(next(s_iter))"
   ]
  },
  {
   "cell_type": "markdown",
   "id": "7d8cfed1",
   "metadata": {},
   "source": [
    "Отлично! мы по одному научились перебирать элементы из итерируемого объекта."
   ]
  },
  {
   "cell_type": "markdown",
   "id": "fcbf8cf7",
   "metadata": {},
   "source": [
    "\n",
    "Если же мы перепишем цикл **for** с помощью цикла **while**, используя индексы, то работать такой подход будет только с последовательностями:"
   ]
  },
  {
   "cell_type": "code",
   "execution_count": 44,
   "id": "cda443e6",
   "metadata": {},
   "outputs": [
    {
     "name": "stdout",
     "output_type": "stream",
     "text": [
      "3 0 9 \n"
     ]
    }
   ],
   "source": [
    "list_of_numbers = [3, 0, 9]\n",
    "index = -1\n",
    "\n",
    "while (index + 1 < len(list_of_numbers)):\n",
    "    index += 1\n",
    "    print(list_of_numbers[index], end = ' ')\n",
    "print()"
   ]
  },
  {
   "cell_type": "markdown",
   "id": "460c2564",
   "metadata": {},
   "source": [
    "А с итерируемыми объектами, последовательностями не являющимися, не будет (потому что в множестве к элементу по индексу не обращаются!):"
   ]
  },
  {
   "cell_type": "code",
   "execution_count": 45,
   "id": "a7ba15f0",
   "metadata": {},
   "outputs": [
    {
     "ename": "TypeError",
     "evalue": "'set' object is not subscriptable",
     "output_type": "error",
     "traceback": [
      "\u001b[0;31m---------------------------------------------------------------------------\u001b[0m",
      "\u001b[0;31mTypeError\u001b[0m                                 Traceback (most recent call last)",
      "Input \u001b[0;32mIn [45]\u001b[0m, in \u001b[0;36m<cell line: 4>\u001b[0;34m()\u001b[0m\n\u001b[1;32m      4\u001b[0m \u001b[38;5;28;01mwhile\u001b[39;00m (index \u001b[38;5;241m+\u001b[39m \u001b[38;5;241m1\u001b[39m \u001b[38;5;241m<\u001b[39m \u001b[38;5;28mlen\u001b[39m(set_of_numbers)):\n\u001b[1;32m      5\u001b[0m     index \u001b[38;5;241m+\u001b[39m\u001b[38;5;241m=\u001b[39m \u001b[38;5;241m1\u001b[39m\n\u001b[0;32m----> 6\u001b[0m     \u001b[38;5;28mprint\u001b[39m(\u001b[43mset_of_numbers\u001b[49m\u001b[43m[\u001b[49m\u001b[43mindex\u001b[49m\u001b[43m]\u001b[49m, end \u001b[38;5;241m=\u001b[39m \u001b[38;5;124m'\u001b[39m\u001b[38;5;124m \u001b[39m\u001b[38;5;124m'\u001b[39m)\n\u001b[1;32m      7\u001b[0m \u001b[38;5;28mprint\u001b[39m()\n",
      "\u001b[0;31mTypeError\u001b[0m: 'set' object is not subscriptable"
     ]
    }
   ],
   "source": [
    "set_of_numbers = {3, 0, 9}\n",
    "index = -1\n",
    "\n",
    "while (index + 1 < len(set_of_numbers)):\n",
    "    index += 1\n",
    "    print(set_of_numbers[index], end = ' ')\n",
    "print()"
   ]
  },
  {
   "cell_type": "markdown",
   "id": "20d0d6c4",
   "metadata": {},
   "source": [
    "Ну если уж прям совсем никак без индексации, то к любому итерируемому объекту можно применить функцию enumerate(), \\\n",
    "которая, как следует из названия, коллекцию занумерует. Здесь мы наделали кортежей вида (индекс, элемент)"
   ]
  },
  {
   "cell_type": "code",
   "execution_count": 48,
   "id": "2c2ba1f4",
   "metadata": {},
   "outputs": [
    {
     "name": "stdout",
     "output_type": "stream",
     "text": [
      "(0, 0)\n",
      "(1, 9)\n",
      "(2, 3)\n"
     ]
    }
   ],
   "source": [
    "set_of_numbers = {3, 0, 9}\n",
    "for i in enumerate(set_of_numbers):\n",
    "    print(i)"
   ]
  },
  {
   "cell_type": "code",
   "execution_count": 52,
   "id": "874cb461",
   "metadata": {},
   "outputs": [
    {
     "name": "stdout",
     "output_type": "stream",
     "text": [
      "0 0\n",
      "1 9\n",
      "2 3\n"
     ]
    }
   ],
   "source": [
    "set_of_numbers = {3, 0, 9}\n",
    "for index, value in enumerate(set_of_numbers):\n",
    "    print(index, value)"
   ]
  },
  {
   "cell_type": "code",
   "execution_count": 64,
   "id": "65852755",
   "metadata": {},
   "outputs": [
    {
     "name": "stdout",
     "output_type": "stream",
     "text": [
      "3 0 9 ***\n",
      "3 0 9 "
     ]
    }
   ],
   "source": [
    "l1 = [3, 0, 9]\n",
    "for i in l1:\n",
    "    print(i, end = ' ')\n",
    "print('***')\n",
    "for i in l1:\n",
    "    print(i, end = ' ')"
   ]
  },
  {
   "cell_type": "code",
   "execution_count": 69,
   "id": "2795971d",
   "metadata": {},
   "outputs": [
    {
     "name": "stdout",
     "output_type": "stream",
     "text": [
      "0\n",
      "9\n",
      "3\n",
      "end\n",
      "****\n",
      "end\n"
     ]
    }
   ],
   "source": [
    "set_of_numbers = {3, 0, 9} # --> list\n",
    "set_iterator = iter(set_of_numbers)\n",
    "\n",
    "while(True):\n",
    "    try:\n",
    "        print(next(set_iterator))\n",
    "    except:\n",
    "        print('end')\n",
    "        break\n",
    "print('****') \n",
    "# set_iterator = iter(set_of_numbers)\n",
    "while(True):\n",
    "    try:\n",
    "        print(next(set_iterator))\n",
    "    except:\n",
    "        print('end')\n",
    "        break"
   ]
  },
  {
   "cell_type": "code",
   "execution_count": 61,
   "id": "86f4301b",
   "metadata": {},
   "outputs": [
    {
     "name": "stdout",
     "output_type": "stream",
     "text": [
      "0\n",
      "1\n",
      "2\n",
      "3\n",
      "4\n",
      "end\n"
     ]
    }
   ],
   "source": [
    "i = 0\n",
    "while (i <= 4):\n",
    "    print(i)\n",
    "    i += 1\n",
    "else:\n",
    "    print('end')"
   ]
  },
  {
   "cell_type": "code",
   "execution_count": 67,
   "id": "00a11413",
   "metadata": {},
   "outputs": [
    {
     "name": "stdout",
     "output_type": "stream",
     "text": [
      "<set_iterator object at 0x7f894056bbc0>\n",
      "1\n",
      "2\n",
      "3\n",
      "4\n",
      "5\n"
     ]
    }
   ],
   "source": [
    "s1 = {1, 2, 3, 4, 5}\n",
    "s_iter = iter(s1)\n",
    "print(s_iter)\n",
    "print(next(s_iter))\n",
    "print(next(s_iter))\n",
    "print(next(s_iter))\n",
    "print(next(s_iter))\n",
    "print(next(s_iter))"
   ]
  },
  {
   "cell_type": "code",
   "execution_count": 68,
   "id": "b3acc00f",
   "metadata": {},
   "outputs": [
    {
     "name": "stdout",
     "output_type": "stream",
     "text": [
      "<set_iterator object at 0x7f894056bbc0>\n",
      "1\n",
      "1\n",
      "1\n",
      "1\n",
      "1\n"
     ]
    }
   ],
   "source": [
    "s1 = {1, 2, 3, 4, 5}\n",
    "print(s_iter)\n",
    "print(next(iter(s1)))\n",
    "print(next(iter(s1)))\n",
    "print(next(iter(s1)))\n",
    "print(next(iter(s1)))\n",
    "print(next(iter(s1)))"
   ]
  },
  {
   "cell_type": "markdown",
   "id": "8da377c1",
   "metadata": {},
   "source": [
    "Чтобы выдавать это в человеческом виде, можно прямо после for сказать, что мы \"итерируемся\" по индексам и объектам. \\\n",
    "Выглядит это следующим образом:"
   ]
  },
  {
   "cell_type": "markdown",
   "id": "2c97213e",
   "metadata": {},
   "source": [
    "### Немного умных слов об итераторах\n",
    "\n",
    "**Протокол итератора**\n",
    "\n",
    "Теперь формализуем протокол итератора целиком:\n",
    "\n",
    "* Чтобы получить итератор мы должны передать функции iter итерируемый объект.\n",
    "* Далее мы передаём итератор функции next.\n",
    "* Когда элементы в итераторе закончились, порождается исключение StopIteration. (Пока представим себе исключения, как объект специального типа, который генерируется в момент ошибки или какого-то терминального события. Например, они появляются, когда мы пытаемся делить на ноль или когда что-то напутали с типами)\n",
    "\n",
    "**Плюсы итераторов:**\n",
    "\n",
    "Итераторы работают \"лениво\" (en. lazy). А это значит, что они не выполняют какой-либо работы до тех пор, пока мы их об этом не попросим. А это классный функционал, потому что очень многие виды данных в память компьютера не помещаются, а \"ленивый\" итератор позволяет эти данные читать по кускам! Так, например, можно посчитать количество строк в текстовом файле на несколько гигабайт.\n",
    "\n",
    "Таким образом, мы можем оптимизировать потребление ресурсов ОЗУ и CPU, а так же создавать бесконечные последовательности."
   ]
  },
  {
   "cell_type": "markdown",
   "id": "da422969",
   "metadata": {},
   "source": [
    "<img src =\"https://files.realpython.com/media/t.ba63222d63f5.png\" alt =\"Test picture\" style=\"width: 300px;\"/>"
   ]
  },
  {
   "cell_type": "markdown",
   "id": "22322be8",
   "metadata": {},
   "source": [
    "\n",
    "На самом деле мы уже попробовали использовать цикл **for** на множествах и на списках. \\\n",
    "Теперь давайте систематически разберемся, как for используется с разными коллекциями"
   ]
  },
  {
   "cell_type": "markdown",
   "id": "7b72ab30",
   "metadata": {},
   "source": [
    "### Списки, строки, множества и кортежи"
   ]
  },
  {
   "cell_type": "markdown",
   "id": "6dce3fb9",
   "metadata": {},
   "source": [
    "В общем, по индексированным последовательностям мы уже ходить умеем. В списках и кортежах это проход по элементам (подряд),\\\n",
    "а в строках это проход по буквам (в порядке следования)."
   ]
  },
  {
   "cell_type": "code",
   "execution_count": 71,
   "id": "6a599eb7",
   "metadata": {},
   "outputs": [
    {
     "name": "stdout",
     "output_type": "stream",
     "text": [
      "[0, 1, 4, 9, 16]\n"
     ]
    }
   ],
   "source": [
    "l = [i * i for i in range(5)]\n",
    "print(l)"
   ]
  },
  {
   "cell_type": "code",
   "execution_count": 72,
   "id": "3de88a71",
   "metadata": {},
   "outputs": [
    {
     "name": "stdout",
     "output_type": "stream",
     "text": [
      "wqwertyuj\n",
      "w q w e r t y u j "
     ]
    }
   ],
   "source": [
    "l = 'wqwertyuj'\n",
    "print(l)\n",
    "for i in l:\n",
    "    print(i, end = ' ')"
   ]
  },
  {
   "cell_type": "markdown",
   "id": "e6cc2571",
   "metadata": {},
   "source": [
    "### Словари\n",
    "\n",
    "В случае словарей итерация (по умолчанию) происходит по ключам"
   ]
  },
  {
   "cell_type": "code",
   "execution_count": 73,
   "id": "cdb5fcd7",
   "metadata": {},
   "outputs": [
    {
     "name": "stdout",
     "output_type": "stream",
     "text": [
      "foo\n",
      "bar\n",
      "baz\n"
     ]
    }
   ],
   "source": [
    "d = {'foo':1, 'bar':2, 'baz':3}\n",
    "for k in d:\n",
    "    print(k)"
   ]
  },
  {
   "cell_type": "markdown",
   "id": "bb1305c4",
   "metadata": {},
   "source": [
    "Но по ключам можно вынимать и соответствующие значения"
   ]
  },
  {
   "cell_type": "code",
   "execution_count": 74,
   "id": "8ac8e66f",
   "metadata": {},
   "outputs": [
    {
     "name": "stdout",
     "output_type": "stream",
     "text": [
      "1\n",
      "2\n",
      "3\n"
     ]
    }
   ],
   "source": [
    "d = {'foo':1, 'bar':2, 'baz':3}\n",
    "for k in d:\n",
    "    print(d[k])"
   ]
  },
  {
   "cell_type": "markdown",
   "id": "cf34b169",
   "metadata": {},
   "source": [
    "Также можно напрямую указать, по чему мы итерируемся: по ключам, по значениям или по кортежам ключ-значение\\\n",
    "Помните методы **.values()** , **.keys()** и **.items()** ?"
   ]
  },
  {
   "cell_type": "code",
   "execution_count": 76,
   "id": "64b3bfd4",
   "metadata": {},
   "outputs": [
    {
     "name": "stdout",
     "output_type": "stream",
     "text": [
      "('foo', 1)\n",
      "('bar', 2)\n",
      "('baz', 3)\n"
     ]
    }
   ],
   "source": [
    "d = {'foo':1, 'bar':2, 'baz':3}\n",
    "for k in d.items():\n",
    "    print(k)"
   ]
  },
  {
   "cell_type": "code",
   "execution_count": 77,
   "id": "7881685b",
   "metadata": {},
   "outputs": [
    {
     "name": "stdout",
     "output_type": "stream",
     "text": [
      "foo\n",
      "bar\n",
      "baz\n"
     ]
    }
   ],
   "source": [
    "d = {'foo':1, 'bar':2, 'baz':3}\n",
    "for k in d.keys():\n",
    "    print(k)"
   ]
  },
  {
   "cell_type": "code",
   "execution_count": 78,
   "id": "cf593ca0",
   "metadata": {},
   "outputs": [
    {
     "name": "stdout",
     "output_type": "stream",
     "text": [
      "1\n",
      "2\n",
      "3\n"
     ]
    }
   ],
   "source": [
    "d = {'foo':1, 'bar':2, 'baz':3}\n",
    "for k in d.values():\n",
    "    print(k)"
   ]
  },
  {
   "cell_type": "markdown",
   "id": "51a50f85",
   "metadata": {},
   "source": [
    "А еще можно \"распаковать\" эти кортежи-ключ значения (примерно так же, как мы сделали для **enumerate**)"
   ]
  },
  {
   "cell_type": "code",
   "execution_count": 81,
   "id": "3398c71f",
   "metadata": {},
   "outputs": [
    {
     "name": "stdout",
     "output_type": "stream",
     "text": [
      "(4, 'foo')\n",
      "(5, 'bar')\n",
      "(6, 'baz')\n"
     ]
    }
   ],
   "source": [
    "d = {'foo':10, 'bar':20, 'baz':30}\n",
    "for k in enumerate(d, 4):\n",
    "    print(k)"
   ]
  },
  {
   "cell_type": "markdown",
   "id": "b3a59e1c",
   "metadata": {},
   "source": [
    "Перед тем, как начать решать какие-то задачи, остается упомянуть крайне полезную функцию **range()**. \\\n",
    "Простыми словами, **range()** позволяет вам генерировать ряд чисел в рамках заданного диапазона. В зависимости от того, как много аргументов вы передаете функции, вы можете решить, где этот ряд чисел начнется и закончится, а также насколько велика разница будет между двумя числами."
   ]
  },
  {
   "cell_type": "markdown",
   "id": "6a1dc3ce",
   "metadata": {},
   "source": [
    "Есть три способа вызова **range()**:\n",
    "\n",
    "* **range(стоп)** берет один аргумент\n",
    "* **range(старт, стоп)** берет два аргумента\n",
    "* **range(старт, стоп, шаг)** берет три аргумента\n",
    "\n",
    "На деле **range()** возвращает \"ленивый\" итерируемый объект (Да, сейчас что-то сложно). Понимать надо следующее: \n",
    "* По range() можно итерироваться (значит это итерируемый объект)\n",
    "* range() не держит все свои объекты в памяти, а достает их \"по требованию\" (прям как итератор!)\n",
    "* Но есть и ряд отличий, который делает range() похожим на последовательности (списки, кортежи и строки)"
   ]
  },
  {
   "cell_type": "code",
   "execution_count": 82,
   "id": "783d11e6",
   "metadata": {},
   "outputs": [
    {
     "name": "stdout",
     "output_type": "stream",
     "text": [
      "10 12 14 16 18 20 "
     ]
    }
   ],
   "source": [
    "for i in range(10, 21, 2):\n",
    "    print(i, end = ' ')"
   ]
  },
  {
   "cell_type": "markdown",
   "id": "3c318daf",
   "metadata": {},
   "source": [
    "Шаг здесь может быть положительным или отрицательным числом, но не может быть нулем! Отрицательное число будет означать уменьшение аргумента, то есть:"
   ]
  },
  {
   "cell_type": "code",
   "execution_count": 83,
   "id": "7b93207e",
   "metadata": {},
   "outputs": [
    {
     "ename": "ValueError",
     "evalue": "range() arg 3 must not be zero",
     "output_type": "error",
     "traceback": [
      "\u001b[0;31m---------------------------------------------------------------------------\u001b[0m",
      "\u001b[0;31mValueError\u001b[0m                                Traceback (most recent call last)",
      "Input \u001b[0;32mIn [83]\u001b[0m, in \u001b[0;36m<cell line: 1>\u001b[0;34m()\u001b[0m\n\u001b[0;32m----> 1\u001b[0m \u001b[38;5;28;01mfor\u001b[39;00m i \u001b[38;5;129;01min\u001b[39;00m \u001b[38;5;28;43mrange\u001b[39;49m\u001b[43m(\u001b[49m\u001b[38;5;241;43m10\u001b[39;49m\u001b[43m,\u001b[49m\u001b[43m \u001b[49m\u001b[38;5;241;43m21\u001b[39;49m\u001b[43m,\u001b[49m\u001b[43m \u001b[49m\u001b[38;5;241;43m0\u001b[39;49m\u001b[43m)\u001b[49m:\n\u001b[1;32m      2\u001b[0m     \u001b[38;5;28mprint\u001b[39m(i, end \u001b[38;5;241m=\u001b[39m \u001b[38;5;124m'\u001b[39m\u001b[38;5;124m \u001b[39m\u001b[38;5;124m'\u001b[39m)\n",
      "\u001b[0;31mValueError\u001b[0m: range() arg 3 must not be zero"
     ]
    }
   ],
   "source": [
    "for i in range(10, 21, 0):\n",
    "    print(i, end = ' ')"
   ]
  },
  {
   "cell_type": "markdown",
   "id": "a3551263",
   "metadata": {},
   "source": [
    "А теперь отличие от итераторов! У range можно обратиться к элементу или даже срезу (как в списках)"
   ]
  },
  {
   "cell_type": "code",
   "execution_count": 84,
   "id": "0bfac1a2",
   "metadata": {},
   "outputs": [
    {
     "name": "stdout",
     "output_type": "stream",
     "text": [
      "0\n"
     ]
    }
   ],
   "source": [
    "print(range(10)[0])"
   ]
  },
  {
   "cell_type": "markdown",
   "id": "d4e1815d",
   "metadata": {},
   "source": [
    "### Задача 1\n",
    "\n",
    "Напишите программу, которая принимает на вход строку и подсчитывает количество гласных (а, е, и, й, о, у, я) в строке с помощью цикла for. Выведите окончательный результат."
   ]
  },
  {
   "cell_type": "code",
   "execution_count": 85,
   "id": "32373df5",
   "metadata": {},
   "outputs": [
    {
     "name": "stdout",
     "output_type": "stream",
     "text": [
      "мама мыла раму\n",
      "6\n"
     ]
    }
   ],
   "source": [
    "string = input()\n",
    "vowels = ['а', 'е', 'и', 'о', 'ы', 'у', 'э','ю','я']\n",
    "\n",
    "count = 0\n",
    "for char in string:\n",
    "    if (char in vowels):\n",
    "        count += 1\n",
    "print(count)"
   ]
  },
  {
   "cell_type": "code",
   "execution_count": 86,
   "id": "81ace211",
   "metadata": {},
   "outputs": [
    {
     "name": "stdout",
     "output_type": "stream",
     "text": [
      "мама мыла раму\n",
      "6\n"
     ]
    }
   ],
   "source": [
    "string = input()\n",
    "vowels = ['а', 'е', 'и', 'о', 'ы', 'у', 'э','ю','я']\n",
    "\n",
    "count = 0\n",
    "for char in string:\n",
    "    for vowel in vowels:\n",
    "        if (char == vowel):\n",
    "            count += 1\n",
    "            break\n",
    "print(count)"
   ]
  },
  {
   "cell_type": "markdown",
   "id": "a5d993c8",
   "metadata": {},
   "source": [
    "### Задача 2\n",
    "\n",
    "Напишите программу, которая принимает на вход целое число и печатает шаблон из звездочек (\\*) с помощью цикла for. Шаблон должен начинаться с одной звездочки и увеличиваться на одну звездочку в каждой строке. Например, если на вход подано 5, программа должна вывести:\n",
    "\n",
    "    *\n",
    "    **\n",
    "    ***\n",
    "    ****\n",
    "    *****"
   ]
  },
  {
   "cell_type": "code",
   "execution_count": 87,
   "id": "2e6d2445",
   "metadata": {},
   "outputs": [
    {
     "name": "stdout",
     "output_type": "stream",
     "text": [
      "4\n",
      "*\n",
      "**\n",
      "***\n",
      "****\n"
     ]
    }
   ],
   "source": [
    "n = int(input())\n",
    "\n",
    "for i in range(1, n + 1):\n",
    "    print('*' * i)"
   ]
  },
  {
   "cell_type": "markdown",
   "id": "ae05d1e3",
   "metadata": {},
   "source": [
    "### Задача 3\n",
    "\n",
    "Напишите программу, которая вычисляет средний балл студентов с помощью цикла for. Затем программа должна вывести имя каждого студента вместе с характеристикой его оценки (Отлично; Хорошо; Удовлетворительно; Неудовлетворительно) на основе среднего балла. \n",
    "\n",
    "8-10 – Отлично \\\n",
    "6-7 – Хорошо \\\n",
    "4-5 – Удовлетворительно \\\n",
    "0-3 – Неудовлетворительно"
   ]
  },
  {
   "cell_type": "code",
   "execution_count": 95,
   "id": "90480053",
   "metadata": {},
   "outputs": [
    {
     "name": "stdout",
     "output_type": "stream",
     "text": [
      "Маша : 6.64 : хорошо\n",
      "Миша : 3.64 : удовлетворительно\n",
      "Глаша : 4.27 : удовлетворительно\n",
      "Иван : 5.18 : удовлетворительно\n",
      "Наталья : 7.82 : отлично\n"
     ]
    }
   ],
   "source": [
    "students = {\n",
    "    \"Маша\": [8, 8, 5, 7, 10, 1, 8, 1, 9, 7, 9],\n",
    "    \"Миша\": [1, 1, 2, 3, 2, 5, 1, 9, 10, 2, 4],\n",
    "    \"Глаша\": [5, 3, 8, 4, 1, 1, 1, 5, 7, 10, 2],\n",
    "    \"Иван\": [3, 4, 6, 6, 3, 3, 10, 9, 4, 6, 3],\n",
    "    \"Наталья\": [8, 10, 8, 10, 4, 8, 10, 7, 5, 10, 6]\n",
    "}\n",
    "\n",
    "for key, value in students.items():\n",
    "    average = sum(value) / len(value)\n",
    "    characteristic = ''\n",
    "    if 0 < average < 3.5:\n",
    "        characteristic = 'неудовлетворительно'\n",
    "    elif 3.5 <= average < 5.5:\n",
    "        characteristic = 'удовлетворительно'\n",
    "    elif 5.5 <= average < 7.5:\n",
    "        characteristic = 'хорошо'\n",
    "    else:\n",
    "        characteristic = 'отлично'\n",
    "    print(f'{key} : {average:.2f} : {characteristic}')"
   ]
  },
  {
   "cell_type": "code",
   "execution_count": 99,
   "id": "ee064cdf",
   "metadata": {},
   "outputs": [
    {
     "name": "stdout",
     "output_type": "stream",
     "text": [
      "Маша : 7 : хорошо\n",
      "Миша : 4 : удовлетворительно\n",
      "Глаша : 4 : удовлетворительно\n",
      "Иван : 5 : удовлетворительно\n",
      "Наталья : 8 : отлично\n"
     ]
    }
   ],
   "source": [
    "students = {\n",
    "    \"Маша\": [8, 8, 5, 7, 10, 1, 8, 1, 9, 7, 9],\n",
    "    \"Миша\": [1, 1, 2, 3, 2, 5, 1, 9, 10, 2, 4],\n",
    "    \"Глаша\": [5, 3, 8, 4, 1, 1, 1, 5, 7, 10, 2],\n",
    "    \"Иван\": [3, 4, 6, 6, 3, 3, 10, 9, 4, 6, 3],\n",
    "    \"Наталья\": [8, 10, 8, 10, 4, 8, 10, 7, 5, 10, 6]\n",
    "}\n",
    "\n",
    "for key, value in students.items():\n",
    "    average = int(round(sum(value) / len(value), 0))\n",
    "    characteristic = ''\n",
    "    if average in range(0, 4):\n",
    "        characteristic = 'неудовлетворительно'\n",
    "    elif average in range(4, 6):\n",
    "        characteristic = 'удовлетворительно'\n",
    "    elif average in range(6, 8):\n",
    "        characteristic = 'хорошо'\n",
    "    else:\n",
    "        characteristic = 'отлично'\n",
    "    print(f'{key} : {average} : {characteristic}')"
   ]
  },
  {
   "cell_type": "markdown",
   "id": "be0b83e2",
   "metadata": {},
   "source": [
    "## Генераторы списков и списковые включения aka List Comprehensions\n",
    "Этот элемент языка считается его \"визитной карточкой\". Это своего рода метод быстро создать новый список, не применяя цикл for. Пусть мы, к примеру, хотим создать список с числами от 0 до 20"
   ]
  },
  {
   "cell_type": "code",
   "execution_count": 101,
   "id": "9d96757c",
   "metadata": {},
   "outputs": [
    {
     "data": {
      "text/plain": [
       "[0, 1, 2, 3, 4, 5, 6, 7, 8, 9, 10, 11, 12, 13, 14, 15, 16, 17, 18, 19]"
      ]
     },
     "execution_count": 101,
     "metadata": {},
     "output_type": "execute_result"
    }
   ],
   "source": [
    "a = []\n",
    "for i in range(20):\n",
    "    a.append(i)\n",
    "a"
   ]
  },
  {
   "cell_type": "markdown",
   "id": "4182b250",
   "metadata": {},
   "source": [
    "Это же выражение можно записать с помощью спискового включения"
   ]
  },
  {
   "cell_type": "code",
   "execution_count": 102,
   "id": "f033fec0",
   "metadata": {},
   "outputs": [
    {
     "data": {
      "text/plain": [
       "list"
      ]
     },
     "execution_count": 102,
     "metadata": {},
     "output_type": "execute_result"
    }
   ],
   "source": [
    "a = [i for i in range(20)]\n",
    "type(a)"
   ]
  },
  {
   "cell_type": "code",
   "execution_count": 103,
   "id": "ec0b06aa",
   "metadata": {},
   "outputs": [
    {
     "data": {
      "text/plain": [
       "[0, 1, 2, 3, 4, 5, 6, 7, 8, 9, 10, 11, 12, 13, 14, 15, 16, 17, 18, 19]"
      ]
     },
     "execution_count": 103,
     "metadata": {},
     "output_type": "execute_result"
    }
   ],
   "source": [
    "a"
   ]
  },
  {
   "cell_type": "markdown",
   "id": "2413087a",
   "metadata": {},
   "source": [
    "Что мы видим? Во-первых, на выходе такой конструкцими мы получили лист (конечно, это же СПИСКОВОЕ включение). А во-вторых, все написано в одну строчку и, кажется, следует вот такой конструкции:\n",
    "\n",
    "**new_list** = [**expression** for **member** in **iterable**]\n",
    "\n",
    "1. **expression** какое либо вычисление, вызов метода или любое другое допустимое выражение, которое возвращает значение. \n",
    "2. **member** является объектом или значением в списке или итерируемым объекте (iterable). \n",
    "3. **iterable** список, множество, последовательность, генератор или любой другой объект, который может возвращать свои элементы по одному.\n",
    "\n",
    "Одним из основных преимуществ использования является то, что это единственный инструмент, который вы можете использовать в самых разных ситуациях. В дополнение к созданию стандартного списка, списки могут также использоваться для отображения и фильтрации. Вам не нужно использовать разные подходы для каждого сценария. Например, можно в раздел **expression** поставить функцию str(), которая превратит каждый элемент исходного списка в строку."
   ]
  },
  {
   "cell_type": "code",
   "execution_count": 105,
   "id": "d14fe946",
   "metadata": {},
   "outputs": [
    {
     "data": {
      "text/plain": [
       "['1', '2', '3', '4', '5', '10', '40', '50', '100']"
      ]
     },
     "execution_count": 105,
     "metadata": {},
     "output_type": "execute_result"
    }
   ],
   "source": [
    "l = [1, 2, 3, 4, 5, 10, 40, 50, 100]\n",
    "sl = [str(i) for i in l]\n",
    "sl"
   ]
  },
  {
   "cell_type": "markdown",
   "id": "5b01db20",
   "metadata": {},
   "source": [
    "Но и это еще не все. В списковое включение можно добавить какое нибудь условие (как мы это делали с **if**). Выглядеть это будет так:\n",
    "\n",
    "**new_list** = [**expression** for **member** in **iterable** (if **conditional**)]\n",
    "\n",
    "Разберем на примере:"
   ]
  },
  {
   "cell_type": "code",
   "execution_count": 109,
   "id": "cac76aa4",
   "metadata": {},
   "outputs": [
    {
     "name": "stdout",
     "output_type": "stream",
     "text": [
      "мама мыла раму\n",
      "['а', 'а', 'ы', 'а', 'а', 'у']\n"
     ]
    }
   ],
   "source": [
    "string = input()\n",
    "vowels = ['а', 'е', 'и', 'о', 'ы', 'у', 'э','ю','я']\n",
    "\n",
    "lvowels = []\n",
    "for char in string:\n",
    "    if char in vowels:\n",
    "        lvowels.append(char)\n",
    "print(lvowels)"
   ]
  },
  {
   "cell_type": "code",
   "execution_count": 107,
   "id": "e2658fca",
   "metadata": {},
   "outputs": [
    {
     "name": "stdout",
     "output_type": "stream",
     "text": [
      "мама мыла раму\n",
      "['а', 'а', 'ы', 'а', 'а', 'у']\n"
     ]
    }
   ],
   "source": [
    "string = input()\n",
    "vowels = ['а', 'е', 'и', 'о', 'ы', 'у', 'э','ю','я']\n",
    "\n",
    "lvowels = [char for char in string if char in vowels]\n",
    "print(lvowels)"
   ]
  },
  {
   "cell_type": "markdown",
   "id": "e5be72d9",
   "metadata": {},
   "source": [
    "Более того - не зря в условии написано iterable, а не list. Значит можно попробовать проделать что-то подобное с любыми другими итерируемыми объектами. с кортежами все точно должно получиться:"
   ]
  },
  {
   "cell_type": "code",
   "execution_count": 118,
   "id": "e72c9dd6",
   "metadata": {},
   "outputs": [
    {
     "name": "stdout",
     "output_type": "stream",
     "text": [
      "{'t', 'r', 's', 'k', '\\n', 'n', 'w', 'c', 'm', 'h', 'b', 'f', 'd'}\n"
     ]
    }
   ],
   "source": [
    "# Предложение\n",
    "sentence = '''The rocket, who was named Ted, came back  \n",
    "            from Mars because he missed his friends.'''\n",
    "\n",
    "# Гласные английского языка и пробел\n",
    "vowels = 'aeiou ,.!?'\n",
    "\n",
    "sentence = sentence.lower()\n",
    "\n",
    "uniqie = {char for char in sentence if char not in vowels}\n",
    "\n",
    "print(uniqie)"
   ]
  },
  {
   "cell_type": "markdown",
   "id": "9c65ffce",
   "metadata": {},
   "source": [
    "Мы уже поняли, что можно поместить условие в конец оператора для простой фильтрации, но что, если хочется изменить значение элемента вместо его фильтрации? В этом случае полезно поместить условное выражение в начале выражения. Выглядит это вот так:\n",
    "\n",
    "**new_list** = [**expression** (if **conditional**) for **member** in **iterable**]\n",
    "\n",
    "С помощью этого шаблона можно, например, использовать условную логику для выбора из нескольких возможных вариантов вывода. Допустим, у вас есть список цен, можно заменить отрицательные цены (это могут быть какие-то ошибки логирования) на 0 и оставить положительные значения без изменений:"
   ]
  },
  {
   "cell_type": "code",
   "execution_count": 116,
   "id": "e51cf1bd",
   "metadata": {},
   "outputs": [
    {
     "data": {
      "text/plain": [
       "[1.25, 0, 10.22, 3.78, 0, 1.16]"
      ]
     },
     "execution_count": 116,
     "metadata": {},
     "output_type": "execute_result"
    }
   ],
   "source": [
    "original_prices = [1.25, -9.45, 10.22, 3.78, -5.92, 1.16]\n",
    "prices = [i if i > 0 else 0 for i in original_prices]\n",
    "prices"
   ]
  },
  {
   "cell_type": "markdown",
   "id": "537cf0a8",
   "metadata": {},
   "source": [
    "Здесь, наше выражение **i** содержит условный оператор, **if i> 0** else **0**. Это говорит Python выводить значение **i**, если число положительное, но менять **i** на **0**, если число отрицательное."
   ]
  },
  {
   "cell_type": "markdown",
   "id": "f961d700",
   "metadata": {},
   "source": [
    "### Включения для множеств и словарей"
   ]
  },
  {
   "cell_type": "markdown",
   "id": "b61bd0d7",
   "metadata": {},
   "source": [
    "Хотя **list comprehension** в Python является распространенным инструментом, вы также можете создавать множественные и словарные представления (**set and dictionary comprehensions**). **set comprehension** почти точно такое же, как представление списка. Разница лишь в том, что заданные значения обеспечивают, чтобы выходные данные не содержали дубликатов. Вы можете создать **set comprehension**, используя фигурные скобки вместо скобок:"
   ]
  },
  {
   "cell_type": "code",
   "execution_count": 117,
   "id": "f7a2b663",
   "metadata": {},
   "outputs": [
    {
     "data": {
      "text/plain": [
       "{'a', 'e', 'i', 'u'}"
      ]
     },
     "execution_count": 117,
     "metadata": {},
     "output_type": "execute_result"
    }
   ],
   "source": [
    "quote = \"life, uh, finds a way\"\n",
    "unique_vowels = {i for i in quote if i in 'aeiou'}\n",
    "unique_vowels"
   ]
  },
  {
   "cell_type": "markdown",
   "id": "82c40268",
   "metadata": {},
   "source": [
    "Здесь мы вывели все уникальные гласные, которые встретились в строке"
   ]
  },
  {
   "cell_type": "markdown",
   "id": "26ad977e",
   "metadata": {},
   "source": [
    "**Dictionary comprehensions** , по сути, работает так же, но с дополнительным требованием определения ключа. Ключ отделяется двоеточием.\n"
   ]
  },
  {
   "cell_type": "code",
   "execution_count": 120,
   "id": "37073c69",
   "metadata": {},
   "outputs": [
    {
     "data": {
      "text/plain": [
       "{0: 0, 1: 1, 2: 4, 3: 9, 4: 16, 5: 25, 6: 36, 7: 49, 8: 64, 9: 81}"
      ]
     },
     "execution_count": 120,
     "metadata": {},
     "output_type": "execute_result"
    }
   ],
   "source": [
    "squares = {i: i * i for i in range(10)}\n",
    "squares"
   ]
  },
  {
   "cell_type": "code",
   "execution_count": 121,
   "id": "80d9dfc7",
   "metadata": {},
   "outputs": [
    {
     "data": {
      "text/plain": [
       "{4: 'life', 2: 'uh', 5: 'finds', 1: 'a', 3: 'way'}"
      ]
     },
     "execution_count": 121,
     "metadata": {},
     "output_type": "execute_result"
    }
   ],
   "source": [
    "s = ['life', 'uh', 'finds', 'a', 'way']\n",
    "d = {len(word):word for word in s}\n",
    "d"
   ]
  },
  {
   "cell_type": "markdown",
   "id": "83a35b2a",
   "metadata": {},
   "source": [
    "### Задача 1\n",
    "\n",
    "Алиса хочет подготовить список покупок для похода в магазин за продуктами. У нее есть список товаров, которые она хочет купить, и она хочет отсеять товары, которых нет в наличии в магазине. Используйте list comprehension, чтобы помочь Алисе составить новый список товаров, которые можно купить в магазине."
   ]
  },
  {
   "cell_type": "code",
   "execution_count": 122,
   "id": "7ac28286",
   "metadata": {},
   "outputs": [
    {
     "name": "stdout",
     "output_type": "stream",
     "text": [
      "['молоко', 'хлеб', 'йогурт', 'апельсины']\n"
     ]
    }
   ],
   "source": [
    "items_to_buy = ['молоко', 'яйца', 'хлеб', 'сыр', 'йогурт', 'яблоки', 'апельсины']\n",
    "available_items = ['молоко', 'хлеб', 'йогурт', 'апельсины']\n",
    "\n",
    "to_buy = [item for item in items_to_buy if item in available_items]\n",
    "print(to_buy)"
   ]
  },
  {
   "cell_type": "markdown",
   "id": "1c57ed01",
   "metadata": {},
   "source": [
    "### Задача 2\n",
    "\n",
    "Менеджер магазина хочет рассчитать общий объем продаж каждого товара за месяц. У него есть список продуктов и их ежедневных продаж за этот месяц. Используйте dictionary comprehension, чтобы помочь менеджеру создать новый словарь, содержащий данные об общем объеме продаж каждого продукта."
   ]
  },
  {
   "cell_type": "code",
   "execution_count": 141,
   "id": "f368c2f3",
   "metadata": {},
   "outputs": [
    {
     "name": "stdout",
     "output_type": "stream",
     "text": [
      "{'яблоко': 15, 'черешня': 25, 'банан': 25, 'вишня': 20, 'арбуз': 3}\n"
     ]
    }
   ],
   "source": [
    "product_sales = [('яблоко', 10), ('черешня', 5), ('банан', 15), \n",
    "                 ('вишня', 20), ('арбуз', 1), ('яблоко', 5), \n",
    "                 ('банан', 10), ('черешня', 20), ('арбуз', 2)]\n",
    "\n",
    "total = {k: sum([price for name, price in product_sales if name == k])\n",
    "         for k, v in product_sales}\n",
    "print(total)"
   ]
  }
 ],
 "metadata": {
  "kernelspec": {
   "display_name": "Python 3 (ipykernel)",
   "language": "python",
   "name": "python3"
  },
  "language_info": {
   "codemirror_mode": {
    "name": "ipython",
    "version": 3
   },
   "file_extension": ".py",
   "mimetype": "text/x-python",
   "name": "python",
   "nbconvert_exporter": "python",
   "pygments_lexer": "ipython3",
   "version": "3.9.12"
  }
 },
 "nbformat": 4,
 "nbformat_minor": 5
}
