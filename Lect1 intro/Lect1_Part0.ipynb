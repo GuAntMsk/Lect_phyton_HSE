{
 "cells": [
  {
   "cell_type": "markdown",
   "metadata": {
    "id": "CHRCnUFGcrb-"
   },
   "source": [
    "# Первый семинар. Знакомство\n"
   ]
  },
  {
   "cell_type": "markdown",
   "metadata": {
    "id": "d6XMtnzrcrcE"
   },
   "source": [
    "# Установка Python 3 и среды разработки PyCharm"
   ]
  },
  {
   "cell_type": "markdown",
   "metadata": {
    "id": "TeRBjJEbcrb_"
   },
   "source": [
    "\n",
    "## IDE\n",
    "\n",
    "**Интегрированная среда разработки** (англ. **IDE**, Integrated Development Environment или Integrated Debugging Environment) — система программных средств, используемая программистами для разработки программного обеспечения (ПО).\n",
    "\n",
    "Обычно среда разработки включает в себя:\n",
    "\n",
    "*    текстовый редактор;\n",
    "*    компилятор и / или интерпретатор;\n",
    "*    средства автоматизации сборки;\n",
    "*    debug\n",
    "\n",
    "Часто IDE завязана на определенный язык программирования или на набор схожих. Например, CLion от JetBrains.\n",
    "\n",
    "На данном курсе вам предлагается поработать в среде Pycharm Community Edition от компании JetBrains. Также простые скрипты удобно запускать во встроенной среде разработки для Python, которая называется IDLE"
   ]
  },
  {
   "cell_type": "markdown",
   "metadata": {
    "id": "61WIkiNLcrcD"
   },
   "source": [
    "Так как Python - интерпретируемый язык программирования, для работы с ним можно использовать интерактивную оболочку.\n",
    "Одной из таких оболочек является **IPython** - мощный инструмент для работы с языком Python с широким набором возможностей. \n",
    "Отличительная особенность - IPython позволяет подключаться множеству клиентов к одному вычислительному ядру и, благодаря своей архитектуре, может работать в параллельном кластере."
   ]
  },
  {
   "cell_type": "markdown",
   "metadata": {
    "ExecuteTime": {
     "end_time": "2022-09-08T09:24:27.560160Z",
     "start_time": "2022-09-08T09:24:27.554316Z"
    }
   },
   "source": [
    "## Установка интерпретатора языка Python"
   ]
  },
  {
   "cell_type": "markdown",
   "metadata": {
    "ExecuteTime": {
     "end_time": "2022-09-08T09:25:10.780993Z",
     "start_time": "2022-09-08T09:25:10.775037Z"
    }
   },
   "source": [
    "Установить интерпретатор языка Python 3 версии отсюда: https://www.python.org/\n",
    "        \n",
    "Существует сборка библиотек **Anaconda**, которая включает в себя интерпретатор языка Python (есть версии 2 и 3), набор наиболее часто используемых и полезных в анализе данных библиотек и Jupyter Notebook. Такие ~~тетрадки~~ ноутбучки можно в т.ч. экспортировать в html/pdf \n",
    "\n",
    "https://www.anaconda.com/products/distribution\n",
    "\n",
    "После этого нужно перейти в командную строку и установить сам ноутбук. В этом поможет специальная утилита — pip. С помощью неё можно распаковать, установить или обновить программы, в том числе и Jupyter. Утилита загружается на компьютер вместе с Python. Чтобы установить ноутбук, надо ввести команду:\n",
    "\n",
    "pip install notebook\n",
    "\n"
   ]
  },
  {
   "cell_type": "markdown",
   "metadata": {
    "id": "nPRL6tvCcrcF"
   },
   "source": [
    "## Среда разработки PyCharm\n",
    "\n",
    "\n",
    "Будем устанавливать среду программирования JetBrains PyCharm (Community) отсюда: https://www.jetbrains.com/pycharm/download\n",
    "\n",
    "Также можно установить Education Edition (там есть tutorial) https://www.jetbrains.com/pycharm-edu/\n",
    "\n",
    "* IDE доступна для Windows, Linux и MacOS. \n",
    "* Существуют два вида лицензии PyCharm – это Professional и Community. Мы будем использовать версию Community, так как она бесплатна и её функционала более чем достаточно для наших задач. \n",
    "* Для студентов по студенческой почте можно получить и более полную версию.\n",
    "\n",
    "\n",
    "У JetBrains есть хорошая [документация](https://www.jetbrains.com/help/pycharm/quick-start-guide.html) "
   ]
  },
  {
   "cell_type": "markdown",
   "metadata": {},
   "source": [
    "## Запуск первого кода"
   ]
  },
  {
   "cell_type": "markdown",
   "metadata": {},
   "source": [
    "- Создаем новый проект в PyCharm: File - New Project\n",
    "- В меню Run - Edit Configurations выбираем наш интерпретатор\n",
    "- Можно запускать по нажатию на зеленую стрелочку или комбинацией клавиш (по умолчанию Shift-F10)\n",
    "\n",
    "Добавление нового интерпретатора:\n",
    "- Ctrl-Alt-S (шорткат для вызова настроек в PyCharm) -- имя вашего проекта\n",
    "- Клик на \"Python Interpreter\"\n",
    "- Клик на \"шестеренку\" -- add"
   ]
  }
 ],
 "metadata": {
  "colab": {
   "collapsed_sections": [],
   "name": "Copy of Hello world_08.09.2021.ipynb",
   "provenance": [],
   "toc_visible": true
  },
  "kernelspec": {
   "display_name": "Python 3 (ipykernel)",
   "language": "python",
   "name": "python3"
  },
  "language_info": {
   "codemirror_mode": {
    "name": "ipython",
    "version": 3
   },
   "file_extension": ".py",
   "mimetype": "text/x-python",
   "name": "python",
   "nbconvert_exporter": "python",
   "pygments_lexer": "ipython3",
   "version": "3.9.12"
  },
  "latex_envs": {
   "LaTeX_envs_menu_present": true,
   "autoclose": false,
   "autocomplete": true,
   "bibliofile": "biblio.bib",
   "cite_by": "apalike",
   "current_citInitial": 1,
   "eqLabelWithNumbers": true,
   "eqNumInitial": 1,
   "hotkeys": {
    "equation": "Ctrl-E",
    "itemize": "Ctrl-I"
   },
   "labels_anchors": false,
   "latex_user_defs": false,
   "report_style_numbering": false,
   "user_envs_cfg": false
  },
  "toc": {
   "base_numbering": 1,
   "nav_menu": {},
   "number_sections": true,
   "sideBar": true,
   "skip_h1_title": false,
   "title_cell": "Table of Contents",
   "title_sidebar": "Contents",
   "toc_cell": false,
   "toc_position": {
    "height": "calc(100% - 180px)",
    "left": "10px",
    "top": "150px",
    "width": "261.578px"
   },
   "toc_section_display": true,
   "toc_window_display": true
  },
  "varInspector": {
   "cols": {
    "lenName": 16,
    "lenType": 16,
    "lenVar": 40
   },
   "kernels_config": {
    "python": {
     "delete_cmd_postfix": "",
     "delete_cmd_prefix": "del ",
     "library": "var_list.py",
     "varRefreshCmd": "print(var_dic_list())"
    },
    "r": {
     "delete_cmd_postfix": ") ",
     "delete_cmd_prefix": "rm(",
     "library": "var_list.r",
     "varRefreshCmd": "cat(var_dic_list()) "
    }
   },
   "types_to_exclude": [
    "module",
    "function",
    "builtin_function_or_method",
    "instance",
    "_Feature"
   ],
   "window_display": false
  }
 },
 "nbformat": 4,
 "nbformat_minor": 4
}
