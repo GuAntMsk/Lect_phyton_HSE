{
 "cells": [
  {
   "cell_type": "markdown",
   "id": "3f79b619",
   "metadata": {},
   "source": [
    "# Практика\n",
    "\n",
    "## Работа с API портала открытых данных Правительства Москвы \n",
    "\n",
    "https://data.mos.ru/ \\\n",
    "https://apidata.mos.ru/Docs"
   ]
  },
  {
   "cell_type": "markdown",
   "id": "e8f41fc9",
   "metadata": {},
   "source": [
    "Первым делом создадим аккаунт на портале и получим токен. Для этого зайдем на страницу https://apidata.mos.ru/Account/Login, выберем \"Зарегистрироваться\".\n",
    "\n",
    "При входе в аккаунт нужно нажать на панели меню вверху «Привет <ваш юзернейм>!». В разделе \"Управление профилем\" наверху появится ваш API-ключ."
   ]
  },
  {
   "cell_type": "code",
   "execution_count": null,
   "id": "52011b15",
   "metadata": {},
   "outputs": [],
   "source": [
    "import requests\n",
    "from bs4 import BeautifulSoup\n",
    "import json"
   ]
  },
  {
   "cell_type": "code",
   "execution_count": null,
   "id": "b9bad2e3",
   "metadata": {},
   "outputs": [],
   "source": [
    "KEY = '4fc93566-5f46-4fcc-a4e9-f0de9c6ad429'"
   ]
  },
  {
   "cell_type": "code",
   "execution_count": null,
   "id": "6cf173d7",
   "metadata": {},
   "outputs": [],
   "source": [
    "from api_key_datamos import KEY # кладем наш ключ в отдельный файл и импортируем оттуда в качестве переменной"
   ]
  },
  {
   "cell_type": "code",
   "execution_count": null,
   "id": "f9a21955",
   "metadata": {},
   "outputs": [],
   "source": [
    "page = requests.get(f'https://apidata.mos.ru/v1/datasets?api_key=4fc93566-5f46-4fcc-a4e9-f0de9c6ad429')\n",
    "page"
   ]
  },
  {
   "cell_type": "code",
   "execution_count": null,
   "id": "c234204e",
   "metadata": {},
   "outputs": [],
   "source": [
    "page.text"
   ]
  },
  {
   "cell_type": "code",
   "execution_count": null,
   "id": "7944dd07",
   "metadata": {},
   "outputs": [],
   "source": [
    "res = page.json()"
   ]
  },
  {
   "cell_type": "code",
   "execution_count": null,
   "id": "d03c45bb",
   "metadata": {},
   "outputs": [],
   "source": [
    "res"
   ]
  },
  {
   "cell_type": "code",
   "execution_count": null,
   "id": "156efef2",
   "metadata": {},
   "outputs": [],
   "source": [
    "len(res)"
   ]
  },
  {
   "cell_type": "code",
   "execution_count": null,
   "id": "2b743043",
   "metadata": {},
   "outputs": [],
   "source": [
    "res['Items']"
   ]
  },
  {
   "cell_type": "code",
   "execution_count": null,
   "id": "479ff537",
   "metadata": {},
   "outputs": [],
   "source": [
    "res['Items']"
   ]
  },
  {
   "cell_type": "code",
   "execution_count": null,
   "id": "74bb173d",
   "metadata": {},
   "outputs": [],
   "source": [
    "len(res['Items'])"
   ]
  },
  {
   "cell_type": "markdown",
   "id": "2f516af8",
   "metadata": {},
   "source": [
    "## Задание 1\n",
    "\n",
    "Найдите датасеты, которые хранят в себе данные об отключении горячей воды."
   ]
  },
  {
   "cell_type": "code",
   "execution_count": null,
   "id": "c0de27bf",
   "metadata": {},
   "outputs": [],
   "source": [
    "# TODO"
   ]
  },
  {
   "cell_type": "markdown",
   "id": "1e49f8ee",
   "metadata": {},
   "source": [
    "## Задание 2\n",
    "\n",
    "Сделайте запрос к искомому датасету, используя документацию: https://apidata.mos.ru/Docs#datasetRows Сохраните полученные данные в переменную water.\n",
    "\n",
    "Какие есть ограничения на запрос данных?"
   ]
  },
  {
   "cell_type": "code",
   "execution_count": null,
   "id": "4a9d7d4c",
   "metadata": {},
   "outputs": [],
   "source": [
    "# TODO"
   ]
  },
  {
   "cell_type": "markdown",
   "id": "a4a0cbc1",
   "metadata": {},
   "source": [
    "## Задание 3\n",
    "\n",
    "Создайте на основе массива полученных данных таблицу water_district.xlsx, в которой будут столбцы \"Административный округ\", \"Район\", \"Среднее кол-во дней отключения воды\".\n",
    "\n",
    "Создайте на основе массива полученных данных таблицу water_admarea.xlsx, в которой будут столбцы \"Административный округ\" и \"Среднее кол-во дней отключения воды\"."
   ]
  },
  {
   "cell_type": "code",
   "execution_count": null,
   "id": "20803467",
   "metadata": {},
   "outputs": [],
   "source": [
    "# TODO"
   ]
  }
 ],
 "metadata": {
  "kernelspec": {
   "display_name": "Python 3 (ipykernel)",
   "language": "python",
   "name": "python3"
  },
  "language_info": {
   "codemirror_mode": {
    "name": "ipython",
    "version": 3
   },
   "file_extension": ".py",
   "mimetype": "text/x-python",
   "name": "python",
   "nbconvert_exporter": "python",
   "pygments_lexer": "ipython3",
   "version": "3.9.12"
  }
 },
 "nbformat": 4,
 "nbformat_minor": 5
}
