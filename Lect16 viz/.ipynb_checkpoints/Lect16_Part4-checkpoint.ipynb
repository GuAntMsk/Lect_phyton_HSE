{
 "cells": [
  {
   "cell_type": "markdown",
   "id": "a4062166",
   "metadata": {},
   "source": [
    "# Графики для категориальных переменных: столбчатые диаграммы, совмещенные столбчатые диаграммы, график рассеяния для категориальных переменных"
   ]
  },
  {
   "cell_type": "code",
   "execution_count": 6,
   "id": "e0392c95",
   "metadata": {
    "scrolled": true
   },
   "outputs": [],
   "source": [
    "# наша основная библиотека для визуализаций\n",
    "import matplotlib.pyplot as plt  \n",
    "import pandas as pd \n",
    "import numpy as np\n",
    "\n",
    "# магическая функция, чтобы графики отображались в блокноте под ячейками\n",
    "%matplotlib inline  "
   ]
  },
  {
   "cell_type": "markdown",
   "id": "cd4c9b7c",
   "metadata": {},
   "source": [
    "Тут будем работать по мотивам вот этого блокнота.\n",
    "\n",
    "https://nbviewer.jupyter.org/github/yaph/ipython-notebooks/blob/master/movie-body-counts.ipynb\n",
    "\n",
    "Бдуем работать с датасетом, который подсчитывает количество смертей в фильмах (меотодологию сбора данных можно посмотреть по ссылке выше). Несколько графиков мы рассмотрим на занятии, остальные можно изучить самостоятельно.\n",
    "\n",
    "Очень часто для того, чтобы получить тот график, который хотим - нужно сделать правильную группировку. С этим тоже тут поработаем.\n"
   ]
  },
  {
   "cell_type": "code",
   "execution_count": 7,
   "id": "449e5be8",
   "metadata": {
    "scrolled": true
   },
   "outputs": [
    {
     "data": {
      "text/html": [
       "<div>\n",
       "<style scoped>\n",
       "    .dataframe tbody tr th:only-of-type {\n",
       "        vertical-align: middle;\n",
       "    }\n",
       "\n",
       "    .dataframe tbody tr th {\n",
       "        vertical-align: top;\n",
       "    }\n",
       "\n",
       "    .dataframe thead th {\n",
       "        text-align: right;\n",
       "    }\n",
       "</style>\n",
       "<table border=\"1\" class=\"dataframe\">\n",
       "  <thead>\n",
       "    <tr style=\"text-align: right;\">\n",
       "      <th></th>\n",
       "      <th>Film</th>\n",
       "      <th>Year</th>\n",
       "      <th>Body_Count</th>\n",
       "      <th>MPAA_Rating</th>\n",
       "      <th>Genre</th>\n",
       "      <th>Director</th>\n",
       "      <th>Length_Minutes</th>\n",
       "      <th>IMDB_Rating</th>\n",
       "    </tr>\n",
       "  </thead>\n",
       "  <tbody>\n",
       "    <tr>\n",
       "      <th>0</th>\n",
       "      <td>24 Hour Party People</td>\n",
       "      <td>2002</td>\n",
       "      <td>7</td>\n",
       "      <td>R</td>\n",
       "      <td>Biography|Comedy|Drama|Music</td>\n",
       "      <td>Michael Winterbottom</td>\n",
       "      <td>117</td>\n",
       "      <td>7.3</td>\n",
       "    </tr>\n",
       "    <tr>\n",
       "      <th>1</th>\n",
       "      <td>28 Days Later</td>\n",
       "      <td>2002</td>\n",
       "      <td>53</td>\n",
       "      <td>R</td>\n",
       "      <td>Horror|Sci-Fi|Thriller</td>\n",
       "      <td>Danny Boyle</td>\n",
       "      <td>113</td>\n",
       "      <td>7.6</td>\n",
       "    </tr>\n",
       "    <tr>\n",
       "      <th>2</th>\n",
       "      <td>28 Weeks Later</td>\n",
       "      <td>2007</td>\n",
       "      <td>212</td>\n",
       "      <td>R</td>\n",
       "      <td>Horror|Sci-Fi|Thriller</td>\n",
       "      <td>Juan Carlos Fresnadillo</td>\n",
       "      <td>100</td>\n",
       "      <td>7.0</td>\n",
       "    </tr>\n",
       "    <tr>\n",
       "      <th>3</th>\n",
       "      <td>30 Days of Night</td>\n",
       "      <td>2007</td>\n",
       "      <td>67</td>\n",
       "      <td>R</td>\n",
       "      <td>Horror|Thriller</td>\n",
       "      <td>David Slade</td>\n",
       "      <td>113</td>\n",
       "      <td>6.6</td>\n",
       "    </tr>\n",
       "    <tr>\n",
       "      <th>4</th>\n",
       "      <td>300</td>\n",
       "      <td>2007</td>\n",
       "      <td>600</td>\n",
       "      <td>R</td>\n",
       "      <td>Action|Fantasy|History|War</td>\n",
       "      <td>Zack Snyder</td>\n",
       "      <td>117</td>\n",
       "      <td>7.7</td>\n",
       "    </tr>\n",
       "  </tbody>\n",
       "</table>\n",
       "</div>"
      ],
      "text/plain": [
       "                   Film  Year  Body_Count MPAA_Rating  \\\n",
       "0  24 Hour Party People  2002           7           R   \n",
       "1         28 Days Later  2002          53           R   \n",
       "2        28 Weeks Later  2007         212           R   \n",
       "3      30 Days of Night  2007          67           R   \n",
       "4                   300  2007         600           R   \n",
       "\n",
       "                          Genre                 Director  Length_Minutes  \\\n",
       "0  Biography|Comedy|Drama|Music     Michael Winterbottom             117   \n",
       "1        Horror|Sci-Fi|Thriller              Danny Boyle             113   \n",
       "2        Horror|Sci-Fi|Thriller  Juan Carlos Fresnadillo             100   \n",
       "3               Horror|Thriller              David Slade             113   \n",
       "4    Action|Fantasy|History|War              Zack Snyder             117   \n",
       "\n",
       "   IMDB_Rating  \n",
       "0          7.3  \n",
       "1          7.6  \n",
       "2          7.0  \n",
       "3          6.6  \n",
       "4          7.7  "
      ]
     },
     "execution_count": 7,
     "metadata": {},
     "output_type": "execute_result"
    }
   ],
   "source": [
    "movies = pd.read_csv('filmdeathcounts.csv')\n",
    "movies.head()"
   ]
  },
  {
   "cell_type": "code",
   "execution_count": 8,
   "id": "0726430e",
   "metadata": {},
   "outputs": [
    {
     "data": {
      "text/plain": [
       "(545, 8)"
      ]
     },
     "execution_count": 8,
     "metadata": {},
     "output_type": "execute_result"
    }
   ],
   "source": [
    "movies.shape"
   ]
  },
  {
   "cell_type": "markdown",
   "id": "a3fc48e2",
   "metadata": {},
   "source": [
    "Для начала нам нужно решить две проблемы - в колонках Genre и Director может быть несколько значений. Давайте подумаем, как их извлечь.\n",
    "Также создадим две новые переменные - FilmCount c единицами во сех колонках (понадобится потом для графиков) и Body_Count_Min (количество смертей в минуту экранного времени).\n"
   ]
  },
  {
   "cell_type": "code",
   "execution_count": 9,
   "id": "09e90c29",
   "metadata": {
    "scrolled": true
   },
   "outputs": [
    {
     "data": {
      "text/html": [
       "<div>\n",
       "<style scoped>\n",
       "    .dataframe tbody tr th:only-of-type {\n",
       "        vertical-align: middle;\n",
       "    }\n",
       "\n",
       "    .dataframe tbody tr th {\n",
       "        vertical-align: top;\n",
       "    }\n",
       "\n",
       "    .dataframe thead th {\n",
       "        text-align: right;\n",
       "    }\n",
       "</style>\n",
       "<table border=\"1\" class=\"dataframe\">\n",
       "  <thead>\n",
       "    <tr style=\"text-align: right;\">\n",
       "      <th></th>\n",
       "      <th>Film</th>\n",
       "      <th>Year</th>\n",
       "      <th>Body_Count</th>\n",
       "      <th>MPAA_Rating</th>\n",
       "      <th>Genre</th>\n",
       "      <th>Director</th>\n",
       "      <th>Length_Minutes</th>\n",
       "      <th>IMDB_Rating</th>\n",
       "      <th>Film_Count</th>\n",
       "      <th>Body_Count_Min</th>\n",
       "    </tr>\n",
       "  </thead>\n",
       "  <tbody>\n",
       "    <tr>\n",
       "      <th>0</th>\n",
       "      <td>24 Hour Party People</td>\n",
       "      <td>2002</td>\n",
       "      <td>7</td>\n",
       "      <td>R</td>\n",
       "      <td>Biography|Comedy|Drama|Music</td>\n",
       "      <td>Michael Winterbottom</td>\n",
       "      <td>117</td>\n",
       "      <td>7.3</td>\n",
       "      <td>1</td>\n",
       "      <td>0.059829</td>\n",
       "    </tr>\n",
       "    <tr>\n",
       "      <th>1</th>\n",
       "      <td>28 Days Later</td>\n",
       "      <td>2002</td>\n",
       "      <td>53</td>\n",
       "      <td>R</td>\n",
       "      <td>Horror|Sci-Fi|Thriller</td>\n",
       "      <td>Danny Boyle</td>\n",
       "      <td>113</td>\n",
       "      <td>7.6</td>\n",
       "      <td>1</td>\n",
       "      <td>0.469027</td>\n",
       "    </tr>\n",
       "    <tr>\n",
       "      <th>2</th>\n",
       "      <td>28 Weeks Later</td>\n",
       "      <td>2007</td>\n",
       "      <td>212</td>\n",
       "      <td>R</td>\n",
       "      <td>Horror|Sci-Fi|Thriller</td>\n",
       "      <td>Juan Carlos Fresnadillo</td>\n",
       "      <td>100</td>\n",
       "      <td>7.0</td>\n",
       "      <td>1</td>\n",
       "      <td>2.120000</td>\n",
       "    </tr>\n",
       "    <tr>\n",
       "      <th>3</th>\n",
       "      <td>30 Days of Night</td>\n",
       "      <td>2007</td>\n",
       "      <td>67</td>\n",
       "      <td>R</td>\n",
       "      <td>Horror|Thriller</td>\n",
       "      <td>David Slade</td>\n",
       "      <td>113</td>\n",
       "      <td>6.6</td>\n",
       "      <td>1</td>\n",
       "      <td>0.592920</td>\n",
       "    </tr>\n",
       "    <tr>\n",
       "      <th>4</th>\n",
       "      <td>300</td>\n",
       "      <td>2007</td>\n",
       "      <td>600</td>\n",
       "      <td>R</td>\n",
       "      <td>Action|Fantasy|History|War</td>\n",
       "      <td>Zack Snyder</td>\n",
       "      <td>117</td>\n",
       "      <td>7.7</td>\n",
       "      <td>1</td>\n",
       "      <td>5.128205</td>\n",
       "    </tr>\n",
       "  </tbody>\n",
       "</table>\n",
       "</div>"
      ],
      "text/plain": [
       "                   Film  Year  Body_Count MPAA_Rating  \\\n",
       "0  24 Hour Party People  2002           7           R   \n",
       "1         28 Days Later  2002          53           R   \n",
       "2        28 Weeks Later  2007         212           R   \n",
       "3      30 Days of Night  2007          67           R   \n",
       "4                   300  2007         600           R   \n",
       "\n",
       "                          Genre                 Director  Length_Minutes  \\\n",
       "0  Biography|Comedy|Drama|Music     Michael Winterbottom             117   \n",
       "1        Horror|Sci-Fi|Thriller              Danny Boyle             113   \n",
       "2        Horror|Sci-Fi|Thriller  Juan Carlos Fresnadillo             100   \n",
       "3               Horror|Thriller              David Slade             113   \n",
       "4    Action|Fantasy|History|War              Zack Snyder             117   \n",
       "\n",
       "   IMDB_Rating  Film_Count  Body_Count_Min  \n",
       "0          7.3           1        0.059829  \n",
       "1          7.6           1        0.469027  \n",
       "2          7.0           1        2.120000  \n",
       "3          6.6           1        0.592920  \n",
       "4          7.7           1        5.128205  "
      ]
     },
     "execution_count": 9,
     "metadata": {},
     "output_type": "execute_result"
    }
   ],
   "source": [
    "movies['Film_Count'] = 1\n",
    "movies['Body_Count_Min'] = movies['Body_Count'] / movies['Length_Minutes'].astype(float)\n",
    "movies.head()"
   ]
  },
  {
   "cell_type": "code",
   "execution_count": 10,
   "id": "aa84a5de",
   "metadata": {
    "scrolled": true
   },
   "outputs": [
    {
     "name": "stdout",
     "output_type": "stream",
     "text": [
      "(0, Film                      24 Hour Party People\n",
      "Year                                      2002\n",
      "Body_Count                                   7\n",
      "MPAA_Rating                                  R\n",
      "Genre             Biography|Comedy|Drama|Music\n",
      "Director                  Michael Winterbottom\n",
      "Length_Minutes                             117\n",
      "IMDB_Rating                                7.3\n",
      "Film_Count                                   1\n",
      "Body_Count_Min                        0.059829\n",
      "Name: 0, dtype: object)\n",
      "____________________\n",
      "0\n",
      "____________________\n",
      "Film                      24 Hour Party People\n",
      "Year                                      2002\n",
      "Body_Count                                   7\n",
      "MPAA_Rating                                  R\n",
      "Genre             Biography|Comedy|Drama|Music\n",
      "Director                  Michael Winterbottom\n",
      "Length_Minutes                             117\n",
      "IMDB_Rating                                7.3\n",
      "Film_Count                                   1\n",
      "Body_Count_Min                        0.059829\n",
      "Name: 0, dtype: object\n",
      "____________________\n"
     ]
    }
   ],
   "source": [
    "# мы будем работать с итератором iterrows, посмотрим, что он возвращает\n",
    "for i in movies.iterrows():\n",
    "    print(i)\n",
    "    print('____________________')\n",
    "    print(i[0])\n",
    "    print('____________________')\n",
    "    print(i[1])\n",
    "    print('____________________')\n",
    "\n",
    "    break"
   ]
  },
  {
   "cell_type": "code",
   "execution_count": 11,
   "id": "838d57ec",
   "metadata": {
    "scrolled": true
   },
   "outputs": [
    {
     "data": {
      "text/plain": [
       "['Biography', 'Comedy', 'Drama', 'Music']"
      ]
     },
     "execution_count": 11,
     "metadata": {},
     "output_type": "execute_result"
    }
   ],
   "source": [
    "'Biography|Comedy|Drama|Music'.split('|')"
   ]
  },
  {
   "cell_type": "markdown",
   "id": "661735e2",
   "metadata": {},
   "source": [
    "Теперь давайте попробуем реализовать нашу идею на одном примере."
   ]
  },
  {
   "cell_type": "code",
   "execution_count": 12,
   "id": "fd7669a8",
   "metadata": {
    "scrolled": false
   },
   "outputs": [
    {
     "name": "stdout",
     "output_type": "stream",
     "text": [
      "Film                      24 Hour Party People\n",
      "Year                                      2002\n",
      "Body_Count                                   7\n",
      "MPAA_Rating                                  R\n",
      "Genre             Biography|Comedy|Drama|Music\n",
      "Director                  Michael Winterbottom\n",
      "Length_Minutes                             117\n",
      "IMDB_Rating                                7.3\n",
      "Film_Count                                   1\n",
      "Body_Count_Min                        0.059829\n",
      "Name: 0, dtype: object\n",
      "_____\n",
      "['Biography', 'Comedy', 'Drama', 'Music']\n",
      "_____\n",
      "Film                      24 Hour Party People\n",
      "Year                                      2002\n",
      "Body_Count                                   7\n",
      "MPAA_Rating                                  R\n",
      "Genre             Biography|Comedy|Drama|Music\n",
      "Director                  Michael Winterbottom\n",
      "Length_Minutes                             117\n",
      "IMDB_Rating                                7.3\n",
      "Film_Count                                   1\n",
      "Body_Count_Min                        0.059829\n",
      "Name: 0, dtype: object\n",
      "_____\n",
      "Film              24 Hour Party People\n",
      "Year                              2002\n",
      "Body_Count                           7\n",
      "MPAA_Rating                          R\n",
      "Genre                        Biography\n",
      "Director          Michael Winterbottom\n",
      "Length_Minutes                     117\n",
      "IMDB_Rating                        7.3\n",
      "Film_Count                           1\n",
      "Body_Count_Min                0.059829\n",
      "Name: 0, dtype: object\n",
      "_____\n",
      "{0: Film              24 Hour Party People\n",
      "Year                              2002\n",
      "Body_Count                           7\n",
      "MPAA_Rating                          R\n",
      "Genre                        Biography\n",
      "Director          Michael Winterbottom\n",
      "Length_Minutes                     117\n",
      "IMDB_Rating                        7.3\n",
      "Film_Count                           1\n",
      "Body_Count_Min                0.059829\n",
      "Name: 0, dtype: object}\n",
      "_____\n",
      "Film                      24 Hour Party People\n",
      "Year                                      2002\n",
      "Body_Count                                   7\n",
      "MPAA_Rating                                  R\n",
      "Genre             Biography|Comedy|Drama|Music\n",
      "Director                  Michael Winterbottom\n",
      "Length_Minutes                             117\n",
      "IMDB_Rating                                7.3\n",
      "Film_Count                                   1\n",
      "Body_Count_Min                        0.059829\n",
      "Name: 0, dtype: object\n",
      "_____\n",
      "Film              24 Hour Party People\n",
      "Year                              2002\n",
      "Body_Count                           7\n",
      "MPAA_Rating                          R\n",
      "Genre                           Comedy\n",
      "Director          Michael Winterbottom\n",
      "Length_Minutes                     117\n",
      "IMDB_Rating                        7.3\n",
      "Film_Count                           1\n",
      "Body_Count_Min                0.059829\n",
      "Name: 0, dtype: object\n",
      "_____\n",
      "{0: Film              24 Hour Party People\n",
      "Year                              2002\n",
      "Body_Count                           7\n",
      "MPAA_Rating                          R\n",
      "Genre                        Biography\n",
      "Director          Michael Winterbottom\n",
      "Length_Minutes                     117\n",
      "IMDB_Rating                        7.3\n",
      "Film_Count                           1\n",
      "Body_Count_Min                0.059829\n",
      "Name: 0, dtype: object, 1: Film              24 Hour Party People\n",
      "Year                              2002\n",
      "Body_Count                           7\n",
      "MPAA_Rating                          R\n",
      "Genre                           Comedy\n",
      "Director          Michael Winterbottom\n",
      "Length_Minutes                     117\n",
      "IMDB_Rating                        7.3\n",
      "Film_Count                           1\n",
      "Body_Count_Min                0.059829\n",
      "Name: 0, dtype: object}\n",
      "_____\n",
      "Film                      24 Hour Party People\n",
      "Year                                      2002\n",
      "Body_Count                                   7\n",
      "MPAA_Rating                                  R\n",
      "Genre             Biography|Comedy|Drama|Music\n",
      "Director                  Michael Winterbottom\n",
      "Length_Minutes                             117\n",
      "IMDB_Rating                                7.3\n",
      "Film_Count                                   1\n",
      "Body_Count_Min                        0.059829\n",
      "Name: 0, dtype: object\n",
      "_____\n",
      "Film              24 Hour Party People\n",
      "Year                              2002\n",
      "Body_Count                           7\n",
      "MPAA_Rating                          R\n",
      "Genre                            Drama\n",
      "Director          Michael Winterbottom\n",
      "Length_Minutes                     117\n",
      "IMDB_Rating                        7.3\n",
      "Film_Count                           1\n",
      "Body_Count_Min                0.059829\n",
      "Name: 0, dtype: object\n",
      "_____\n",
      "{0: Film              24 Hour Party People\n",
      "Year                              2002\n",
      "Body_Count                           7\n",
      "MPAA_Rating                          R\n",
      "Genre                        Biography\n",
      "Director          Michael Winterbottom\n",
      "Length_Minutes                     117\n",
      "IMDB_Rating                        7.3\n",
      "Film_Count                           1\n",
      "Body_Count_Min                0.059829\n",
      "Name: 0, dtype: object, 1: Film              24 Hour Party People\n",
      "Year                              2002\n",
      "Body_Count                           7\n",
      "MPAA_Rating                          R\n",
      "Genre                           Comedy\n",
      "Director          Michael Winterbottom\n",
      "Length_Minutes                     117\n",
      "IMDB_Rating                        7.3\n",
      "Film_Count                           1\n",
      "Body_Count_Min                0.059829\n",
      "Name: 0, dtype: object, 2: Film              24 Hour Party People\n",
      "Year                              2002\n",
      "Body_Count                           7\n",
      "MPAA_Rating                          R\n",
      "Genre                            Drama\n",
      "Director          Michael Winterbottom\n",
      "Length_Minutes                     117\n",
      "IMDB_Rating                        7.3\n",
      "Film_Count                           1\n",
      "Body_Count_Min                0.059829\n",
      "Name: 0, dtype: object}\n",
      "_____\n",
      "Film                      24 Hour Party People\n",
      "Year                                      2002\n",
      "Body_Count                                   7\n",
      "MPAA_Rating                                  R\n",
      "Genre             Biography|Comedy|Drama|Music\n",
      "Director                  Michael Winterbottom\n",
      "Length_Minutes                             117\n",
      "IMDB_Rating                                7.3\n",
      "Film_Count                                   1\n",
      "Body_Count_Min                        0.059829\n",
      "Name: 0, dtype: object\n",
      "_____\n",
      "Film              24 Hour Party People\n",
      "Year                              2002\n",
      "Body_Count                           7\n",
      "MPAA_Rating                          R\n",
      "Genre                            Music\n",
      "Director          Michael Winterbottom\n",
      "Length_Minutes                     117\n",
      "IMDB_Rating                        7.3\n",
      "Film_Count                           1\n",
      "Body_Count_Min                0.059829\n",
      "Name: 0, dtype: object\n",
      "_____\n",
      "{0: Film              24 Hour Party People\n",
      "Year                              2002\n",
      "Body_Count                           7\n",
      "MPAA_Rating                          R\n",
      "Genre                        Biography\n",
      "Director          Michael Winterbottom\n",
      "Length_Minutes                     117\n",
      "IMDB_Rating                        7.3\n",
      "Film_Count                           1\n",
      "Body_Count_Min                0.059829\n",
      "Name: 0, dtype: object, 1: Film              24 Hour Party People\n",
      "Year                              2002\n",
      "Body_Count                           7\n",
      "MPAA_Rating                          R\n",
      "Genre                           Comedy\n",
      "Director          Michael Winterbottom\n",
      "Length_Minutes                     117\n",
      "IMDB_Rating                        7.3\n",
      "Film_Count                           1\n",
      "Body_Count_Min                0.059829\n",
      "Name: 0, dtype: object, 2: Film              24 Hour Party People\n",
      "Year                              2002\n",
      "Body_Count                           7\n",
      "MPAA_Rating                          R\n",
      "Genre                            Drama\n",
      "Director          Michael Winterbottom\n",
      "Length_Minutes                     117\n",
      "IMDB_Rating                        7.3\n",
      "Film_Count                           1\n",
      "Body_Count_Min                0.059829\n",
      "Name: 0, dtype: object, 3: Film              24 Hour Party People\n",
      "Year                              2002\n",
      "Body_Count                           7\n",
      "MPAA_Rating                          R\n",
      "Genre                            Music\n",
      "Director          Michael Winterbottom\n",
      "Length_Minutes                     117\n",
      "IMDB_Rating                        7.3\n",
      "Film_Count                           1\n",
      "Body_Count_Min                0.059829\n",
      "Name: 0, dtype: object}\n",
      "_____\n"
     ]
    }
   ],
   "source": [
    "di = {}\n",
    "idx = 0\n",
    "col = 'Genre'\n",
    "sep='|'\n",
    "\n",
    "for i in movies.iterrows(): # проходимся по наблюдениям\n",
    "    d = i[1] # достаем первый объект, в котором хранятся все переменные, кроме индекса \n",
    "    print(d)\n",
    "    print('_____')\n",
    "    names = d[col].split(sep) # разбиваем колонку жанр по разделителю\n",
    "    print(names)\n",
    "    print('_____')\n",
    "    for name in names:\n",
    "        c = d.copy() # работаем с копией нашего фильма, чтобы не перезаписать его\n",
    "        print(c)\n",
    "        print('_____')\n",
    "        c[col] = name # меняем в копии значение в колонке Genre\n",
    "        print(c)\n",
    "        print('_____')\n",
    "        di[idx] = c # кладем нашу новую колонку в словарь под текущим индексом\n",
    "        idx += 1 # обновляем индекс\n",
    "        print(di)\n",
    "        print('_____')\n",
    "        \n",
    "    break"
   ]
  },
  {
   "cell_type": "code",
   "execution_count": 13,
   "id": "ae5da935",
   "metadata": {
    "scrolled": true
   },
   "outputs": [
    {
     "data": {
      "text/html": [
       "<div>\n",
       "<style scoped>\n",
       "    .dataframe tbody tr th:only-of-type {\n",
       "        vertical-align: middle;\n",
       "    }\n",
       "\n",
       "    .dataframe tbody tr th {\n",
       "        vertical-align: top;\n",
       "    }\n",
       "\n",
       "    .dataframe thead th {\n",
       "        text-align: right;\n",
       "    }\n",
       "</style>\n",
       "<table border=\"1\" class=\"dataframe\">\n",
       "  <thead>\n",
       "    <tr style=\"text-align: right;\">\n",
       "      <th></th>\n",
       "      <th>0</th>\n",
       "      <th>1</th>\n",
       "      <th>2</th>\n",
       "      <th>3</th>\n",
       "    </tr>\n",
       "  </thead>\n",
       "  <tbody>\n",
       "    <tr>\n",
       "      <th>Film</th>\n",
       "      <td>24 Hour Party People</td>\n",
       "      <td>24 Hour Party People</td>\n",
       "      <td>24 Hour Party People</td>\n",
       "      <td>24 Hour Party People</td>\n",
       "    </tr>\n",
       "    <tr>\n",
       "      <th>Year</th>\n",
       "      <td>2002</td>\n",
       "      <td>2002</td>\n",
       "      <td>2002</td>\n",
       "      <td>2002</td>\n",
       "    </tr>\n",
       "    <tr>\n",
       "      <th>Body_Count</th>\n",
       "      <td>7</td>\n",
       "      <td>7</td>\n",
       "      <td>7</td>\n",
       "      <td>7</td>\n",
       "    </tr>\n",
       "    <tr>\n",
       "      <th>MPAA_Rating</th>\n",
       "      <td>R</td>\n",
       "      <td>R</td>\n",
       "      <td>R</td>\n",
       "      <td>R</td>\n",
       "    </tr>\n",
       "    <tr>\n",
       "      <th>Genre</th>\n",
       "      <td>Biography</td>\n",
       "      <td>Comedy</td>\n",
       "      <td>Drama</td>\n",
       "      <td>Music</td>\n",
       "    </tr>\n",
       "    <tr>\n",
       "      <th>Director</th>\n",
       "      <td>Michael Winterbottom</td>\n",
       "      <td>Michael Winterbottom</td>\n",
       "      <td>Michael Winterbottom</td>\n",
       "      <td>Michael Winterbottom</td>\n",
       "    </tr>\n",
       "    <tr>\n",
       "      <th>Length_Minutes</th>\n",
       "      <td>117</td>\n",
       "      <td>117</td>\n",
       "      <td>117</td>\n",
       "      <td>117</td>\n",
       "    </tr>\n",
       "    <tr>\n",
       "      <th>IMDB_Rating</th>\n",
       "      <td>7.3</td>\n",
       "      <td>7.3</td>\n",
       "      <td>7.3</td>\n",
       "      <td>7.3</td>\n",
       "    </tr>\n",
       "    <tr>\n",
       "      <th>Film_Count</th>\n",
       "      <td>1</td>\n",
       "      <td>1</td>\n",
       "      <td>1</td>\n",
       "      <td>1</td>\n",
       "    </tr>\n",
       "    <tr>\n",
       "      <th>Body_Count_Min</th>\n",
       "      <td>0.059829</td>\n",
       "      <td>0.059829</td>\n",
       "      <td>0.059829</td>\n",
       "      <td>0.059829</td>\n",
       "    </tr>\n",
       "  </tbody>\n",
       "</table>\n",
       "</div>"
      ],
      "text/plain": [
       "                                   0                     1  \\\n",
       "Film            24 Hour Party People  24 Hour Party People   \n",
       "Year                            2002                  2002   \n",
       "Body_Count                         7                     7   \n",
       "MPAA_Rating                        R                     R   \n",
       "Genre                      Biography                Comedy   \n",
       "Director        Michael Winterbottom  Michael Winterbottom   \n",
       "Length_Minutes                   117                   117   \n",
       "IMDB_Rating                      7.3                   7.3   \n",
       "Film_Count                         1                     1   \n",
       "Body_Count_Min              0.059829              0.059829   \n",
       "\n",
       "                                   2                     3  \n",
       "Film            24 Hour Party People  24 Hour Party People  \n",
       "Year                            2002                  2002  \n",
       "Body_Count                         7                     7  \n",
       "MPAA_Rating                        R                     R  \n",
       "Genre                          Drama                 Music  \n",
       "Director        Michael Winterbottom  Michael Winterbottom  \n",
       "Length_Minutes                   117                   117  \n",
       "IMDB_Rating                      7.3                   7.3  \n",
       "Film_Count                         1                     1  \n",
       "Body_Count_Min              0.059829              0.059829  "
      ]
     },
     "execution_count": 13,
     "metadata": {},
     "output_type": "execute_result"
    }
   ],
   "source": [
    "pd.DataFrame(di) # как будет выглядеть наш новый датафрейм"
   ]
  },
  {
   "cell_type": "code",
   "execution_count": 14,
   "id": "e9547bce",
   "metadata": {
    "scrolled": true
   },
   "outputs": [
    {
     "data": {
      "text/html": [
       "<div>\n",
       "<style scoped>\n",
       "    .dataframe tbody tr th:only-of-type {\n",
       "        vertical-align: middle;\n",
       "    }\n",
       "\n",
       "    .dataframe tbody tr th {\n",
       "        vertical-align: top;\n",
       "    }\n",
       "\n",
       "    .dataframe thead th {\n",
       "        text-align: right;\n",
       "    }\n",
       "</style>\n",
       "<table border=\"1\" class=\"dataframe\">\n",
       "  <thead>\n",
       "    <tr style=\"text-align: right;\">\n",
       "      <th></th>\n",
       "      <th>Film</th>\n",
       "      <th>Year</th>\n",
       "      <th>Body_Count</th>\n",
       "      <th>MPAA_Rating</th>\n",
       "      <th>Genre</th>\n",
       "      <th>Director</th>\n",
       "      <th>Length_Minutes</th>\n",
       "      <th>IMDB_Rating</th>\n",
       "      <th>Film_Count</th>\n",
       "      <th>Body_Count_Min</th>\n",
       "    </tr>\n",
       "  </thead>\n",
       "  <tbody>\n",
       "    <tr>\n",
       "      <th>0</th>\n",
       "      <td>24 Hour Party People</td>\n",
       "      <td>2002</td>\n",
       "      <td>7</td>\n",
       "      <td>R</td>\n",
       "      <td>Biography</td>\n",
       "      <td>Michael Winterbottom</td>\n",
       "      <td>117</td>\n",
       "      <td>7.3</td>\n",
       "      <td>1</td>\n",
       "      <td>0.059829</td>\n",
       "    </tr>\n",
       "    <tr>\n",
       "      <th>1</th>\n",
       "      <td>24 Hour Party People</td>\n",
       "      <td>2002</td>\n",
       "      <td>7</td>\n",
       "      <td>R</td>\n",
       "      <td>Comedy</td>\n",
       "      <td>Michael Winterbottom</td>\n",
       "      <td>117</td>\n",
       "      <td>7.3</td>\n",
       "      <td>1</td>\n",
       "      <td>0.059829</td>\n",
       "    </tr>\n",
       "    <tr>\n",
       "      <th>2</th>\n",
       "      <td>24 Hour Party People</td>\n",
       "      <td>2002</td>\n",
       "      <td>7</td>\n",
       "      <td>R</td>\n",
       "      <td>Drama</td>\n",
       "      <td>Michael Winterbottom</td>\n",
       "      <td>117</td>\n",
       "      <td>7.3</td>\n",
       "      <td>1</td>\n",
       "      <td>0.059829</td>\n",
       "    </tr>\n",
       "    <tr>\n",
       "      <th>3</th>\n",
       "      <td>24 Hour Party People</td>\n",
       "      <td>2002</td>\n",
       "      <td>7</td>\n",
       "      <td>R</td>\n",
       "      <td>Music</td>\n",
       "      <td>Michael Winterbottom</td>\n",
       "      <td>117</td>\n",
       "      <td>7.3</td>\n",
       "      <td>1</td>\n",
       "      <td>0.059829</td>\n",
       "    </tr>\n",
       "  </tbody>\n",
       "</table>\n",
       "</div>"
      ],
      "text/plain": [
       "                   Film  Year Body_Count MPAA_Rating      Genre  \\\n",
       "0  24 Hour Party People  2002          7           R  Biography   \n",
       "1  24 Hour Party People  2002          7           R     Comedy   \n",
       "2  24 Hour Party People  2002          7           R      Drama   \n",
       "3  24 Hour Party People  2002          7           R      Music   \n",
       "\n",
       "               Director Length_Minutes IMDB_Rating Film_Count Body_Count_Min  \n",
       "0  Michael Winterbottom            117         7.3          1       0.059829  \n",
       "1  Michael Winterbottom            117         7.3          1       0.059829  \n",
       "2  Michael Winterbottom            117         7.3          1       0.059829  \n",
       "3  Michael Winterbottom            117         7.3          1       0.059829  "
      ]
     },
     "execution_count": 14,
     "metadata": {},
     "output_type": "execute_result"
    }
   ],
   "source": [
    "pd.DataFrame(di).transpose() # транспонируем. Отлично, то, что нужно!"
   ]
  },
  {
   "cell_type": "markdown",
   "id": "02e24cd0",
   "metadata": {},
   "source": [
    "Теперь соберем все в функцию. Помним, что будем ее применять к двум колонкам по очереди (режиссер и жанр)."
   ]
  },
  {
   "cell_type": "code",
   "execution_count": 15,
   "id": "61f152b3",
   "metadata": {
    "scrolled": true
   },
   "outputs": [],
   "source": [
    "def expand_col(df_src, col, sep='|'):\n",
    "    di = {}\n",
    "    idx = 0\n",
    "    for i in df_src.iterrows():\n",
    "        d = i[1]\n",
    "        names = d[col].split(sep)\n",
    "        for name in names:\n",
    "            # operate on a copy to not overwrite previous director names\n",
    "            c = d.copy()\n",
    "            c[col] = name\n",
    "            di[idx] = c\n",
    "            idx += 1\n",
    "\n",
    "    df_new = pd.DataFrame(di).transpose()\n",
    "    \n",
    "    return df_new"
   ]
  },
  {
   "cell_type": "code",
   "execution_count": 16,
   "id": "52cd47c3",
   "metadata": {
    "scrolled": true
   },
   "outputs": [
    {
     "data": {
      "text/plain": [
       "(545, 10)"
      ]
     },
     "execution_count": 16,
     "metadata": {},
     "output_type": "execute_result"
    }
   ],
   "source": [
    "movies.shape"
   ]
  },
  {
   "cell_type": "code",
   "execution_count": 17,
   "id": "8edcc8c9",
   "metadata": {
    "scrolled": true
   },
   "outputs": [
    {
     "data": {
      "text/plain": [
       "(570, 10)"
      ]
     },
     "execution_count": 17,
     "metadata": {},
     "output_type": "execute_result"
    }
   ],
   "source": [
    "df_dir = expand_col(movies, 'Director') # примениям к режиссерам\n",
    "df_dir.shape"
   ]
  },
  {
   "cell_type": "code",
   "execution_count": 18,
   "id": "534f0800",
   "metadata": {
    "scrolled": true
   },
   "outputs": [
    {
     "data": {
      "text/plain": [
       "(1759, 10)"
      ]
     },
     "execution_count": 18,
     "metadata": {},
     "output_type": "execute_result"
    }
   ],
   "source": [
    "df_genre = expand_col(df_dir, 'Genre') # а теперь уже датафрейм с обработанными режиссерами, обрабатываем на жанры\n",
    "df_genre.shape"
   ]
  },
  {
   "cell_type": "code",
   "execution_count": 19,
   "id": "e3dc99e9",
   "metadata": {
    "scrolled": true
   },
   "outputs": [
    {
     "data": {
      "text/html": [
       "<div>\n",
       "<style scoped>\n",
       "    .dataframe tbody tr th:only-of-type {\n",
       "        vertical-align: middle;\n",
       "    }\n",
       "\n",
       "    .dataframe tbody tr th {\n",
       "        vertical-align: top;\n",
       "    }\n",
       "\n",
       "    .dataframe thead th {\n",
       "        text-align: right;\n",
       "    }\n",
       "</style>\n",
       "<table border=\"1\" class=\"dataframe\">\n",
       "  <thead>\n",
       "    <tr style=\"text-align: right;\">\n",
       "      <th></th>\n",
       "      <th>Film</th>\n",
       "      <th>Year</th>\n",
       "      <th>Body_Count</th>\n",
       "      <th>MPAA_Rating</th>\n",
       "      <th>Genre</th>\n",
       "      <th>Director</th>\n",
       "      <th>Length_Minutes</th>\n",
       "      <th>IMDB_Rating</th>\n",
       "      <th>Film_Count</th>\n",
       "      <th>Body_Count_Min</th>\n",
       "    </tr>\n",
       "  </thead>\n",
       "  <tbody>\n",
       "    <tr>\n",
       "      <th>0</th>\n",
       "      <td>24 Hour Party People</td>\n",
       "      <td>2002</td>\n",
       "      <td>7</td>\n",
       "      <td>R</td>\n",
       "      <td>Biography</td>\n",
       "      <td>Michael Winterbottom</td>\n",
       "      <td>117</td>\n",
       "      <td>7.3</td>\n",
       "      <td>1</td>\n",
       "      <td>0.059829</td>\n",
       "    </tr>\n",
       "    <tr>\n",
       "      <th>1</th>\n",
       "      <td>24 Hour Party People</td>\n",
       "      <td>2002</td>\n",
       "      <td>7</td>\n",
       "      <td>R</td>\n",
       "      <td>Comedy</td>\n",
       "      <td>Michael Winterbottom</td>\n",
       "      <td>117</td>\n",
       "      <td>7.3</td>\n",
       "      <td>1</td>\n",
       "      <td>0.059829</td>\n",
       "    </tr>\n",
       "    <tr>\n",
       "      <th>2</th>\n",
       "      <td>24 Hour Party People</td>\n",
       "      <td>2002</td>\n",
       "      <td>7</td>\n",
       "      <td>R</td>\n",
       "      <td>Drama</td>\n",
       "      <td>Michael Winterbottom</td>\n",
       "      <td>117</td>\n",
       "      <td>7.3</td>\n",
       "      <td>1</td>\n",
       "      <td>0.059829</td>\n",
       "    </tr>\n",
       "    <tr>\n",
       "      <th>3</th>\n",
       "      <td>24 Hour Party People</td>\n",
       "      <td>2002</td>\n",
       "      <td>7</td>\n",
       "      <td>R</td>\n",
       "      <td>Music</td>\n",
       "      <td>Michael Winterbottom</td>\n",
       "      <td>117</td>\n",
       "      <td>7.3</td>\n",
       "      <td>1</td>\n",
       "      <td>0.059829</td>\n",
       "    </tr>\n",
       "    <tr>\n",
       "      <th>4</th>\n",
       "      <td>28 Days Later</td>\n",
       "      <td>2002</td>\n",
       "      <td>53</td>\n",
       "      <td>R</td>\n",
       "      <td>Horror</td>\n",
       "      <td>Danny Boyle</td>\n",
       "      <td>113</td>\n",
       "      <td>7.6</td>\n",
       "      <td>1</td>\n",
       "      <td>0.469027</td>\n",
       "    </tr>\n",
       "  </tbody>\n",
       "</table>\n",
       "</div>"
      ],
      "text/plain": [
       "                   Film  Year Body_Count MPAA_Rating      Genre  \\\n",
       "0  24 Hour Party People  2002          7           R  Biography   \n",
       "1  24 Hour Party People  2002          7           R     Comedy   \n",
       "2  24 Hour Party People  2002          7           R      Drama   \n",
       "3  24 Hour Party People  2002          7           R      Music   \n",
       "4         28 Days Later  2002         53           R     Horror   \n",
       "\n",
       "               Director Length_Minutes IMDB_Rating Film_Count Body_Count_Min  \n",
       "0  Michael Winterbottom            117         7.3          1       0.059829  \n",
       "1  Michael Winterbottom            117         7.3          1       0.059829  \n",
       "2  Michael Winterbottom            117         7.3          1       0.059829  \n",
       "3  Michael Winterbottom            117         7.3          1       0.059829  \n",
       "4           Danny Boyle            113         7.6          1       0.469027  "
      ]
     },
     "execution_count": 19,
     "metadata": {},
     "output_type": "execute_result"
    }
   ],
   "source": [
    "df_genre.head()"
   ]
  },
  {
   "cell_type": "code",
   "execution_count": 20,
   "id": "f5f7296c",
   "metadata": {
    "scrolled": true
   },
   "outputs": [
    {
     "data": {
      "text/plain": [
       "(1751, 10)"
      ]
     },
     "execution_count": 20,
     "metadata": {},
     "output_type": "execute_result"
    }
   ],
   "source": [
    "# проверим, есть ли дубликаты\n",
    "df_genre.drop_duplicates().shape"
   ]
  },
  {
   "cell_type": "code",
   "execution_count": 21,
   "id": "ac938003",
   "metadata": {
    "scrolled": true
   },
   "outputs": [
    {
     "data": {
      "text/html": [
       "<div>\n",
       "<style scoped>\n",
       "    .dataframe tbody tr th:only-of-type {\n",
       "        vertical-align: middle;\n",
       "    }\n",
       "\n",
       "    .dataframe tbody tr th {\n",
       "        vertical-align: top;\n",
       "    }\n",
       "\n",
       "    .dataframe thead th {\n",
       "        text-align: right;\n",
       "    }\n",
       "</style>\n",
       "<table border=\"1\" class=\"dataframe\">\n",
       "  <thead>\n",
       "    <tr style=\"text-align: right;\">\n",
       "      <th></th>\n",
       "      <th>Film</th>\n",
       "      <th>Year</th>\n",
       "      <th>Body_Count</th>\n",
       "      <th>MPAA_Rating</th>\n",
       "      <th>Genre</th>\n",
       "      <th>Director</th>\n",
       "      <th>Length_Minutes</th>\n",
       "      <th>IMDB_Rating</th>\n",
       "      <th>Film_Count</th>\n",
       "      <th>Body_Count_Min</th>\n",
       "    </tr>\n",
       "  </thead>\n",
       "  <tbody>\n",
       "    <tr>\n",
       "      <th>0</th>\n",
       "      <td>24 Hour Party People</td>\n",
       "      <td>2002</td>\n",
       "      <td>7</td>\n",
       "      <td>R</td>\n",
       "      <td>Biography</td>\n",
       "      <td>Michael Winterbottom</td>\n",
       "      <td>117</td>\n",
       "      <td>7.3</td>\n",
       "      <td>1</td>\n",
       "      <td>0.059829</td>\n",
       "    </tr>\n",
       "    <tr>\n",
       "      <th>1</th>\n",
       "      <td>24 Hour Party People</td>\n",
       "      <td>2002</td>\n",
       "      <td>7</td>\n",
       "      <td>R</td>\n",
       "      <td>Comedy</td>\n",
       "      <td>Michael Winterbottom</td>\n",
       "      <td>117</td>\n",
       "      <td>7.3</td>\n",
       "      <td>1</td>\n",
       "      <td>0.059829</td>\n",
       "    </tr>\n",
       "    <tr>\n",
       "      <th>2</th>\n",
       "      <td>24 Hour Party People</td>\n",
       "      <td>2002</td>\n",
       "      <td>7</td>\n",
       "      <td>R</td>\n",
       "      <td>Drama</td>\n",
       "      <td>Michael Winterbottom</td>\n",
       "      <td>117</td>\n",
       "      <td>7.3</td>\n",
       "      <td>1</td>\n",
       "      <td>0.059829</td>\n",
       "    </tr>\n",
       "    <tr>\n",
       "      <th>3</th>\n",
       "      <td>24 Hour Party People</td>\n",
       "      <td>2002</td>\n",
       "      <td>7</td>\n",
       "      <td>R</td>\n",
       "      <td>Music</td>\n",
       "      <td>Michael Winterbottom</td>\n",
       "      <td>117</td>\n",
       "      <td>7.3</td>\n",
       "      <td>1</td>\n",
       "      <td>0.059829</td>\n",
       "    </tr>\n",
       "    <tr>\n",
       "      <th>4</th>\n",
       "      <td>28 Days Later</td>\n",
       "      <td>2002</td>\n",
       "      <td>53</td>\n",
       "      <td>R</td>\n",
       "      <td>Horror</td>\n",
       "      <td>Danny Boyle</td>\n",
       "      <td>113</td>\n",
       "      <td>7.6</td>\n",
       "      <td>1</td>\n",
       "      <td>0.469027</td>\n",
       "    </tr>\n",
       "  </tbody>\n",
       "</table>\n",
       "</div>"
      ],
      "text/plain": [
       "                   Film  Year Body_Count MPAA_Rating      Genre  \\\n",
       "0  24 Hour Party People  2002          7           R  Biography   \n",
       "1  24 Hour Party People  2002          7           R     Comedy   \n",
       "2  24 Hour Party People  2002          7           R      Drama   \n",
       "3  24 Hour Party People  2002          7           R      Music   \n",
       "4         28 Days Later  2002         53           R     Horror   \n",
       "\n",
       "               Director Length_Minutes IMDB_Rating Film_Count Body_Count_Min  \n",
       "0  Michael Winterbottom            117         7.3          1       0.059829  \n",
       "1  Michael Winterbottom            117         7.3          1       0.059829  \n",
       "2  Michael Winterbottom            117         7.3          1       0.059829  \n",
       "3  Michael Winterbottom            117         7.3          1       0.059829  \n",
       "4           Danny Boyle            113         7.6          1       0.469027  "
      ]
     },
     "execution_count": 21,
     "metadata": {},
     "output_type": "execute_result"
    }
   ],
   "source": [
    "# сохраним результат в переменную movies\n",
    "movies = df_genre.drop_duplicates()\n",
    "movies.head()"
   ]
  },
  {
   "cell_type": "code",
   "execution_count": 22,
   "id": "9b3b42af",
   "metadata": {
    "scrolled": true
   },
   "outputs": [
    {
     "name": "stdout",
     "output_type": "stream",
     "text": [
      "<class 'pandas.core.frame.DataFrame'>\n",
      "Int64Index: 1751 entries, 0 to 1758\n",
      "Data columns (total 10 columns):\n",
      " #   Column          Non-Null Count  Dtype \n",
      "---  ------          --------------  ----- \n",
      " 0   Film            1751 non-null   object\n",
      " 1   Year            1751 non-null   object\n",
      " 2   Body_Count      1751 non-null   object\n",
      " 3   MPAA_Rating     1751 non-null   object\n",
      " 4   Genre           1751 non-null   object\n",
      " 5   Director        1751 non-null   object\n",
      " 6   Length_Minutes  1751 non-null   object\n",
      " 7   IMDB_Rating     1751 non-null   object\n",
      " 8   Film_Count      1751 non-null   object\n",
      " 9   Body_Count_Min  1751 non-null   object\n",
      "dtypes: object(10)\n",
      "memory usage: 150.5+ KB\n"
     ]
    }
   ],
   "source": [
    "movies.info()"
   ]
  },
  {
   "cell_type": "markdown",
   "id": "5a3fe0e0",
   "metadata": {},
   "source": [
    "Наши переменные после обработки функцией распознаются как текстовые. Давайте это исправим."
   ]
  },
  {
   "cell_type": "code",
   "execution_count": 23,
   "id": "c11e5fba",
   "metadata": {
    "scrolled": true
   },
   "outputs": [
    {
     "name": "stderr",
     "output_type": "stream",
     "text": [
      "/var/folders/qc/dzy0dz5x47q2yd53pdc35csr0000gn/T/ipykernel_57989/2041868815.py:2: SettingWithCopyWarning: \n",
      "A value is trying to be set on a copy of a slice from a DataFrame.\n",
      "Try using .loc[row_indexer,col_indexer] = value instead\n",
      "\n",
      "See the caveats in the documentation: https://pandas.pydata.org/pandas-docs/stable/user_guide/indexing.html#returning-a-view-versus-a-copy\n",
      "  movies.loc[:, col] = movies[col].astype(float)\n"
     ]
    }
   ],
   "source": [
    "for col in ['Body_Count', 'Length_Minutes', 'Film_Count', 'Body_Count_Min']:\n",
    "    movies.loc[:, col] = movies[col].astype(float)"
   ]
  },
  {
   "cell_type": "code",
   "execution_count": 24,
   "id": "113205c7",
   "metadata": {
    "scrolled": true
   },
   "outputs": [
    {
     "name": "stdout",
     "output_type": "stream",
     "text": [
      "<class 'pandas.core.frame.DataFrame'>\n",
      "Int64Index: 1751 entries, 0 to 1758\n",
      "Data columns (total 10 columns):\n",
      " #   Column          Non-Null Count  Dtype  \n",
      "---  ------          --------------  -----  \n",
      " 0   Film            1751 non-null   object \n",
      " 1   Year            1751 non-null   object \n",
      " 2   Body_Count      1751 non-null   float64\n",
      " 3   MPAA_Rating     1751 non-null   object \n",
      " 4   Genre           1751 non-null   object \n",
      " 5   Director        1751 non-null   object \n",
      " 6   Length_Minutes  1751 non-null   float64\n",
      " 7   IMDB_Rating     1751 non-null   object \n",
      " 8   Film_Count      1751 non-null   float64\n",
      " 9   Body_Count_Min  1751 non-null   float64\n",
      "dtypes: float64(4), object(6)\n",
      "memory usage: 150.5+ KB\n"
     ]
    }
   ],
   "source": [
    "movies.info()"
   ]
  },
  {
   "cell_type": "markdown",
   "id": "9c308ac3",
   "metadata": {},
   "source": [
    "Обратите внимание, что мы работаем с таким датасетом, где один и тот же фильм может встречаться несколько раз (это связано с тем, что он может относиться к нескольким жанрам или имеет несколько режиссеров - эта информация добавляет дополнительные ряды). Поэтому при некоторых агрегациях будем выкидывать дубликаты из колонки Film, чтобы не было задвоения."
   ]
  },
  {
   "cell_type": "code",
   "execution_count": 25,
   "id": "a5cdd5d4",
   "metadata": {
    "scrolled": true
   },
   "outputs": [
    {
     "data": {
      "text/plain": [
       "(1751, 10)"
      ]
     },
     "execution_count": 25,
     "metadata": {},
     "output_type": "execute_result"
    }
   ],
   "source": [
    "movies.shape # размер оригинального датафрейма"
   ]
  },
  {
   "cell_type": "code",
   "execution_count": 26,
   "id": "dc259e72",
   "metadata": {
    "scrolled": true
   },
   "outputs": [
    {
     "data": {
      "text/plain": [
       "(537, 10)"
      ]
     },
     "execution_count": 26,
     "metadata": {},
     "output_type": "execute_result"
    }
   ],
   "source": [
    "movies.drop_duplicates('Film').shape # размер датафрейма для уникальных фильмов"
   ]
  },
  {
   "cell_type": "markdown",
   "id": "77298a1d",
   "metadata": {},
   "source": [
    "Давайте сгруппируем фильмы по году и суммируем значения для того, чтобы построить столбчатый график."
   ]
  },
  {
   "cell_type": "markdown",
   "id": "aefa0394",
   "metadata": {},
   "source": [
    "## Агрегация по годам. Столбчатый график\n",
    "\n",
    "Давайте построим два столбчатых графика, которые показывают количество фильмов за каждый год и общее количество смертей на экране."
   ]
  },
  {
   "cell_type": "code",
   "execution_count": 27,
   "id": "0463a34b",
   "metadata": {
    "scrolled": true
   },
   "outputs": [],
   "source": [
    "movies_year = movies.drop_duplicates('Film').groupby('Year').sum(numeric_only=True)"
   ]
  },
  {
   "cell_type": "code",
   "execution_count": 28,
   "id": "bac4d515",
   "metadata": {
    "scrolled": true
   },
   "outputs": [
    {
     "data": {
      "text/html": [
       "<div>\n",
       "<style scoped>\n",
       "    .dataframe tbody tr th:only-of-type {\n",
       "        vertical-align: middle;\n",
       "    }\n",
       "\n",
       "    .dataframe tbody tr th {\n",
       "        vertical-align: top;\n",
       "    }\n",
       "\n",
       "    .dataframe thead th {\n",
       "        text-align: right;\n",
       "    }\n",
       "</style>\n",
       "<table border=\"1\" class=\"dataframe\">\n",
       "  <thead>\n",
       "    <tr style=\"text-align: right;\">\n",
       "      <th></th>\n",
       "      <th>Body_Count</th>\n",
       "      <th>Length_Minutes</th>\n",
       "      <th>Film_Count</th>\n",
       "      <th>Body_Count_Min</th>\n",
       "    </tr>\n",
       "    <tr>\n",
       "      <th>Year</th>\n",
       "      <th></th>\n",
       "      <th></th>\n",
       "      <th></th>\n",
       "      <th></th>\n",
       "    </tr>\n",
       "  </thead>\n",
       "  <tbody>\n",
       "    <tr>\n",
       "      <th>2007</th>\n",
       "      <td>4095.0</td>\n",
       "      <td>5475.0</td>\n",
       "      <td>48.0</td>\n",
       "      <td>35.992220</td>\n",
       "    </tr>\n",
       "    <tr>\n",
       "      <th>2008</th>\n",
       "      <td>1785.0</td>\n",
       "      <td>2850.0</td>\n",
       "      <td>26.0</td>\n",
       "      <td>16.522174</td>\n",
       "    </tr>\n",
       "    <tr>\n",
       "      <th>2009</th>\n",
       "      <td>605.0</td>\n",
       "      <td>1235.0</td>\n",
       "      <td>11.0</td>\n",
       "      <td>5.708305</td>\n",
       "    </tr>\n",
       "    <tr>\n",
       "      <th>2010</th>\n",
       "      <td>519.0</td>\n",
       "      <td>463.0</td>\n",
       "      <td>4.0</td>\n",
       "      <td>4.528441</td>\n",
       "    </tr>\n",
       "    <tr>\n",
       "      <th>2013</th>\n",
       "      <td>156.0</td>\n",
       "      <td>119.0</td>\n",
       "      <td>1.0</td>\n",
       "      <td>1.310924</td>\n",
       "    </tr>\n",
       "  </tbody>\n",
       "</table>\n",
       "</div>"
      ],
      "text/plain": [
       "      Body_Count  Length_Minutes  Film_Count  Body_Count_Min\n",
       "Year                                                        \n",
       "2007      4095.0          5475.0        48.0       35.992220\n",
       "2008      1785.0          2850.0        26.0       16.522174\n",
       "2009       605.0          1235.0        11.0        5.708305\n",
       "2010       519.0           463.0         4.0        4.528441\n",
       "2013       156.0           119.0         1.0        1.310924"
      ]
     },
     "execution_count": 28,
     "metadata": {},
     "output_type": "execute_result"
    }
   ],
   "source": [
    "movies_year.tail()"
   ]
  },
  {
   "cell_type": "code",
   "execution_count": 29,
   "id": "f01916bc",
   "metadata": {
    "scrolled": false
   },
   "outputs": [
    {
     "data": {
      "image/png": "[encoded data removed]",
      "text/plain": [
       "<Figure size 1152x1080 with 2 Axes>"
      ]
     },
     "metadata": {
      "needs_background": "light"
     },
     "output_type": "display_data"
    }
   ],
   "source": [
    "fig, ax = plt.subplots(2, 1, figsize=(16, 15))\n",
    "\n",
    "# обратите внимание, что здесь меняем синтаксис - делаем график, применяем метод plot из пандас к колонке. \n",
    "# И уже в параметрах этого метода прописываем тип графика и ось координат, на которую хотим его положить. \n",
    "# При таком подходе у нас каждый год отобразится на оси координат\n",
    "\n",
    "movies_year['Film_Count'].plot(kind='bar', ax=ax[0], color = '#ffa500')\n",
    "ax[0].set_title('Film Count')\n",
    "\n",
    "movies_year['Body_Count'].plot(kind='bar', ax=ax[1], color = 'grey')\n",
    "ax[1].set_title('Total Body Count');"
   ]
  },
  {
   "cell_type": "markdown",
   "id": "262100df",
   "metadata": {},
   "source": [
    "## Агрегация по фильмам. Сортировка по значениям. Горизонтальный столбчатый график"
   ]
  },
  {
   "cell_type": "markdown",
   "id": "484938be",
   "metadata": {},
   "source": [
    "Сейчас мы сгруппируем датасет по фильмам, найдем 10 самых жестоких и визуализируем их."
   ]
  },
  {
   "cell_type": "code",
   "execution_count": 25,
   "id": "1b44c01e",
   "metadata": {
    "scrolled": true
   },
   "outputs": [
    {
     "data": {
      "text/html": [
       "<div>\n",
       "<style scoped>\n",
       "    .dataframe tbody tr th:only-of-type {\n",
       "        vertical-align: middle;\n",
       "    }\n",
       "\n",
       "    .dataframe tbody tr th {\n",
       "        vertical-align: top;\n",
       "    }\n",
       "\n",
       "    .dataframe thead th {\n",
       "        text-align: right;\n",
       "    }\n",
       "</style>\n",
       "<table border=\"1\" class=\"dataframe\">\n",
       "  <thead>\n",
       "    <tr style=\"text-align: right;\">\n",
       "      <th></th>\n",
       "      <th>Year</th>\n",
       "      <th>Body_Count</th>\n",
       "      <th>MPAA_Rating</th>\n",
       "      <th>Genre</th>\n",
       "      <th>Director</th>\n",
       "      <th>Length_Minutes</th>\n",
       "      <th>IMDB_Rating</th>\n",
       "      <th>Film_Count</th>\n",
       "      <th>Body_Count_Min</th>\n",
       "    </tr>\n",
       "    <tr>\n",
       "      <th>Film</th>\n",
       "      <th></th>\n",
       "      <th></th>\n",
       "      <th></th>\n",
       "      <th></th>\n",
       "      <th></th>\n",
       "      <th></th>\n",
       "      <th></th>\n",
       "      <th></th>\n",
       "      <th></th>\n",
       "    </tr>\n",
       "  </thead>\n",
       "  <tbody>\n",
       "    <tr>\n",
       "      <th>24 Hour Party People</th>\n",
       "      <td>2002</td>\n",
       "      <td>7.0</td>\n",
       "      <td>R</td>\n",
       "      <td>Biography</td>\n",
       "      <td>Michael Winterbottom</td>\n",
       "      <td>117.0</td>\n",
       "      <td>7.3</td>\n",
       "      <td>1.0</td>\n",
       "      <td>0.059829</td>\n",
       "    </tr>\n",
       "    <tr>\n",
       "      <th>28 Days Later</th>\n",
       "      <td>2002</td>\n",
       "      <td>53.0</td>\n",
       "      <td>R</td>\n",
       "      <td>Horror</td>\n",
       "      <td>Danny Boyle</td>\n",
       "      <td>113.0</td>\n",
       "      <td>7.6</td>\n",
       "      <td>1.0</td>\n",
       "      <td>0.469027</td>\n",
       "    </tr>\n",
       "    <tr>\n",
       "      <th>28 Weeks Later</th>\n",
       "      <td>2007</td>\n",
       "      <td>212.0</td>\n",
       "      <td>R</td>\n",
       "      <td>Horror</td>\n",
       "      <td>Juan Carlos Fresnadillo</td>\n",
       "      <td>100.0</td>\n",
       "      <td>7.0</td>\n",
       "      <td>1.0</td>\n",
       "      <td>2.120000</td>\n",
       "    </tr>\n",
       "    <tr>\n",
       "      <th>30 Days of Night</th>\n",
       "      <td>2007</td>\n",
       "      <td>67.0</td>\n",
       "      <td>R</td>\n",
       "      <td>Horror</td>\n",
       "      <td>David Slade</td>\n",
       "      <td>113.0</td>\n",
       "      <td>6.6</td>\n",
       "      <td>1.0</td>\n",
       "      <td>0.592920</td>\n",
       "    </tr>\n",
       "    <tr>\n",
       "      <th>300</th>\n",
       "      <td>2007</td>\n",
       "      <td>600.0</td>\n",
       "      <td>R</td>\n",
       "      <td>Action</td>\n",
       "      <td>Zack Snyder</td>\n",
       "      <td>117.0</td>\n",
       "      <td>7.7</td>\n",
       "      <td>1.0</td>\n",
       "      <td>5.128205</td>\n",
       "    </tr>\n",
       "  </tbody>\n",
       "</table>\n",
       "</div>"
      ],
      "text/plain": [
       "                      Year  Body_Count MPAA_Rating      Genre  \\\n",
       "Film                                                            \n",
       "24 Hour Party People  2002         7.0           R  Biography   \n",
       "28 Days Later         2002        53.0           R     Horror   \n",
       "28 Weeks Later        2007       212.0           R     Horror   \n",
       "30 Days of Night      2007        67.0           R     Horror   \n",
       "300                   2007       600.0           R     Action   \n",
       "\n",
       "                                     Director  Length_Minutes IMDB_Rating  \\\n",
       "Film                                                                        \n",
       "24 Hour Party People     Michael Winterbottom           117.0         7.3   \n",
       "28 Days Later                     Danny Boyle           113.0         7.6   \n",
       "28 Weeks Later        Juan Carlos Fresnadillo           100.0         7.0   \n",
       "30 Days of Night                  David Slade           113.0         6.6   \n",
       "300                               Zack Snyder           117.0         7.7   \n",
       "\n",
       "                      Film_Count  Body_Count_Min  \n",
       "Film                                              \n",
       "24 Hour Party People         1.0        0.059829  \n",
       "28 Days Later                1.0        0.469027  \n",
       "28 Weeks Later               1.0        2.120000  \n",
       "30 Days of Night             1.0        0.592920  \n",
       "300                          1.0        5.128205  "
      ]
     },
     "execution_count": 25,
     "metadata": {},
     "output_type": "execute_result"
    }
   ],
   "source": [
    "movies_film = movies.drop_duplicates('Film').set_index('Film') # агрегируем и делаем индексом название фильма, так как индекс станет шкалой\n",
    "movies_film.head()"
   ]
  },
  {
   "cell_type": "code",
   "execution_count": 26,
   "id": "51ed1495",
   "metadata": {
    "scrolled": true
   },
   "outputs": [
    {
     "data": {
      "text/plain": [
       "Film\n",
       "King Arthur                              378.0\n",
       "Windtalkers                              389.0\n",
       "Lord of the Rings: Two Towers            468.0\n",
       "A Fistful of Dynamite                    471.0\n",
       "The Last Samurai                         558.0\n",
       "Troy                                     572.0\n",
       "Tae Guk Gi: The Brotherhood of War       590.0\n",
       "300                                      600.0\n",
       "Kingdom of Heaven                        610.0\n",
       "Lord of the Rings: Return of the King    836.0\n",
       "Name: Body_Count, dtype: float64"
      ]
     },
     "execution_count": 26,
     "metadata": {},
     "output_type": "execute_result"
    }
   ],
   "source": [
    "movies_film.sort_values(by=['Body_Count'])['Body_Count'].tail(10) # сортируем и берем 10 последних значений"
   ]
  },
  {
   "cell_type": "code",
   "execution_count": 27,
   "id": "50e2a496",
   "metadata": {
    "scrolled": false
   },
   "outputs": [
    {
     "data": {
      "image/png": "[encoded data removed]",
      "text/plain": [
       "<Figure size 720x576 with 2 Axes>"
      ]
     },
     "metadata": {
      "needs_background": "light"
     },
     "output_type": "display_data"
    }
   ],
   "source": [
    "fig, ax = plt.subplots(nrows=1, ncols=2, figsize=(10, 8))\n",
    "\n",
    "# график для количества убитых людей в фильме. Горизонтальный график делаем параметром barh (bar horizontal)\n",
    "movies_film.sort_values(by=['Body_Count'])['Body_Count'].tail(10).plot(\n",
    "    kind='barh', ax=ax[0])\n",
    "ax[0].set_title('Total Body Count')\n",
    "\n",
    "movies_film.sort_values(by=['Body_Count_Min'])['Body_Count_Min'].tail(10).plot(\n",
    "    kind='barh', ax=ax[1])  # для количества убитых людей на минуту фильма\n",
    "\n",
    "ax[1].set_title('Body Count per Minute')\n",
    "ax[1].yaxis.set_ticks_position('right')\n",
    "\n",
    "for i in range(2):\n",
    "    ax[i].set_ylabel(\n",
    "        '', visible=False\n",
    "    )  # убираем подпись к шкале, которая генерируется автоматически"
   ]
  },
  {
   "cell_type": "markdown",
   "id": "ef09fa37",
   "metadata": {},
   "source": [
    "# Рейтинги: график рассеяния для категориальной переменной"
   ]
  },
  {
   "cell_type": "markdown",
   "id": "edd64788",
   "metadata": {},
   "source": [
    "Графики рассеяния для категориальных переменных тоже имеют место быть. В данном случае у нас будет категориальная переменная по x (буквенный рейтинг фильма). Такой график помогает нам увидеть разброс значений в рамках категорий, а также некоторые корелляции и зависимости. Не забывайте только добавлять прозрачность, потому что в случае категориальных переменных большое количество точек может накладываться друг на друга.\n"
   ]
  },
  {
   "cell_type": "code",
   "execution_count": 28,
   "id": "fb10d675",
   "metadata": {
    "scrolled": true
   },
   "outputs": [
    {
     "data": {
      "text/plain": [
       "R           1082\n",
       "PG-13        386\n",
       "PG           122\n",
       "Unrated       82\n",
       "Approved      28\n",
       "G             14\n",
       "M             13\n",
       "GP            13\n",
       "X             10\n",
       "NR             1\n",
       "Name: MPAA_Rating, dtype: int64"
      ]
     },
     "execution_count": 28,
     "metadata": {},
     "output_type": "execute_result"
    }
   ],
   "source": [
    "movies['MPAA_Rating'].value_counts()"
   ]
  },
  {
   "cell_type": "markdown",
   "id": "d099548a",
   "metadata": {},
   "source": [
    "**Упражнение:**\n",
    "    \n",
    "Постройте график рассеяния для MPAA_Rating по шкале x, Body_Count_Min по y и в качестве размера точки возьмите абсолютное значение Body Count."
   ]
  },
  {
   "cell_type": "code",
   "execution_count": 29,
   "id": "81930819",
   "metadata": {
    "scrolled": false
   },
   "outputs": [
    {
     "data": {
      "text/plain": [
       "Text(0, 0.5, 'Body count per minute')"
      ]
     },
     "execution_count": 29,
     "metadata": {},
     "output_type": "execute_result"
    },
    {
     "data": {
      "image/png": "[encoded data removed]",
      "text/plain": [
       "<Figure size 1008x720 with 1 Axes>"
      ]
     },
     "metadata": {
      "needs_background": "light"
     },
     "output_type": "display_data"
    }
   ],
   "source": [
    "fig, ax = plt.subplots(figsize=(14, 10))\n",
    "\n",
    "ax.scatter(movies['MPAA_Rating'], movies['Body_Count_Min'], s=movies['Body_Count'], alpha=.2)\n",
    "ax.set_title('Body counts and MPAA ratings')\n",
    "ax.set_xlabel('MPAA Rating')\n",
    "ax.set_ylabel('Body count per minute')\n"
   ]
  },
  {
   "cell_type": "markdown",
   "id": "6bebe527",
   "metadata": {},
   "source": [
    "Проинтерпретируйте график."
   ]
  },
  {
   "cell_type": "markdown",
   "id": "9bbb3ed0",
   "metadata": {},
   "source": [
    "Так же для работы с такими данными могут понадобиться такие графики, как swarmplot (например, есть в библиотеке seaborn). В таком графике столбец переменной немного расширен, что позволяет точкам немного распределиться по горизонтали.\n",
    "\n",
    "https://seaborn.pydata.org/generated/seaborn.swarmplot.html"
   ]
  },
  {
   "cell_type": "code",
   "execution_count": 30,
   "id": "dd40af0d",
   "metadata": {
    "scrolled": false
   },
   "outputs": [
    {
     "name": "stderr",
     "output_type": "stream",
     "text": [
      "/Users/kasyanenko/opt/anaconda3/lib/python3.9/site-packages/seaborn/categorical.py:1296: UserWarning: 56.7% of the points cannot be placed; you may want to decrease the size of the markers or use stripplot.\n",
      "  warnings.warn(msg, UserWarning)\n",
      "/Users/kasyanenko/opt/anaconda3/lib/python3.9/site-packages/seaborn/categorical.py:1296: UserWarning: 11.5% of the points cannot be placed; you may want to decrease the size of the markers or use stripplot.\n",
      "  warnings.warn(msg, UserWarning)\n",
      "/Users/kasyanenko/opt/anaconda3/lib/python3.9/site-packages/seaborn/categorical.py:1296: UserWarning: 33.2% of the points cannot be placed; you may want to decrease the size of the markers or use stripplot.\n",
      "  warnings.warn(msg, UserWarning)\n"
     ]
    },
    {
     "data": {
      "image/png": "[encoded data removed]",
      "text/plain": [
       "<Figure size 1440x720 with 1 Axes>"
      ]
     },
     "metadata": {
      "needs_background": "light"
     },
     "output_type": "display_data"
    }
   ],
   "source": [
    "import seaborn as sns\n",
    "\n",
    "fig, ax = plt.subplots(1,1, figsize = (20,10))\n",
    "\n",
    "sns.swarmplot(x = movies['MPAA_Rating'], y = movies['Body_Count_Min']);"
   ]
  },
  {
   "cell_type": "markdown",
   "id": "cfe408b0",
   "metadata": {},
   "source": [
    "# Рейтинги: график рассеяния, подписываем фильмы"
   ]
  },
  {
   "cell_type": "markdown",
   "id": "63348e1d",
   "metadata": {},
   "source": [
    "Давайте построим график рассеяния для рейтинга imbd и body count per minute. А так же подпишем значения для трех самых жестоких фильмов."
   ]
  },
  {
   "cell_type": "code",
   "execution_count": 31,
   "id": "f2f66854",
   "metadata": {
    "scrolled": true
   },
   "outputs": [
    {
     "data": {
      "text/html": [
       "<div>\n",
       "<style scoped>\n",
       "    .dataframe tbody tr th:only-of-type {\n",
       "        vertical-align: middle;\n",
       "    }\n",
       "\n",
       "    .dataframe tbody tr th {\n",
       "        vertical-align: top;\n",
       "    }\n",
       "\n",
       "    .dataframe thead th {\n",
       "        text-align: right;\n",
       "    }\n",
       "</style>\n",
       "<table border=\"1\" class=\"dataframe\">\n",
       "  <thead>\n",
       "    <tr style=\"text-align: right;\">\n",
       "      <th></th>\n",
       "      <th>Film</th>\n",
       "      <th>Year</th>\n",
       "      <th>Body_Count</th>\n",
       "      <th>MPAA_Rating</th>\n",
       "      <th>Genre</th>\n",
       "      <th>Director</th>\n",
       "      <th>Length_Minutes</th>\n",
       "      <th>IMDB_Rating</th>\n",
       "      <th>Film_Count</th>\n",
       "      <th>Body_Count_Min</th>\n",
       "    </tr>\n",
       "  </thead>\n",
       "  <tbody>\n",
       "    <tr>\n",
       "      <th>769</th>\n",
       "      <td>Lord of the Rings: Return of the King</td>\n",
       "      <td>2003</td>\n",
       "      <td>836.0</td>\n",
       "      <td>PG-13</td>\n",
       "      <td>Action</td>\n",
       "      <td>Peter Jackson</td>\n",
       "      <td>201.0</td>\n",
       "      <td>8.9</td>\n",
       "      <td>1.0</td>\n",
       "      <td>4.159204</td>\n",
       "    </tr>\n",
       "    <tr>\n",
       "      <th>694</th>\n",
       "      <td>Kingdom of Heaven</td>\n",
       "      <td>2005</td>\n",
       "      <td>610.0</td>\n",
       "      <td>R</td>\n",
       "      <td>Action</td>\n",
       "      <td>Ridley Scott</td>\n",
       "      <td>144.0</td>\n",
       "      <td>7.1</td>\n",
       "      <td>1.0</td>\n",
       "      <td>4.236111</td>\n",
       "    </tr>\n",
       "    <tr>\n",
       "      <th>12</th>\n",
       "      <td>300</td>\n",
       "      <td>2007</td>\n",
       "      <td>600.0</td>\n",
       "      <td>R</td>\n",
       "      <td>Action</td>\n",
       "      <td>Zack Snyder</td>\n",
       "      <td>117.0</td>\n",
       "      <td>7.7</td>\n",
       "      <td>1.0</td>\n",
       "      <td>5.128205</td>\n",
       "    </tr>\n",
       "  </tbody>\n",
       "</table>\n",
       "</div>"
      ],
      "text/plain": [
       "                                      Film  Year  Body_Count MPAA_Rating  \\\n",
       "769  Lord of the Rings: Return of the King  2003       836.0       PG-13   \n",
       "694                      Kingdom of Heaven  2005       610.0           R   \n",
       "12                                     300  2007       600.0           R   \n",
       "\n",
       "      Genre       Director  Length_Minutes IMDB_Rating  Film_Count  \\\n",
       "769  Action  Peter Jackson           201.0         8.9         1.0   \n",
       "694  Action   Ridley Scott           144.0         7.1         1.0   \n",
       "12   Action    Zack Snyder           117.0         7.7         1.0   \n",
       "\n",
       "     Body_Count_Min  \n",
       "769        4.159204  \n",
       "694        4.236111  \n",
       "12         5.128205  "
      ]
     },
     "execution_count": 31,
     "metadata": {},
     "output_type": "execute_result"
    }
   ],
   "source": [
    "movies.drop_duplicates('Film').sort_values(by=['Body_Count'], ascending=False).head(3) # находим три самых жестоких фильма\n"
   ]
  },
  {
   "cell_type": "code",
   "execution_count": 32,
   "id": "f5da09a6",
   "metadata": {
    "scrolled": true
   },
   "outputs": [
    {
     "data": {
      "text/plain": [
       "[['Lord of the Rings: Return of the King', 8.9, 4.159203980099503],\n",
       " ['Kingdom of Heaven', 7.1, 4.236111111111111],\n",
       " ['300', 7.7, 5.128205128205129]]"
      ]
     },
     "execution_count": 32,
     "metadata": {},
     "output_type": "execute_result"
    }
   ],
   "source": [
    "bc_top = movies.drop_duplicates('Film').sort_values(by=['Body_Count'], ascending=False).head(3) # сохраним датафрейм из трех фильмов\n",
    "annotations = []\n",
    "for r in range(len(bc_top)): # сделаем цикл, который сложит нам в список тройки \"название фильма - рейтинг - количество убийств на минуту фильма\"\n",
    "    annotations.append([bc_top['Film'].iloc[r], bc_top['IMDB_Rating'].iloc[r], bc_top['Body_Count_Min'].iloc[r]])\n",
    "annotations"
   ]
  },
  {
   "cell_type": "markdown",
   "id": "226b13c1",
   "metadata": {},
   "source": [
    "**Упражнение:**\n",
    "\n",
    "Сделайте график рассеяния для рейтинга imdb по x, body count per minute для y, и body count для размера точки. Если не успеваем - посмотрите дома самостоятельно, как сделать подписи."
   ]
  },
  {
   "cell_type": "code",
   "execution_count": 33,
   "id": "c620bc18",
   "metadata": {
    "scrolled": false
   },
   "outputs": [
    {
     "data": {
      "image/png": "[encoded data removed]",
      "text/plain": [
       "<Figure size 1008x720 with 1 Axes>"
      ]
     },
     "metadata": {
      "needs_background": "light"
     },
     "output_type": "display_data"
    }
   ],
   "source": [
    "fig, ax = plt.subplots(figsize=(14, 10))\n",
    "\n",
    "ax.scatter(movies['IMDB_Rating'], movies['Body_Count_Min'], s=movies['Body_Count'], alpha=.5)\n",
    "ax.set_title('Body count and IMDB ratings')\n",
    "ax.set_xlabel('IMDB Rating')\n",
    "ax.set_ylabel('Body count per minute')\n",
    "\n",
    "for annotation, x, y in annotations: # идем в наш список с тремя фильмами и итерируемся по нему\n",
    "    plt.annotate(   # функция, которая подпишет наблюдения в нашем графики\n",
    "        annotation, # обращаемся к названию фильма\n",
    "        xy=(x, y),  # задаем координаты точек\n",
    "        xytext=(0, 30), # задаем координаты текста (смещение на 30 единиц вверх по y)\n",
    "        textcoords='offset points',\n",
    "        ha='center',\n",
    "        va='bottom',\n",
    "        size=12,\n",
    "        bbox=dict(boxstyle='round,pad=0.5', fc='orange', alpha=0.4),\n",
    "        arrowprops=dict(arrowstyle='-'))"
   ]
  },
  {
   "cell_type": "markdown",
   "id": "0af7335b",
   "metadata": {},
   "source": [
    "## Делаем совмещенные столбчатые диграммы из агрегированных данных"
   ]
  },
  {
   "cell_type": "code",
   "execution_count": 34,
   "id": "0164a2ae",
   "metadata": {
    "scrolled": true
   },
   "outputs": [],
   "source": [
    "bc = pd.DataFrame({'mean_value': movies.drop_duplicates('Film').groupby('Year')['Body_Count'].mean(),\n",
    "                        'median_value': movies.drop_duplicates('Film').groupby('Year')['Body_Count'].median()})\n",
    "\n",
    "bc_min = pd.DataFrame({'mean_value': movies.drop_duplicates('Film').groupby('Year')['Body_Count_Min'].mean(),\n",
    "                           'median_value': movies.drop_duplicates('Film').groupby('Year')['Body_Count_Min'].median()})"
   ]
  },
  {
   "cell_type": "code",
   "execution_count": 35,
   "id": "491344dd",
   "metadata": {
    "scrolled": true
   },
   "outputs": [
    {
     "name": "stderr",
     "output_type": "stream",
     "text": [
      "/var/folders/qc/dzy0dz5x47q2yd53pdc35csr0000gn/T/ipykernel_31276/934469432.py:2: FutureWarning: ['Film', 'MPAA_Rating', 'Genre', 'Director'] did not aggregate successfully. If any error is raised this will raise in a future version of pandas. Drop these columns/ops to avoid this warning.\n",
      "  group_year = movies.groupby('Year').agg([np.mean, np.median, sum])\n"
     ]
    },
    {
     "data": {
      "text/html": [
       "<div>\n",
       "<style scoped>\n",
       "    .dataframe tbody tr th:only-of-type {\n",
       "        vertical-align: middle;\n",
       "    }\n",
       "\n",
       "    .dataframe tbody tr th {\n",
       "        vertical-align: top;\n",
       "    }\n",
       "\n",
       "    .dataframe thead tr th {\n",
       "        text-align: left;\n",
       "    }\n",
       "\n",
       "    .dataframe thead tr:last-of-type th {\n",
       "        text-align: right;\n",
       "    }\n",
       "</style>\n",
       "<table border=\"1\" class=\"dataframe\">\n",
       "  <thead>\n",
       "    <tr>\n",
       "      <th></th>\n",
       "      <th colspan=\"3\" halign=\"left\">Body_Count</th>\n",
       "      <th colspan=\"3\" halign=\"left\">Length_Minutes</th>\n",
       "      <th colspan=\"3\" halign=\"left\">IMDB_Rating</th>\n",
       "      <th colspan=\"3\" halign=\"left\">Film_Count</th>\n",
       "      <th colspan=\"3\" halign=\"left\">Body_Count_Min</th>\n",
       "    </tr>\n",
       "    <tr>\n",
       "      <th></th>\n",
       "      <th>mean</th>\n",
       "      <th>median</th>\n",
       "      <th>sum</th>\n",
       "      <th>mean</th>\n",
       "      <th>median</th>\n",
       "      <th>sum</th>\n",
       "      <th>mean</th>\n",
       "      <th>median</th>\n",
       "      <th>sum</th>\n",
       "      <th>mean</th>\n",
       "      <th>median</th>\n",
       "      <th>sum</th>\n",
       "      <th>mean</th>\n",
       "      <th>median</th>\n",
       "      <th>sum</th>\n",
       "    </tr>\n",
       "    <tr>\n",
       "      <th>Year</th>\n",
       "      <th></th>\n",
       "      <th></th>\n",
       "      <th></th>\n",
       "      <th></th>\n",
       "      <th></th>\n",
       "      <th></th>\n",
       "      <th></th>\n",
       "      <th></th>\n",
       "      <th></th>\n",
       "      <th></th>\n",
       "      <th></th>\n",
       "      <th></th>\n",
       "      <th></th>\n",
       "      <th></th>\n",
       "      <th></th>\n",
       "    </tr>\n",
       "  </thead>\n",
       "  <tbody>\n",
       "    <tr>\n",
       "      <th>1949</th>\n",
       "      <td>4.0</td>\n",
       "      <td>4.0</td>\n",
       "      <td>12.0</td>\n",
       "      <td>104.0</td>\n",
       "      <td>104.0</td>\n",
       "      <td>312.0</td>\n",
       "      <td>8.40</td>\n",
       "      <td>8.4</td>\n",
       "      <td>25.2</td>\n",
       "      <td>1.0</td>\n",
       "      <td>1.0</td>\n",
       "      <td>3.0</td>\n",
       "      <td>0.038462</td>\n",
       "      <td>0.038462</td>\n",
       "      <td>0.115385</td>\n",
       "    </tr>\n",
       "    <tr>\n",
       "      <th>1954</th>\n",
       "      <td>56.0</td>\n",
       "      <td>50.0</td>\n",
       "      <td>280.0</td>\n",
       "      <td>138.6</td>\n",
       "      <td>93.0</td>\n",
       "      <td>693.0</td>\n",
       "      <td>8.08</td>\n",
       "      <td>7.6</td>\n",
       "      <td>40.4</td>\n",
       "      <td>1.0</td>\n",
       "      <td>1.0</td>\n",
       "      <td>5.0</td>\n",
       "      <td>0.448185</td>\n",
       "      <td>0.537634</td>\n",
       "      <td>2.240923</td>\n",
       "    </tr>\n",
       "    <tr>\n",
       "      <th>1957</th>\n",
       "      <td>67.0</td>\n",
       "      <td>67.0</td>\n",
       "      <td>134.0</td>\n",
       "      <td>88.0</td>\n",
       "      <td>88.0</td>\n",
       "      <td>176.0</td>\n",
       "      <td>8.50</td>\n",
       "      <td>8.5</td>\n",
       "      <td>17.0</td>\n",
       "      <td>1.0</td>\n",
       "      <td>1.0</td>\n",
       "      <td>2.0</td>\n",
       "      <td>0.761364</td>\n",
       "      <td>0.761364</td>\n",
       "      <td>1.522727</td>\n",
       "    </tr>\n",
       "    <tr>\n",
       "      <th>1959</th>\n",
       "      <td>7.0</td>\n",
       "      <td>7.0</td>\n",
       "      <td>28.0</td>\n",
       "      <td>79.0</td>\n",
       "      <td>79.0</td>\n",
       "      <td>316.0</td>\n",
       "      <td>3.90</td>\n",
       "      <td>3.9</td>\n",
       "      <td>15.6</td>\n",
       "      <td>1.0</td>\n",
       "      <td>1.0</td>\n",
       "      <td>4.0</td>\n",
       "      <td>0.088608</td>\n",
       "      <td>0.088608</td>\n",
       "      <td>0.354430</td>\n",
       "    </tr>\n",
       "    <tr>\n",
       "      <th>1960</th>\n",
       "      <td>55.0</td>\n",
       "      <td>55.0</td>\n",
       "      <td>55.0</td>\n",
       "      <td>128.0</td>\n",
       "      <td>128.0</td>\n",
       "      <td>128.0</td>\n",
       "      <td>7.80</td>\n",
       "      <td>7.8</td>\n",
       "      <td>7.8</td>\n",
       "      <td>1.0</td>\n",
       "      <td>1.0</td>\n",
       "      <td>1.0</td>\n",
       "      <td>0.429688</td>\n",
       "      <td>0.429688</td>\n",
       "      <td>0.429688</td>\n",
       "    </tr>\n",
       "  </tbody>\n",
       "</table>\n",
       "</div>"
      ],
      "text/plain": [
       "     Body_Count               Length_Minutes               IMDB_Rating         \\\n",
       "           mean median    sum           mean median    sum        mean median   \n",
       "Year                                                                            \n",
       "1949        4.0    4.0   12.0          104.0  104.0  312.0        8.40    8.4   \n",
       "1954       56.0   50.0  280.0          138.6   93.0  693.0        8.08    7.6   \n",
       "1957       67.0   67.0  134.0           88.0   88.0  176.0        8.50    8.5   \n",
       "1959        7.0    7.0   28.0           79.0   79.0  316.0        3.90    3.9   \n",
       "1960       55.0   55.0   55.0          128.0  128.0  128.0        7.80    7.8   \n",
       "\n",
       "           Film_Count             Body_Count_Min                      \n",
       "       sum       mean median  sum           mean    median       sum  \n",
       "Year                                                                  \n",
       "1949  25.2        1.0    1.0  3.0       0.038462  0.038462  0.115385  \n",
       "1954  40.4        1.0    1.0  5.0       0.448185  0.537634  2.240923  \n",
       "1957  17.0        1.0    1.0  2.0       0.761364  0.761364  1.522727  \n",
       "1959  15.6        1.0    1.0  4.0       0.088608  0.088608  0.354430  \n",
       "1960   7.8        1.0    1.0  1.0       0.429688  0.429688  0.429688  "
      ]
     },
     "execution_count": 35,
     "metadata": {},
     "output_type": "execute_result"
    }
   ],
   "source": [
    "# альтернативный вариант групировки\n",
    "group_year = movies.groupby('Year').agg([np.mean, np.median, sum])\n",
    "group_year.head()"
   ]
  },
  {
   "cell_type": "code",
   "execution_count": 36,
   "id": "56fca950",
   "metadata": {
    "scrolled": true
   },
   "outputs": [
    {
     "data": {
      "text/html": [
       "<div>\n",
       "<style scoped>\n",
       "    .dataframe tbody tr th:only-of-type {\n",
       "        vertical-align: middle;\n",
       "    }\n",
       "\n",
       "    .dataframe tbody tr th {\n",
       "        vertical-align: top;\n",
       "    }\n",
       "\n",
       "    .dataframe thead th {\n",
       "        text-align: right;\n",
       "    }\n",
       "</style>\n",
       "<table border=\"1\" class=\"dataframe\">\n",
       "  <thead>\n",
       "    <tr style=\"text-align: right;\">\n",
       "      <th></th>\n",
       "      <th>mean_value</th>\n",
       "      <th>median_value</th>\n",
       "    </tr>\n",
       "    <tr>\n",
       "      <th>Year</th>\n",
       "      <th></th>\n",
       "      <th></th>\n",
       "    </tr>\n",
       "  </thead>\n",
       "  <tbody>\n",
       "    <tr>\n",
       "      <th>1949</th>\n",
       "      <td>4.0</td>\n",
       "      <td>4.0</td>\n",
       "    </tr>\n",
       "    <tr>\n",
       "      <th>1954</th>\n",
       "      <td>57.5</td>\n",
       "      <td>57.5</td>\n",
       "    </tr>\n",
       "    <tr>\n",
       "      <th>1957</th>\n",
       "      <td>67.0</td>\n",
       "      <td>67.0</td>\n",
       "    </tr>\n",
       "    <tr>\n",
       "      <th>1959</th>\n",
       "      <td>7.0</td>\n",
       "      <td>7.0</td>\n",
       "    </tr>\n",
       "    <tr>\n",
       "      <th>1960</th>\n",
       "      <td>55.0</td>\n",
       "      <td>55.0</td>\n",
       "    </tr>\n",
       "  </tbody>\n",
       "</table>\n",
       "</div>"
      ],
      "text/plain": [
       "      mean_value  median_value\n",
       "Year                          \n",
       "1949         4.0           4.0\n",
       "1954        57.5          57.5\n",
       "1957        67.0          67.0\n",
       "1959         7.0           7.0\n",
       "1960        55.0          55.0"
      ]
     },
     "execution_count": 36,
     "metadata": {},
     "output_type": "execute_result"
    }
   ],
   "source": [
    "bc.head()"
   ]
  },
  {
   "cell_type": "code",
   "execution_count": 37,
   "id": "00fd0a25",
   "metadata": {
    "scrolled": true
   },
   "outputs": [
    {
     "data": {
      "text/html": [
       "<div>\n",
       "<style scoped>\n",
       "    .dataframe tbody tr th:only-of-type {\n",
       "        vertical-align: middle;\n",
       "    }\n",
       "\n",
       "    .dataframe tbody tr th {\n",
       "        vertical-align: top;\n",
       "    }\n",
       "\n",
       "    .dataframe thead th {\n",
       "        text-align: right;\n",
       "    }\n",
       "</style>\n",
       "<table border=\"1\" class=\"dataframe\">\n",
       "  <thead>\n",
       "    <tr style=\"text-align: right;\">\n",
       "      <th></th>\n",
       "      <th>mean_value</th>\n",
       "      <th>median_value</th>\n",
       "    </tr>\n",
       "    <tr>\n",
       "      <th>Year</th>\n",
       "      <th></th>\n",
       "      <th></th>\n",
       "    </tr>\n",
       "  </thead>\n",
       "  <tbody>\n",
       "    <tr>\n",
       "      <th>1949</th>\n",
       "      <td>0.038462</td>\n",
       "      <td>0.038462</td>\n",
       "    </tr>\n",
       "    <tr>\n",
       "      <th>1954</th>\n",
       "      <td>0.425822</td>\n",
       "      <td>0.425822</td>\n",
       "    </tr>\n",
       "    <tr>\n",
       "      <th>1957</th>\n",
       "      <td>0.761364</td>\n",
       "      <td>0.761364</td>\n",
       "    </tr>\n",
       "    <tr>\n",
       "      <th>1959</th>\n",
       "      <td>0.088608</td>\n",
       "      <td>0.088608</td>\n",
       "    </tr>\n",
       "    <tr>\n",
       "      <th>1960</th>\n",
       "      <td>0.429688</td>\n",
       "      <td>0.429688</td>\n",
       "    </tr>\n",
       "  </tbody>\n",
       "</table>\n",
       "</div>"
      ],
      "text/plain": [
       "      mean_value  median_value\n",
       "Year                          \n",
       "1949    0.038462      0.038462\n",
       "1954    0.425822      0.425822\n",
       "1957    0.761364      0.761364\n",
       "1959    0.088608      0.088608\n",
       "1960    0.429688      0.429688"
      ]
     },
     "execution_count": 37,
     "metadata": {},
     "output_type": "execute_result"
    }
   ],
   "source": [
    "bc_min.head()"
   ]
  },
  {
   "cell_type": "code",
   "execution_count": 38,
   "id": "f5ea6b20",
   "metadata": {
    "scrolled": false
   },
   "outputs": [
    {
     "data": {
      "image/png": "[encoded data removed]",
      "text/plain": [
       "<Figure size 1152x1080 with 2 Axes>"
      ]
     },
     "metadata": {
      "needs_background": "light"
     },
     "output_type": "display_data"
    }
   ],
   "source": [
    "fig, ax = plt.subplots(2, 1, figsize=(16, 15))\n",
    "\n",
    "bc.plot(kind='bar', ax=ax[0])\n",
    "ax[0].set_title('Body Count by Film')\n",
    "\n",
    "bc_min.plot(kind='bar', ax=ax[1])\n",
    "ax[1].set_title('Body Count by Minute');\n",
    "  "
   ]
  },
  {
   "cell_type": "markdown",
   "id": "8027e25d",
   "metadata": {},
   "source": [
    "## Упражнение: по аналогии с фильмами найдите самых жестоких режиссеров (тут уже не выкидываем дубликаты)"
   ]
  },
  {
   "cell_type": "code",
   "execution_count": 30,
   "id": "d80532e9",
   "metadata": {
    "scrolled": true
   },
   "outputs": [],
   "source": [
    "movies_dir = movies.groupby('Director').sum(numeric_only=True).sort_values(by=['Body_Count']).tail(10)"
   ]
  },
  {
   "cell_type": "code",
   "execution_count": 31,
   "id": "caf2bca3",
   "metadata": {
    "scrolled": true
   },
   "outputs": [
    {
     "data": {
      "text/html": [
       "<div>\n",
       "<style scoped>\n",
       "    .dataframe tbody tr th:only-of-type {\n",
       "        vertical-align: middle;\n",
       "    }\n",
       "\n",
       "    .dataframe tbody tr th {\n",
       "        vertical-align: top;\n",
       "    }\n",
       "\n",
       "    .dataframe thead th {\n",
       "        text-align: right;\n",
       "    }\n",
       "</style>\n",
       "<table border=\"1\" class=\"dataframe\">\n",
       "  <thead>\n",
       "    <tr style=\"text-align: right;\">\n",
       "      <th></th>\n",
       "      <th>Body_Count</th>\n",
       "      <th>Length_Minutes</th>\n",
       "      <th>Film_Count</th>\n",
       "      <th>Body_Count_Min</th>\n",
       "    </tr>\n",
       "    <tr>\n",
       "      <th>Director</th>\n",
       "      <th></th>\n",
       "      <th></th>\n",
       "      <th></th>\n",
       "      <th></th>\n",
       "    </tr>\n",
       "  </thead>\n",
       "  <tbody>\n",
       "    <tr>\n",
       "      <th>Uwe Boll</th>\n",
       "      <td>1818.0</td>\n",
       "      <td>1031.0</td>\n",
       "      <td>10.0</td>\n",
       "      <td>16.766390</td>\n",
       "    </tr>\n",
       "    <tr>\n",
       "      <th>Steven Spielberg</th>\n",
       "      <td>1824.0</td>\n",
       "      <td>3360.0</td>\n",
       "      <td>23.0</td>\n",
       "      <td>12.095150</td>\n",
       "    </tr>\n",
       "    <tr>\n",
       "      <th>Antoine Fuqua</th>\n",
       "      <td>2015.0</td>\n",
       "      <td>1699.0</td>\n",
       "      <td>15.0</td>\n",
       "      <td>16.781665</td>\n",
       "    </tr>\n",
       "    <tr>\n",
       "      <th>Wolfgang Petersen</th>\n",
       "      <td>2095.0</td>\n",
       "      <td>1439.0</td>\n",
       "      <td>11.0</td>\n",
       "      <td>15.862454</td>\n",
       "    </tr>\n",
       "    <tr>\n",
       "      <th>Robert Rodriguez</th>\n",
       "      <td>2645.0</td>\n",
       "      <td>2186.0</td>\n",
       "      <td>18.0</td>\n",
       "      <td>21.028373</td>\n",
       "    </tr>\n",
       "    <tr>\n",
       "      <th>Zack Snyder</th>\n",
       "      <td>3155.0</td>\n",
       "      <td>1358.0</td>\n",
       "      <td>11.0</td>\n",
       "      <td>27.126865</td>\n",
       "    </tr>\n",
       "    <tr>\n",
       "      <th>Ridley Scott</th>\n",
       "      <td>3562.0</td>\n",
       "      <td>2601.0</td>\n",
       "      <td>19.0</td>\n",
       "      <td>24.768490</td>\n",
       "    </tr>\n",
       "    <tr>\n",
       "      <th>Edward Zwick</th>\n",
       "      <td>3567.0</td>\n",
       "      <td>1411.0</td>\n",
       "      <td>10.0</td>\n",
       "      <td>24.760846</td>\n",
       "    </tr>\n",
       "    <tr>\n",
       "      <th>Peter Jackson</th>\n",
       "      <td>4502.0</td>\n",
       "      <td>2630.0</td>\n",
       "      <td>15.0</td>\n",
       "      <td>24.186545</td>\n",
       "    </tr>\n",
       "    <tr>\n",
       "      <th>John Woo</th>\n",
       "      <td>5127.0</td>\n",
       "      <td>4009.0</td>\n",
       "      <td>34.0</td>\n",
       "      <td>42.306633</td>\n",
       "    </tr>\n",
       "  </tbody>\n",
       "</table>\n",
       "</div>"
      ],
      "text/plain": [
       "                   Body_Count  Length_Minutes  Film_Count  Body_Count_Min\n",
       "Director                                                                 \n",
       "Uwe Boll               1818.0          1031.0        10.0       16.766390\n",
       "Steven Spielberg       1824.0          3360.0        23.0       12.095150\n",
       "Antoine Fuqua          2015.0          1699.0        15.0       16.781665\n",
       "Wolfgang Petersen      2095.0          1439.0        11.0       15.862454\n",
       "Robert Rodriguez       2645.0          2186.0        18.0       21.028373\n",
       "Zack Snyder            3155.0          1358.0        11.0       27.126865\n",
       "Ridley Scott           3562.0          2601.0        19.0       24.768490\n",
       "Edward Zwick           3567.0          1411.0        10.0       24.760846\n",
       "Peter Jackson          4502.0          2630.0        15.0       24.186545\n",
       "John Woo               5127.0          4009.0        34.0       42.306633"
      ]
     },
     "execution_count": 31,
     "metadata": {},
     "output_type": "execute_result"
    }
   ],
   "source": [
    "movies_dir"
   ]
  },
  {
   "cell_type": "code",
   "execution_count": 32,
   "id": "0830a705",
   "metadata": {
    "scrolled": true
   },
   "outputs": [
    {
     "data": {
      "text/html": [
       "<div>\n",
       "<style scoped>\n",
       "    .dataframe tbody tr th:only-of-type {\n",
       "        vertical-align: middle;\n",
       "    }\n",
       "\n",
       "    .dataframe tbody tr th {\n",
       "        vertical-align: top;\n",
       "    }\n",
       "\n",
       "    .dataframe thead th {\n",
       "        text-align: right;\n",
       "    }\n",
       "</style>\n",
       "<table border=\"1\" class=\"dataframe\">\n",
       "  <thead>\n",
       "    <tr style=\"text-align: right;\">\n",
       "      <th></th>\n",
       "      <th>Body_Count</th>\n",
       "      <th>Length_Minutes</th>\n",
       "      <th>Film_Count</th>\n",
       "      <th>Body_Count_Min</th>\n",
       "    </tr>\n",
       "    <tr>\n",
       "      <th>Director</th>\n",
       "      <th></th>\n",
       "      <th></th>\n",
       "      <th></th>\n",
       "      <th></th>\n",
       "    </tr>\n",
       "  </thead>\n",
       "  <tbody>\n",
       "    <tr>\n",
       "      <th>Steven Spielberg</th>\n",
       "      <td>1824.0</td>\n",
       "      <td>3360.0</td>\n",
       "      <td>23.0</td>\n",
       "      <td>12.095150</td>\n",
       "    </tr>\n",
       "    <tr>\n",
       "      <th>Wolfgang Petersen</th>\n",
       "      <td>2095.0</td>\n",
       "      <td>1439.0</td>\n",
       "      <td>11.0</td>\n",
       "      <td>15.862454</td>\n",
       "    </tr>\n",
       "    <tr>\n",
       "      <th>Uwe Boll</th>\n",
       "      <td>1818.0</td>\n",
       "      <td>1031.0</td>\n",
       "      <td>10.0</td>\n",
       "      <td>16.766390</td>\n",
       "    </tr>\n",
       "    <tr>\n",
       "      <th>Antoine Fuqua</th>\n",
       "      <td>2015.0</td>\n",
       "      <td>1699.0</td>\n",
       "      <td>15.0</td>\n",
       "      <td>16.781665</td>\n",
       "    </tr>\n",
       "    <tr>\n",
       "      <th>Robert Rodriguez</th>\n",
       "      <td>2645.0</td>\n",
       "      <td>2186.0</td>\n",
       "      <td>18.0</td>\n",
       "      <td>21.028373</td>\n",
       "    </tr>\n",
       "    <tr>\n",
       "      <th>Peter Jackson</th>\n",
       "      <td>4502.0</td>\n",
       "      <td>2630.0</td>\n",
       "      <td>15.0</td>\n",
       "      <td>24.186545</td>\n",
       "    </tr>\n",
       "    <tr>\n",
       "      <th>Edward Zwick</th>\n",
       "      <td>3567.0</td>\n",
       "      <td>1411.0</td>\n",
       "      <td>10.0</td>\n",
       "      <td>24.760846</td>\n",
       "    </tr>\n",
       "    <tr>\n",
       "      <th>Ridley Scott</th>\n",
       "      <td>3562.0</td>\n",
       "      <td>2601.0</td>\n",
       "      <td>19.0</td>\n",
       "      <td>24.768490</td>\n",
       "    </tr>\n",
       "    <tr>\n",
       "      <th>Zack Snyder</th>\n",
       "      <td>3155.0</td>\n",
       "      <td>1358.0</td>\n",
       "      <td>11.0</td>\n",
       "      <td>27.126865</td>\n",
       "    </tr>\n",
       "    <tr>\n",
       "      <th>John Woo</th>\n",
       "      <td>5127.0</td>\n",
       "      <td>4009.0</td>\n",
       "      <td>34.0</td>\n",
       "      <td>42.306633</td>\n",
       "    </tr>\n",
       "  </tbody>\n",
       "</table>\n",
       "</div>"
      ],
      "text/plain": [
       "                   Body_Count  Length_Minutes  Film_Count  Body_Count_Min\n",
       "Director                                                                 \n",
       "Steven Spielberg       1824.0          3360.0        23.0       12.095150\n",
       "Wolfgang Petersen      2095.0          1439.0        11.0       15.862454\n",
       "Uwe Boll               1818.0          1031.0        10.0       16.766390\n",
       "Antoine Fuqua          2015.0          1699.0        15.0       16.781665\n",
       "Robert Rodriguez       2645.0          2186.0        18.0       21.028373\n",
       "Peter Jackson          4502.0          2630.0        15.0       24.186545\n",
       "Edward Zwick           3567.0          1411.0        10.0       24.760846\n",
       "Ridley Scott           3562.0          2601.0        19.0       24.768490\n",
       "Zack Snyder            3155.0          1358.0        11.0       27.126865\n",
       "John Woo               5127.0          4009.0        34.0       42.306633"
      ]
     },
     "execution_count": 32,
     "metadata": {},
     "output_type": "execute_result"
    }
   ],
   "source": [
    "movies_dir_mean = movies_dir.groupby('Director').mean().sort_values(by=['Body_Count_Min']).tail(10)\n",
    "movies_dir_mean"
   ]
  },
  {
   "cell_type": "code",
   "execution_count": 33,
   "id": "7c9cf2b9",
   "metadata": {
    "scrolled": false
   },
   "outputs": [
    {
     "data": {
      "image/png": "[encoded data removed]",
      "text/plain": [
       "<Figure size 1008x576 with 2 Axes>"
      ]
     },
     "metadata": {
      "needs_background": "light"
     },
     "output_type": "display_data"
    }
   ],
   "source": [
    "fig, ax = plt.subplots(nrows=1, ncols=2, figsize=(14, 8))\n",
    "\n",
    "movies_dir['Body_Count'].plot(kind='barh', ax=ax[0])\n",
    "ax[0].set_title('Total Body Count')\n",
    "\n",
    "movies_dir_mean['Body_Count_Min'].plot(kind='barh', ax=ax[1])\n",
    "ax[1].set_title('Body Count per Minute')\n",
    "ax[1].yaxis.set_ticks_position('right')\n",
    "\n",
    "for i in range(2):\n",
    "    ax[i].set_ylabel('', visible=False)"
   ]
  },
  {
   "cell_type": "markdown",
   "id": "7481fcb9",
   "metadata": {},
   "source": [
    "## Агрегация по жанрам (подсчет абсолютных значений и самые высокие средние значения)"
   ]
  },
  {
   "cell_type": "code",
   "execution_count": 34,
   "id": "558ee4ae",
   "metadata": {
    "scrolled": false
   },
   "outputs": [
    {
     "data": {
      "image/png": "[encoded data removed]",
      "text/plain": [
       "<Figure size 864x432 with 1 Axes>"
      ]
     },
     "metadata": {
      "needs_background": "light"
     },
     "output_type": "display_data"
    }
   ],
   "source": [
    "movies['Genre'].value_counts().plot(kind='bar', figsize=(12, 6), title='Genres by film count');"
   ]
  },
  {
   "cell_type": "code",
   "execution_count": 35,
   "id": "26c9c2a8",
   "metadata": {
    "scrolled": false
   },
   "outputs": [
    {
     "data": {
      "image/png": "[encoded data removed]",
      "text/plain": [
       "<Figure size 864x432 with 1 Axes>"
      ]
     },
     "metadata": {
      "needs_background": "light"
     },
     "output_type": "display_data"
    }
   ],
   "source": [
    "movies.groupby('Genre').mean(numeric_only=True).sort_values(by=['Body_Count_Min'], ascending=False)['Body_Count_Min'].plot(kind='bar', figsize=(12, 6), title='Genres by body count per minute');"
   ]
  }
 ],
 "metadata": {
  "kernelspec": {
   "display_name": "Python 3 (ipykernel)",
   "language": "python",
   "name": "python3"
  },
  "language_info": {
   "codemirror_mode": {
    "name": "ipython",
    "version": 3
   },
   "file_extension": ".py",
   "mimetype": "text/x-python",
   "name": "python",
   "nbconvert_exporter": "python",
   "pygments_lexer": "ipython3",
   "version": "3.9.12"
  }
 },
 "nbformat": 4,
 "nbformat_minor": 5
}
