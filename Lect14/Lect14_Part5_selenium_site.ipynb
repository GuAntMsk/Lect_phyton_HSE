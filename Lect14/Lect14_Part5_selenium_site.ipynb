{
 "cells": [
  {
   "cell_type": "code",
   "execution_count": 10,
   "id": "c729035c",
   "metadata": {},
   "outputs": [],
   "source": [
    "from selenium import webdriver\n",
    "from selenium.webdriver.common.by import By\n",
    "import time\n",
    "tel = '9256185696'\n",
    "for i in range(1):\n",
    "#     driver = webdriver.Chrome()  # Укажите путь к Chrome WebDriver\n",
    "#     # Открытие страницы\n",
    "#     url = 'https://www.r-ulybka.ru/personal/login/?backurl=/'\n",
    "#     driver.get(url)\n",
    "#     button_element = driver.find_element(By.XPATH, \"//button[contains(text(), 'Войти по SMS')]\")  # Укажите текст на кнопке\n",
    "#     button_element.click()\n",
    "#     username_field = driver.find_element(By.NAME, 'phone') # Укажите имя поля для имени пользователя\n",
    "#     time.sleep(1)\n",
    "#     username_field.send_keys(f'+7 {tel}')\n",
    "#     button_element = driver.find_element(By.XPATH, \"//button[contains(text(), 'Отправить код')]\")  # Укажите текст на кнопке\n",
    "#     button_element.click()\n",
    "#     time.sleep(1)\n",
    "#     driver.quit()\n",
    "    \n",
    "    driver = webdriver.Chrome()  # Укажите путь к Chrome WebDriver\n",
    "\n",
    "    # Открытие страницы\n",
    "    url = 'https://www.petshop.ru/#popup=phone-auth'\n",
    "    driver.get(url)\n",
    "    time.sleep(3)\n",
    "    # Найти элемент кнопки\n",
    "    # Поиск элемента по XPath\n",
    "    xpath_expression = '//input[@name=\"root_phone\"]'\n",
    "    input_element = driver.find_element(By.NAME, \"root_phone\")\n",
    "\n",
    "    # Действия с элементом (например, ввод текста)\n",
    "    input_element.send_keys(f'+7 {tel}')\n",
    "    time.sleep(1)\n",
    "    xpath_expression = '//button[@type=\"submit\" and @data-testid=\"PhoneAuthorization__btn-enabled\" and contains(@class, \"Button_mobile__SXTjb\")]/span[text()=\"Войти\"]'\n",
    "    button_element = driver.find_element(By.XPATH, xpath_expression)\n",
    "    button_element.click()\n",
    "    # Закрытие браузера\n",
    "    time.sleep(1)\n",
    "    driver.quit()  "
   ]
  },
  {
   "cell_type": "code",
   "execution_count": null,
   "id": "5940c4fc",
   "metadata": {},
   "outputs": [],
   "source": []
  },
  {
   "cell_type": "code",
   "execution_count": null,
   "id": "08a689e2",
   "metadata": {},
   "outputs": [],
   "source": []
  },
  {
   "cell_type": "code",
   "execution_count": 12,
   "id": "410ddf74",
   "metadata": {},
   "outputs": [
    {
     "name": "stdout",
     "output_type": "stream",
     "text": [
      "CSRF-токен не найден\n"
     ]
    }
   ],
   "source": [
    "import requests\n",
    "from bs4 import BeautifulSoup\n",
    "\n",
    "# URL страницы с формой\n",
    "url = 'https://www.petshop.ru/#popup=phone-auth'  # Замените на реальный URL\n",
    "\n",
    "# Отправка GET-запроса для получения страницы\n",
    "response = requests.get(url)\n",
    "\n",
    "# Проверка статуса ответа\n",
    "if response.status_code == 200:\n",
    "    # Используем BeautifulSoup для парсинга HTML\n",
    "    soup = BeautifulSoup(response.text, 'html.parser')\n",
    "\n",
    "    # Находим CSRF-токен в мета-теге или в заголовках ответа\n",
    "    csrf_token = None\n",
    "\n",
    "    # Попытка найти CSRF-токен в мета-теге\n",
    "    meta_tag = soup.find('meta', {'name': 'token'})\n",
    "    if meta_tag:\n",
    "        csrf_token = meta_tag.get('content')\n",
    "\n",
    "    # Если не найден в мета-теге, попробуем найти в заголовках ответа\n",
    "    if not csrf_token:\n",
    "        csrf_token = response.headers.get('X-CSRF-Token')\n",
    "\n",
    "    if csrf_token:\n",
    "        print(f\"CSRF-токен: {csrf_token}\")\n",
    "    else:\n",
    "        print(\"CSRF-токен не найден\")\n",
    "else:\n",
    "    print(\"Ошибка получения страницы\")\n"
   ]
  },
  {
   "cell_type": "code",
   "execution_count": 10,
   "id": "748c38bd",
   "metadata": {},
   "outputs": [
    {
     "name": "stdout",
     "output_type": "stream",
     "text": [
      "Успешно авторизованы!\n"
     ]
    }
   ],
   "source": [
    "import requests\n",
    "\n",
    "# URL для отправки POST-запроса (замените на реальный URL)\n",
    "url = 'https://www.petshop.ru/#popup=phone-auth'\n",
    "\n",
    "# Данные для авторизации (замените на реальные данные)\n",
    "data = {\n",
    "    'AUTH_FORM': 'Y',\n",
    "    'TYPE': 'AUTH',\n",
    "    'token': '3a21c61ea96b4c49cc3a901f1189e21d',  # Используем полученный CSRF-токен\n",
    "    'backurl': '/',\n",
    "    'root_phone': '+79256185696',  # Замените на ваш номер телефона\n",
    "}\n",
    "\n",
    "\n",
    "# Отправка POST-запроса\n",
    "response = requests.post(url, data=data)\n",
    "\n",
    "# Проверка статуса ответа\n",
    "if response.status_code == 200:\n",
    "    print(\"Успешно авторизованы!\")\n",
    "else:\n",
    "    print(\"Ошибка авторизации\")\n"
   ]
  },
  {
   "cell_type": "code",
   "execution_count": null,
   "id": "b53f1482",
   "metadata": {},
   "outputs": [],
   "source": []
  }
 ],
 "metadata": {
  "kernelspec": {
   "display_name": "Python 3 (ipykernel)",
   "language": "python",
   "name": "python3"
  },
  "language_info": {
   "codemirror_mode": {
    "name": "ipython",
    "version": 3
   },
   "file_extension": ".py",
   "mimetype": "text/x-python",
   "name": "python",
   "nbconvert_exporter": "python",
   "pygments_lexer": "ipython3",
   "version": "3.9.12"
  }
 },
 "nbformat": 4,
 "nbformat_minor": 5
}
