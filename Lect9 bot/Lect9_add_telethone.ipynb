{
 "cells": [
  {
   "cell_type": "code",
   "execution_count": null,
   "id": "71b46712",
   "metadata": {},
   "outputs": [],
   "source": [
    "from telethon import TelegramClient, events, sync\n",
    "\n",
    "\n",
    "api_id = #id\n",
    "api_hash = 'hash'\n",
    "client = TelegramClient(None, api_id, api_hash)\n",
    "await client.start()"
   ]
  },
  {
   "cell_type": "code",
   "execution_count": null,
   "id": "79bd8033",
   "metadata": {},
   "outputs": [],
   "source": [
    "target_group = await client.get_entity(\"link\")"
   ]
  },
  {
   "cell_type": "code",
   "execution_count": null,
   "id": "6234a44a",
   "metadata": {},
   "outputs": [],
   "source": [
    "target_group"
   ]
  },
  {
   "cell_type": "code",
   "execution_count": null,
   "id": "64bee5a2",
   "metadata": {},
   "outputs": [],
   "source": [
    "print(\"Group ID: {}, Group Hash: {}\".format(target_group.id, target_group.access_hash))"
   ]
  },
  {
   "cell_type": "code",
   "execution_count": null,
   "id": "305468d3",
   "metadata": {},
   "outputs": [],
   "source": [
    "target_group = await client.get_entity(\"link\")"
   ]
  },
  {
   "cell_type": "code",
   "execution_count": null,
   "id": "b4fd1eba",
   "metadata": {},
   "outputs": [],
   "source": [
    "user = await client.get_entity('nick')"
   ]
  },
  {
   "cell_type": "code",
   "execution_count": null,
   "id": "445ff3d9",
   "metadata": {},
   "outputs": [],
   "source": [
    "user.id"
   ]
  },
  {
   "cell_type": "code",
   "execution_count": null,
   "id": "53f00329",
   "metadata": {},
   "outputs": [],
   "source": [
    "user.username"
   ]
  },
  {
   "cell_type": "code",
   "execution_count": null,
   "id": "ee9ed9c0",
   "metadata": {},
   "outputs": [],
   "source": [
    "await client.send_message(0, '') # id"
   ]
  },
  {
   "cell_type": "code",
   "execution_count": null,
   "id": "41719de4",
   "metadata": {},
   "outputs": [],
   "source": [
    "entity=client.get_entity('link')"
   ]
  },
  {
   "cell_type": "code",
   "execution_count": null,
   "id": "22ebd73e",
   "metadata": {},
   "outputs": [],
   "source": [
    "for i in await client.get_messages('nick', 10):\n",
    "    print(i.message)"
   ]
  },
  {
   "cell_type": "code",
   "execution_count": null,
   "id": "ba7bd4e6",
   "metadata": {},
   "outputs": [],
   "source": [
    "await client.get_participants('link', aggressive=True)"
   ]
  },
  {
   "cell_type": "code",
   "execution_count": null,
   "id": "9b8e6c6d",
   "metadata": {},
   "outputs": [],
   "source": [
    "channel = await client.get_entity('link')"
   ]
  },
  {
   "cell_type": "code",
   "execution_count": null,
   "id": "85077de6",
   "metadata": {},
   "outputs": [],
   "source": [
    "a = await client.get_participants(channel, aggressive=True)"
   ]
  },
  {
   "cell_type": "code",
   "execution_count": null,
   "id": "8bc57c21",
   "metadata": {},
   "outputs": [],
   "source": [
    "for i in a:\n",
    "    print(i)"
   ]
  },
  {
   "cell_type": "code",
   "execution_count": null,
   "id": "5fcd8f46",
   "metadata": {},
   "outputs": [],
   "source": [
    "from telethon.tl.types import User, Chat, Channel"
   ]
  },
  {
   "cell_type": "code",
   "execution_count": null,
   "id": "b02b3783",
   "metadata": {},
   "outputs": [],
   "source": [
    "from telethon.tl.functions.users import GetFullUserRequest\n",
    "a = await client(GetFullUserRequest('link'))\n",
    "print(a)"
   ]
  },
  {
   "cell_type": "code",
   "execution_count": null,
   "id": "63161940",
   "metadata": {},
   "outputs": [],
   "source": [
    "# async for dialog in client.iter_dialogs():\n",
    "#     if dialog.is_group:  # это будет проверять на группы и супергруппы\n",
    "#         print(f\"{dialog.name}: {dialog.id}\")"
   ]
  },
  {
   "cell_type": "code",
   "execution_count": null,
   "id": "9852b30d",
   "metadata": {},
   "outputs": [],
   "source": [
    "# ЗАПУСТИТЬ 1  \n",
    "dialog_id = 'link'\n",
    "# dialog_id = \n",
    "dialog = await client.get_entity(dialog_id)\n",
    "participants = await client.get_participants(dialog)\n",
    "for participant in participants:\n",
    "    user = await client(GetFullUserRequest(participant.id))\n",
    "    print(user.full_user.id,\n",
    "          user.users[0].last_name,\n",
    "          user.users[0].first_name,\n",
    "          user.users[0].phone,\n",
    "          user.users[0].premium,\n",
    "          user.full_user.about)"
   ]
  },
  {
   "cell_type": "code",
   "execution_count": null,
   "id": "ec94b1c8",
   "metadata": {},
   "outputs": [],
   "source": [
    "from telethon.tl.types import InputMediaGeoPoint\n",
    "from telethon.tl import types, functions"
   ]
  },
  {
   "cell_type": "code",
   "execution_count": null,
   "id": "d4329449",
   "metadata": {},
   "outputs": [],
   "source": [
    "# ЗАПУСТИТЬ 2 \n",
    "list_files = []\n",
    "for participant in participants[:40]:\n",
    "    try:\n",
    "        username = participant.id\n",
    "        user = await client.get_entity(username)\n",
    "        print(user.id)\n",
    "        await client.send_message(user.id, 'text')\n",
    "        await client(functions.messages.SendMediaRequest(\n",
    "            peer=user.id,\n",
    "            media=types.InputMediaGeoPoint(\n",
    "                types.InputGeoPoint(            \n",
    "                    lat=56.346846, \n",
    "                    long=43.847955\n",
    "                ),\n",
    "\n",
    "\n",
    "            ),\n",
    "            message=''\n",
    "        ))\n",
    "        if user.photo:\n",
    "                list_files.append(user.id)\n",
    "                await client.download_profile_photo(user, f'./photo/{participant.id}.jpg')\n",
    "        else:\n",
    "                print(f\"User {username} does not have a profile photo.\")\n",
    "    except Exception as e:\n",
    "        print(e)\n",
    "        print('Это что ещё такое?')"
   ]
  },
  {
   "cell_type": "code",
   "execution_count": null,
   "id": "d1c1a4ca",
   "metadata": {},
   "outputs": [],
   "source": [
    "# ЗАПУСТИТЬ 3 \n",
    "from imageai.Detection import ObjectDetection\n",
    "import os\n",
    "import cv2\n",
    "execution_path = os.getcwd()\n",
    "for files in list_files:\n",
    "    input_file = f'./photo/{files}.jpg'\n",
    "    if os.path.exists(input_file):\n",
    "        output_file  = f'./photo/analyse/{files}.jpg'\n",
    "        output_file2 = f'./photo/analyse/{files}.jpg'\n",
    "        detector = ObjectDetection()\n",
    "        detector.setModelTypeAsYOLOv3()\n",
    "        detector.setModelPath( os.path.join(execution_path , \"yolov3.pt\"))\n",
    "        detector.loadModel()\n",
    "        detections = detector.detectObjectsFromImage(input_image\n",
    "                                                     =os.path.join(execution_path , input_file), \n",
    "                                                     output_image_path=\n",
    "                                                     os.path.join(execution_path , output_file),\n",
    "                                                     minimum_percentage_probability=30) \n",
    "        if (len(detections) > 0):\n",
    "            for eachObject in detections:\n",
    "                print(eachObject[\"name\"] , \" : \", eachObject[\"percentage_probability\"], \" : \", eachObject[\"box_points\"] )\n",
    "                print(\"--------------------------------\")\n",
    "            image = cv2.imread(output_file)\n",
    "\n",
    "            for eachObject in detections:\n",
    "                box = eachObject[\"box_points\"]\n",
    "                label = eachObject[\"name\"]\n",
    "\n",
    "                # Нарисовать прямоугольник вокруг обнаруженного объекта\n",
    "                cv2.rectangle(image, (box[0], box[1]), (box[2], box[3]), (0, 255, 255), 2)\n",
    "\n",
    "                # Нарисовать метку объекта\n",
    "                cv2.putText(image, label, (box[0], box[1]-10), cv2.FONT_HERSHEY_SIMPLEX, 0.8, (0, 255, 255), 2)\n",
    "\n",
    "            # Сохранить изображение с прямоугольниками и метками\n",
    "            cv2.imwrite(output_file, image)"
   ]
  },
  {
   "cell_type": "code",
   "execution_count": null,
   "id": "ea58b256",
   "metadata": {},
   "outputs": [],
   "source": [
    "# ЗАПУСТИТЬ 4 (отсылает фото)/ \n",
    "for participant in participants:\n",
    "    print(participant.id)\n",
    "    output_file = f'./photo/analyse/{participant.id}.jpg'\n",
    "    try:\n",
    "        if os.path.exists(output_file):\n",
    "            await client.send_file(participant, output_file)\n",
    "    except Exception as e:\n",
    "        print(e)\n",
    "        print('Это что ещё такое?')"
   ]
  },
  {
   "cell_type": "code",
   "execution_count": null,
   "id": "32569c15",
   "metadata": {},
   "outputs": [],
   "source": [
    "channel = await client.get_entity('link')\n",
    "messages = await client.get_messages(channel, limit= 10)\n",
    "for x in messages:\n",
    "    print(x)"
   ]
  },
  {
   "cell_type": "code",
   "execution_count": null,
   "id": "40762c68",
   "metadata": {},
   "outputs": [],
   "source": [
    "for x in messages:\n",
    "    print(x.message)"
   ]
  },
  {
   "cell_type": "code",
   "execution_count": null,
   "id": "24535866",
   "metadata": {},
   "outputs": [],
   "source": [
    "members_telethon_list = await client.get_participants(channel, aggressive=True, limit=5660)"
   ]
  },
  {
   "cell_type": "code",
   "execution_count": null,
   "id": "2032a9ed",
   "metadata": {},
   "outputs": [],
   "source": [
    "members_telethon_list"
   ]
  },
  {
   "cell_type": "code",
   "execution_count": null,
   "id": "31945171",
   "metadata": {},
   "outputs": [],
   "source": [
    "from telethon.tl.types import PeerChat, PeerChannel\n",
    "@client.on(events.NewMessage(chats=[0])) #id\n",
    "async def my_event_handler(event):\n",
    "    if '+' in event.raw_text:\n",
    "        await event.respond(\"123456!\", comment_to=event.id)\n",
    "        await event.respond(\"Привет!\", comment_to=event.id)\n",
    "        await event.respond(\"Мне нравится учиться\",\n",
    "                            comment_to=event.id)\n",
    "#         await client.disconnect()\n",
    "\n",
    "client.run_until_disconnected()"
   ]
  },
  {
   "cell_type": "code",
   "execution_count": null,
   "id": "711a490b",
   "metadata": {},
   "outputs": [],
   "source": []
  },
  {
   "cell_type": "code",
   "execution_count": null,
   "id": "4793304d",
   "metadata": {},
   "outputs": [],
   "source": []
  },
  {
   "cell_type": "code",
   "execution_count": null,
   "id": "338af842",
   "metadata": {},
   "outputs": [],
   "source": []
  },
  {
   "cell_type": "code",
   "execution_count": null,
   "id": "901076db",
   "metadata": {},
   "outputs": [],
   "source": []
  },
  {
   "cell_type": "code",
   "execution_count": null,
   "id": "fa61f9ac",
   "metadata": {},
   "outputs": [],
   "source": []
  },
  {
   "cell_type": "code",
   "execution_count": null,
   "id": "e6dbbe72",
   "metadata": {},
   "outputs": [],
   "source": []
  },
  {
   "cell_type": "code",
   "execution_count": null,
   "id": "451432fa",
   "metadata": {},
   "outputs": [],
   "source": []
  }
 ],
 "metadata": {
  "kernelspec": {
   "display_name": "Python 3 (ipykernel)",
   "language": "python",
   "name": "python3"
  },
  "language_info": {
   "codemirror_mode": {
    "name": "ipython",
    "version": 3
   },
   "file_extension": ".py",
   "mimetype": "text/x-python",
   "name": "python",
   "nbconvert_exporter": "python",
   "pygments_lexer": "ipython3",
   "version": "3.9.12"
  }
 },
 "nbformat": 4,
 "nbformat_minor": 5
}
