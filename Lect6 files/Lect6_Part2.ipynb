{
 "cells": [
  {
   "cell_type": "markdown",
   "metadata": {},
   "source": [
    "# Python для анализа данных\n",
    "\n",
    "## Работа с файлами в Python: чтение и запись текстовых файлов. Исключения. Try/except\n",
    "\n",
    "Автор: *Татьяна Рогович, НИУ ВШЭ*"
   ]
  },
  {
   "cell_type": "markdown",
   "metadata": {},
   "source": [
    "## Файловый ввод-вывод\n",
    "\n",
    "Как правило, если указать в Python не полный путь к файлу, а только его название, то он будет искать файл в рабочей директории. Как узнать, где это?\n"
   ]
  },
  {
   "cell_type": "code",
   "execution_count": 1,
   "metadata": {},
   "outputs": [
    {
     "data": {
      "text/plain": [
       "'/Users/mgordenko/DPO_Python_DS14-main/Lect6 files'"
      ]
     },
     "execution_count": 1,
     "metadata": {},
     "output_type": "execute_result"
    }
   ],
   "source": [
    "import os\n",
    "os.getcwd()"
   ]
  },
  {
   "cell_type": "markdown",
   "metadata": {},
   "source": [
    "Функция getcwd() из модуля os возвращает нам путь к вашей рабочей папке. Так, например, в Windows по умолчанию Anaconda делает рабочей папкой для Jupyter папку пользователя в Users. Это можно изменить или глобально, прописав путь к вашей папке в свойствах, или локально в рамках сессии.\n",
    "\n",
    "Функция chdir() принимает в качестве аргумента путь к папке и меняет рабочую директорию. Теперь к файлам, хранящимся в ней вы сможете обращаться без полного пути. Также все новые файлы будут сохраняться туда же."
   ]
  },
  {
   "cell_type": "code",
   "execution_count": 3,
   "metadata": {},
   "outputs": [],
   "source": [
    "os.chdir('/Users/mgordenko/DPO_Python_DS14-main/')\n",
    "os.getcwd()\n",
    "important_text = 'Это очень важный текст. В нем даже несколько строк. \\nОни отделены переносом строки.'\n",
    "\n",
    "with open('info_dir.txt', mode = 'w', encoding = 'UTF-8') as outfile:\n",
    "    print(important_text, file = outfile)"
   ]
  },
  {
   "cell_type": "code",
   "execution_count": 5,
   "metadata": {},
   "outputs": [
    {
     "data": {
      "text/plain": [
       "'/Users/mgordenko/DPO_Python_DS14-main/Lect6 files'"
      ]
     },
     "execution_count": 5,
     "metadata": {},
     "output_type": "execute_result"
    }
   ],
   "source": [
    "os.chdir('//Users//mgordenko//DPO_Python_DS14-main//Lect6 files')\n",
    "os.getcwd()"
   ]
  },
  {
   "cell_type": "markdown",
   "metadata": {},
   "source": [
    ".listdir() вернет нам список содержимого директории. Очень полезная функция - можно запустить цикл, если нужно обработать все файлы в папке."
   ]
  },
  {
   "cell_type": "code",
   "execution_count": 6,
   "metadata": {},
   "outputs": [
    {
     "data": {
      "text/plain": [
       "['Lect6_part4_Работа_с_табличными_файлами.ipynb',\n",
       " 'Lect6_part1_Чтение_из_файла_и_запись_в_файл.ipynb',\n",
       " 'info.txt',\n",
       " 'csv_file.csv',\n",
       " 'Lect6_part3_Работа_с_текстовыми_файлами.ipynb',\n",
       " 'mbox.txt',\n",
       " 'temperature.csv',\n",
       " 'text_file.txt',\n",
       " '.ipynb_checkpoints',\n",
       " 'dochka.txt',\n",
       " 'Lect6_Part2.ipynb']"
      ]
     },
     "execution_count": 6,
     "metadata": {},
     "output_type": "execute_result"
    }
   ],
   "source": [
    "os.listdir()"
   ]
  },
  {
   "cell_type": "markdown",
   "metadata": {},
   "source": [
    "Давайте попробуем создать файл, записать в него что-нибудь и сохранить."
   ]
  },
  {
   "cell_type": "code",
   "execution_count": 13,
   "metadata": {},
   "outputs": [],
   "source": [
    "file = open('text.txt', 'w', encoding = 'UTF-8')"
   ]
  },
  {
   "cell_type": "code",
   "execution_count": 14,
   "metadata": {},
   "outputs": [
    {
     "data": {
      "text/plain": [
       "<_io.TextIOWrapper name='text.txt' mode='w' encoding='UTF-8'>"
      ]
     },
     "execution_count": 14,
     "metadata": {},
     "output_type": "execute_result"
    }
   ],
   "source": [
    "file"
   ]
  },
  {
   "cell_type": "markdown",
   "metadata": {},
   "source": [
    "Функция open() возвращает файловый объект и мы используем ее обычно с двумя аргументами - имя файла и режим (например, запись или чтение). Выше мы открыли файл test.txt в режиме записи 'w' (если такого файла не существовало, он будет создан).\n",
    "\n",
    "Такой объект называется file handle или дескриптор файла.\n",
    "\n",
    "![](https://www.py4e.com/images/handle.svg)  \n",
    "Source: https://www.py4e.com/html3/07-files\n",
    "\n",
    "Какие могут быть режимы открытия файла (mode):\n",
    "\n",
    "* 'r' - read, только чтение\n",
    "* 'w' - write, только запись (если файл с таким именем существовал, он будет удален).\n",
    "* 'a' - append, новые данные будут записаны в конец файла\n",
    "* 'r+' - чтение+запись.\n",
    "\n",
    "Если не передать второй аргумент, то файл автоматически откроется в режиме чтения.\n",
    "\n",
    "Encoding - именнованный параметр, если работаете с кириллицей или языками со спецсимволами, то лучше задать utf8."
   ]
  },
  {
   "cell_type": "code",
   "execution_count": 15,
   "metadata": {},
   "outputs": [
    {
     "data": {
      "text/plain": [
       "13"
      ]
     },
     "execution_count": 15,
     "metadata": {},
     "output_type": "execute_result"
    }
   ],
   "source": [
    "file.write('Hello, world\\n')\n",
    "file.write('Hello, world\\n')\n",
    "file.write('Hello, world\\n')\n",
    "file.write('Hello, world\\n')"
   ]
  },
  {
   "cell_type": "code",
   "execution_count": 16,
   "metadata": {},
   "outputs": [],
   "source": [
    "file.close()"
   ]
  },
  {
   "cell_type": "code",
   "execution_count": 18,
   "metadata": {},
   "outputs": [],
   "source": [
    "file = open('hello_world.txt', 'w', encoding = 'UTF-8')\n",
    "\n",
    "for i in range(1_000_000):\n",
    "    file.write('Hello, world\\n')"
   ]
  },
  {
   "cell_type": "code",
   "execution_count": 19,
   "metadata": {},
   "outputs": [],
   "source": [
    "# open \n",
    "# write (in buffer)\n",
    "# buffer закончился - очистка и запись в файл\n",
    "# файл сохраняем и закрываем"
   ]
  },
  {
   "cell_type": "code",
   "execution_count": 20,
   "metadata": {},
   "outputs": [],
   "source": [
    "file = open('text.txt', 'w', encoding = 'UTF-8')"
   ]
  },
  {
   "cell_type": "code",
   "execution_count": 21,
   "metadata": {},
   "outputs": [
    {
     "data": {
      "text/plain": [
       "13"
      ]
     },
     "execution_count": 21,
     "metadata": {},
     "output_type": "execute_result"
    }
   ],
   "source": [
    "file.write('Hello, world\\n')\n",
    "file.write('Hello, world\\n')\n",
    "file.write('Hello, world\\n')\n",
    "file.write('Hello, world\\n')"
   ]
  },
  {
   "cell_type": "code",
   "execution_count": 22,
   "metadata": {},
   "outputs": [],
   "source": [
    "file.flush()"
   ]
  },
  {
   "cell_type": "code",
   "execution_count": 23,
   "metadata": {},
   "outputs": [
    {
     "data": {
      "text/plain": [
       "13"
      ]
     },
     "execution_count": 23,
     "metadata": {},
     "output_type": "execute_result"
    }
   ],
   "source": [
    "file.write('Hello, world\\n')\n",
    "file.write('Hello, world\\n')\n",
    "file.write('Hello, world\\n')\n",
    "file.write('Hello, world\\n')"
   ]
  },
  {
   "cell_type": "code",
   "execution_count": 24,
   "metadata": {},
   "outputs": [],
   "source": [
    "file.flush()"
   ]
  },
  {
   "cell_type": "code",
   "execution_count": 25,
   "metadata": {},
   "outputs": [],
   "source": [
    "file.close()"
   ]
  },
  {
   "cell_type": "code",
   "execution_count": 26,
   "metadata": {},
   "outputs": [],
   "source": [
    "# file.open()\n",
    "# file.write()\n",
    "# file.flush()\n",
    "# file.close()"
   ]
  },
  {
   "cell_type": "markdown",
   "metadata": {},
   "source": [
    "Метод write записал данные в наш файл. После этого файл нужно закрыть, чтобы он выгрузился из оперативной памяти. Если этого не сделать, то в какой-то момент питоновский сборщик мусора все равно до него доберется и закроет файл, но большие файлы могут съедать достаточно много ресурсов, поэтому лучше за этим следить.\n",
    "\n",
    "Теперь дававайте попробуем открыть в режиме чтения."
   ]
  },
  {
   "cell_type": "code",
   "execution_count": 27,
   "metadata": {},
   "outputs": [
    {
     "name": "stdout",
     "output_type": "stream",
     "text": [
      "Hello, world\n",
      "Hello, world\n",
      "Hello, world\n",
      "Hello, world\n",
      "Hello, world\n",
      "Hello, world\n",
      "Hello, world\n",
      "Hello, world\n",
      "\n"
     ]
    }
   ],
   "source": [
    "file = open('text.txt', 'r', encoding = 'UTF-8')\n",
    "print(file.read())\n",
    "file.close()"
   ]
  },
  {
   "cell_type": "markdown",
   "metadata": {},
   "source": [
    "После того, как мы закрыли файл, обратиться к нему больше нельзя."
   ]
  },
  {
   "cell_type": "code",
   "execution_count": 28,
   "metadata": {},
   "outputs": [
    {
     "ename": "ValueError",
     "evalue": "I/O operation on closed file.",
     "output_type": "error",
     "traceback": [
      "\u001b[0;31m---------------------------------------------------------------------------\u001b[0m",
      "\u001b[0;31mValueError\u001b[0m                                Traceback (most recent call last)",
      "Input \u001b[0;32mIn [28]\u001b[0m, in \u001b[0;36m<cell line: 1>\u001b[0;34m()\u001b[0m\n\u001b[0;32m----> 1\u001b[0m \u001b[43mfile\u001b[49m\u001b[38;5;241;43m.\u001b[39;49m\u001b[43mread\u001b[49m\u001b[43m(\u001b[49m\u001b[43m)\u001b[49m\n",
      "\u001b[0;31mValueError\u001b[0m: I/O operation on closed file."
     ]
    }
   ],
   "source": [
    "file.read()"
   ]
  },
  {
   "cell_type": "markdown",
   "metadata": {},
   "source": [
    "Хорошим тоном при работе с файлами считается открывать их с помощью ключевого слова with. Преимущество этого способа в том, что файл закроется автоматически, когда закончатся вложенные операции."
   ]
  },
  {
   "cell_type": "code",
   "execution_count": 29,
   "metadata": {},
   "outputs": [
    {
     "name": "stdout",
     "output_type": "stream",
     "text": [
      "Hello, world\n",
      "Hello, world\n",
      "Hello, world\n",
      "Hello, world\n",
      "Hello, world\n",
      "Hello, world\n",
      "Hello, world\n",
      "Hello, world\n",
      "\n"
     ]
    }
   ],
   "source": [
    "with open('text.txt', 'r', encoding = 'UTF-8') as file:\n",
    "    print(file.read())"
   ]
  },
  {
   "cell_type": "markdown",
   "metadata": {},
   "source": [
    "Еще один вариант записать данные в файл вот так:"
   ]
  },
  {
   "cell_type": "code",
   "execution_count": 30,
   "metadata": {},
   "outputs": [],
   "source": [
    "with open('text.txt', 'a', encoding = 'UTF-8') as fileout:\n",
    "    print('append', file = fileout)"
   ]
  },
  {
   "cell_type": "markdown",
   "metadata": {},
   "source": [
    "Мы выше уже видели два метода файла .write() и .read(). Еще один метод, который очень часто используется - это readline. Он позволяет не загружать файл целиком в память, а считывать его построчно. Знаком остановки здесь будет выступать \\n"
   ]
  },
  {
   "cell_type": "code",
   "execution_count": 32,
   "metadata": {},
   "outputs": [
    {
     "name": "stdout",
     "output_type": "stream",
     "text": [
      "1 Hello, world\n",
      "\n"
     ]
    }
   ],
   "source": [
    "count = 0\n",
    "with open('text.txt', 'r', encoding = 'UTF-8') as file:\n",
    "    count += 1\n",
    "    print(count, file.readline())"
   ]
  },
  {
   "cell_type": "markdown",
   "metadata": {},
   "source": [
    ".readline() - генератор. При обращении он выдает нам новую строку. "
   ]
  },
  {
   "cell_type": "code",
   "execution_count": 38,
   "metadata": {},
   "outputs": [
    {
     "name": "stdout",
     "output_type": "stream",
     "text": [
      "1 Hello, world\n",
      "\n",
      "2 Hello, world\n",
      "\n",
      "3 Hello, world\n",
      "\n",
      "4 Hello, world\n",
      "\n",
      "5 Hello, world\n",
      "\n",
      "6 Hello, world\n",
      "\n",
      "7 Hello, world\n",
      "\n",
      "8 Hello, world\n",
      "\n",
      "9 append\n",
      "\n"
     ]
    }
   ],
   "source": [
    "count = 0\n",
    "with open('text.txt', 'r', encoding = 'UTF-8') as file:\n",
    "    s_file = file.readline()\n",
    "    while (s_file):\n",
    "        count += 1\n",
    "        print(count, s_file)\n",
    "        s_file = file.readline()"
   ]
  },
  {
   "cell_type": "code",
   "execution_count": 39,
   "metadata": {},
   "outputs": [
    {
     "name": "stdout",
     "output_type": "stream",
     "text": [
      "1 Hello, world\n",
      "\n",
      "2 Hello, world\n",
      "\n",
      "3 Hello, world\n",
      "\n",
      "4 Hello, world\n",
      "\n",
      "5 Hello, world\n",
      "\n",
      "6 Hello, world\n",
      "\n",
      "7 Hello, world\n",
      "\n",
      "8 Hello, world\n",
      "\n",
      "9 append\n",
      "\n"
     ]
    }
   ],
   "source": [
    "count = 0\n",
    "with open('text.txt', 'r', encoding = 'UTF-8') as file:\n",
    "    for line in file:\n",
    "        count += 1\n",
    "        print(count, line)"
   ]
  },
  {
   "cell_type": "markdown",
   "metadata": {},
   "source": [
    "Также, чтобы прочитать все строки поочередно, можно запустить цикл. Тут не стоит забывать, что переменная f, хоть и прикидывается списком строк, когда мы её итерируем, на самом деле таковым не является. В действительности при открытии файла мы запоминаем позицию, на которой мы этот файл читаем. Изначально она указывает на самое начало файла, но с каждой итерацией сдвигается. Когда мы прочитаем файл целиком, дальнейшие попытки из него что-то прочитать ни к чему не приведут: указатель текущей позиции сдвинулся до самого конца и файл закончился."
   ]
  },
  {
   "cell_type": "code",
   "execution_count": 48,
   "metadata": {},
   "outputs": [
    {
     "name": "stdout",
     "output_type": "stream",
     "text": [
      "Hello, wor\n",
      "ld\n",
      "1234567\n"
     ]
    }
   ],
   "source": [
    "with open('text.txt', 'r', encoding = 'UTF-8') as file:\n",
    "    print(file.read(10))\n",
    "    print(file.read(10))"
   ]
  },
  {
   "cell_type": "markdown",
   "metadata": {},
   "source": [
    "Файл можно перемотать на начало, если воспользоваться методом .seek(), который возвращается к символу на этой позиции."
   ]
  },
  {
   "cell_type": "code",
   "execution_count": 47,
   "metadata": {},
   "outputs": [
    {
     "name": "stdout",
     "output_type": "stream",
     "text": [
      "Hello, wor\n",
      "orld\n",
      "appen\n"
     ]
    }
   ],
   "source": [
    "with open('text.txt', 'r', encoding = 'UTF-8') as file:\n",
    "    print(file.read(10))\n",
    "    file.seek(110)\n",
    "    print(file.read(10))"
   ]
  },
  {
   "cell_type": "markdown",
   "metadata": {},
   "source": [
    "Если методу read() передать целое число, то питон прочитает только заданное количество символов или битов, если информация в файле записана в бинарном формате."
   ]
  },
  {
   "cell_type": "markdown",
   "metadata": {},
   "source": [
    "Чтобы считать все строки файла в список, можно вызвать список от файлового объекта или использовать метод .readlines()."
   ]
  },
  {
   "cell_type": "code",
   "execution_count": 49,
   "metadata": {},
   "outputs": [
    {
     "name": "stdout",
     "output_type": "stream",
     "text": [
      "['Hello, world\\n', '1234567890\\n', 'Hello, world\\n', 'Hello, world\\n', 'Hello, world\\n', 'Hello, world\\n', 'Hello, world\\n', 'Hello, world\\n', 'Hello, world\\n', 'append\\n']\n"
     ]
    }
   ],
   "source": [
    "with open('text.txt', 'r', encoding = 'UTF-8') as file:\n",
    "    print(file.readlines())"
   ]
  },
  {
   "cell_type": "markdown",
   "metadata": {},
   "source": [
    "## Пример: чтение файла построчно"
   ]
  },
  {
   "cell_type": "markdown",
   "metadata": {},
   "source": [
    "Давайте откроем файл mbox.txt\n",
    "\n",
    "В файле есть строки формата\n",
    "\"Date: Sat, 5 Jan 2008 09:12:18 -0500\" - время, когда ушло письмо. Давайте создадим словарик, в который будем сохранять, в каком часу люди пишут письма (час от 0 до 23 - ключ, количество писем, написанных в это время, - значение)."
   ]
  },
  {
   "cell_type": "markdown",
   "metadata": {},
   "source": [
    "## Try except"
   ]
  },
  {
   "cell_type": "code",
   "execution_count": 59,
   "metadata": {},
   "outputs": [
    {
     "name": "stdout",
     "output_type": "stream",
     "text": [
      "В 0 было отправлено 24 писем\n",
      "В 1 было отправлено 10 писем\n",
      "В 2 было отправлено 13 писем\n",
      "В 3 было отправлено 17 писем\n",
      "В 4 было отправлено 25 писем\n",
      "В 5 было отправлено 11 писем\n",
      "В 6 было отправлено 45 писем\n",
      "В 7 было отправлено 41 писем\n",
      "В 8 было отправлено 78 писем\n",
      "В 9 было отправлено 164 писем\n",
      "В 10 было отправлено 183 писем\n",
      "В 11 было отправлено 149 писем\n",
      "В 12 было отправлено 109 писем\n",
      "В 13 было отправлено 119 писем\n",
      "В 14 было отправлено 152 писем\n",
      "В 15 было отправлено 178 писем\n",
      "В 16 было отправлено 165 писем\n",
      "В 17 было отправлено 96 писем\n",
      "В 18 было отправлено 52 писем\n",
      "В 19 было отправлено 48 писем\n",
      "В 20 было отправлено 29 писем\n",
      "В 21 было отправлено 37 писем\n",
      "В 22 было отправлено 29 писем\n",
      "В 23 было отправлено 16 писем\n"
     ]
    }
   ],
   "source": [
    "hours = {}\n",
    "\n",
    "with open('mbox.txt') as file:\n",
    "    for line in file:\n",
    "        if line.startswith('Date: ') and line.endswith(')\\n'):\n",
    "            hour = int(line.split()[2].split(':')[0])\n",
    "            hours[hour] = hours.get(hour, 0) + 1\n",
    "\n",
    "for hour in sorted(hours):\n",
    "    print(f'В {hour} было отправлено {hours[hour]} писем')"
   ]
  },
  {
   "cell_type": "markdown",
   "metadata": {},
   "source": [
    "Мы будем проходить графики отдельным блоком, но давайте быстренько построим распределение отправки писем по времени суток.\n",
    "\n",
    "Для начала создадим список отсортированных по ключам значений. Функция построения графика будет брать два аргумента - данные для шкал x и y. На x положим отсортированные ключи, а на y, соответствующие им значения."
   ]
  },
  {
   "cell_type": "code",
   "execution_count": 60,
   "metadata": {},
   "outputs": [],
   "source": [
    "sorted_values = []\n",
    "sorted_keys = []\n",
    "for key in sorted(hours.keys()):\n",
    "    sorted_values.append(hours[key])\n",
    "    sorted_keys.append(key)"
   ]
  },
  {
   "cell_type": "code",
   "execution_count": 61,
   "metadata": {},
   "outputs": [
    {
     "data": {
      "text/plain": [
       "<BarContainer object of 24 artists>"
      ]
     },
     "execution_count": 61,
     "metadata": {},
     "output_type": "execute_result"
    },
    {
     "data": {
      "image/png": "[encoded data removed]",
      "text/plain": [
       "<Figure size 432x288 with 1 Axes>"
      ]
     },
     "metadata": {
      "needs_background": "light"
     },
     "output_type": "display_data"
    }
   ],
   "source": [
    "import matplotlib.pyplot as plt # импортировали библиотеку для построения графиков\n",
    "%matplotlib inline \n",
    "# запустили \"магическую\" функцию, которая будет отображать графики прямо в блокноте\n",
    "\n",
    "plt.bar(sorted_keys, sorted_values)"
   ]
  },
  {
   "cell_type": "markdown",
   "metadata": {},
   "source": [
    "## Немного про исключения"
   ]
  },
  {
   "cell_type": "markdown",
   "metadata": {},
   "source": [
    "Почти наверняка вы уже делали что-то, что приводило к сообщению об ошибке. Сегодня мы научимся их обрабатывать и писать собственные исключения - наши инструкции для Python, чтобы код не ломался, как только что-то пойдет не так.\n",
    "\n",
    "Например, мы хотим открывать файл по запросу от пользователя, но хотим обработать случай, когда пользователь введет неправильное название."
   ]
  },
  {
   "cell_type": "code",
   "execution_count": null,
   "metadata": {},
   "outputs": [],
   "source": []
  },
  {
   "cell_type": "markdown",
   "metadata": {},
   "source": [
    "Напишем блок try/except. Try будет исполняться до тех пор, пока что-то не сломается. Как только возникнет ошибка, ваша программа перейдет в часть except и выполнит действие, описанное в ней. Сообщения об ошибке выведено не будет."
   ]
  },
  {
   "cell_type": "code",
   "execution_count": null,
   "metadata": {},
   "outputs": [],
   "source": []
  },
  {
   "cell_type": "markdown",
   "metadata": {},
   "source": [
    "Except позволил нам избежать ошибки и остановки работы программы"
   ]
  },
  {
   "cell_type": "markdown",
   "metadata": {},
   "source": [
    "Естественно, try-except можно использовать не только с файлами."
   ]
  },
  {
   "cell_type": "code",
   "execution_count": null,
   "metadata": {},
   "outputs": [],
   "source": []
  },
  {
   "cell_type": "markdown",
   "metadata": {},
   "source": [
    "Но что делать, если мы хотим пропускать только определенный вид ошибок, но видеть сообщения об остальных? Try/except хороший инструмент для отладки кода. Давайте посмотрим, как называется ошибка при попытке вызова неопределенной переменной."
   ]
  },
  {
   "cell_type": "code",
   "execution_count": null,
   "metadata": {},
   "outputs": [],
   "source": []
  },
  {
   "cell_type": "markdown",
   "metadata": {},
   "source": [
    "`NameError: name 'y' is not defined` - название нашей ошибки NameError, давайте обрабатывать его отдельно."
   ]
  },
  {
   "cell_type": "code",
   "execution_count": null,
   "metadata": {},
   "outputs": [],
   "source": []
  },
  {
   "cell_type": "markdown",
   "metadata": {},
   "source": [
    "А теперь давайте попробуем разделить что-нибудь на 0."
   ]
  },
  {
   "cell_type": "code",
   "execution_count": null,
   "metadata": {},
   "outputs": [],
   "source": []
  },
  {
   "cell_type": "markdown",
   "metadata": {},
   "source": [
    "Если после вывода в except использовать ключевое слово raise, то программа закончит работу ошибкой. Отличие от того, чтобы просто не использовать except для других случаев в том, что до окончания работы программы будет выпонелнено все, что написано внутри except. Сравним."
   ]
  },
  {
   "cell_type": "code",
   "execution_count": null,
   "metadata": {},
   "outputs": [],
   "source": []
  },
  {
   "cell_type": "code",
   "execution_count": null,
   "metadata": {},
   "outputs": [],
   "source": []
  },
  {
   "cell_type": "markdown",
   "metadata": {},
   "source": [
    "Except может одновременно обрабатывать несколько исключений."
   ]
  },
  {
   "cell_type": "code",
   "execution_count": null,
   "metadata": {},
   "outputs": [],
   "source": []
  },
  {
   "cell_type": "markdown",
   "metadata": {},
   "source": [
    "Except может использоваться с else - будет исполнено, если не было ошибки."
   ]
  },
  {
   "cell_type": "code",
   "execution_count": null,
   "metadata": {},
   "outputs": [],
   "source": []
  },
  {
   "cell_type": "markdown",
   "metadata": {},
   "source": [
    "Еще один важный момент - использование ключевого слова pass. Достаточно часто пригождается при вэб-скрейпинге. Так вы можете заложить воможность того, что данные не придут в нужном формате и, например, не записывать их в ячейку таблицы, а просто пропустить."
   ]
  },
  {
   "cell_type": "code",
   "execution_count": null,
   "metadata": {},
   "outputs": [],
   "source": []
  },
  {
   "cell_type": "markdown",
   "metadata": {},
   "source": [
    "Иногда вам может понадобиться создавать свои исключения - персонализированные сообщения об ошибке, которые валидны только для вашей программы."
   ]
  },
  {
   "cell_type": "code",
   "execution_count": null,
   "metadata": {},
   "outputs": [],
   "source": []
  },
  {
   "cell_type": "markdown",
   "metadata": {},
   "source": [
    "Или же вы можете использовать уже существующие исключения и персонализировать сообщение об ошибке."
   ]
  },
  {
   "cell_type": "code",
   "execution_count": null,
   "metadata": {},
   "outputs": [],
   "source": []
  },
  {
   "cell_type": "markdown",
   "metadata": {},
   "source": [
    "Давайте попробуем решить такую задачу: вы ждете от пользователя на ввод число. Будем запрашивать число до тех пор, пока не добьемся правильного ввода."
   ]
  },
  {
   "cell_type": "code",
   "execution_count": null,
   "metadata": {},
   "outputs": [],
   "source": []
  },
  {
   "cell_type": "code",
   "execution_count": null,
   "metadata": {},
   "outputs": [],
   "source": []
  }
 ],
 "metadata": {
  "kernelspec": {
   "display_name": "Python 3 (ipykernel)",
   "language": "python",
   "name": "python3"
  },
  "language_info": {
   "codemirror_mode": {
    "name": "ipython",
    "version": 3
   },
   "file_extension": ".py",
   "mimetype": "text/x-python",
   "name": "python",
   "nbconvert_exporter": "python",
   "pygments_lexer": "ipython3",
   "version": "3.9.12"
  }
 },
 "nbformat": 4,
 "nbformat_minor": 2
}
