{
 "cells": [
  {
   "cell_type": "markdown",
   "metadata": {
    "collapsed": true,
    "id": "3WtJdB9FY-OI"
   },
   "source": [
    "# Работа с текстовыми файлами"
   ]
  },
  {
   "cell_type": "markdown",
   "metadata": {
    "id": "pTU2R5S-Y-OL"
   },
   "source": [
    "Проведем простой анализ повести А. С. Пушкина \"Капитанская дочка\": посчитаем количество употреблений каждого слова и найдем самые популярные, то есть наиболее часто встречаемые слова.\n",
    "\n",
    "План действий:\n",
    "1. чтение текста из файла;\n",
    "1. составление словаря слов;\n",
    "1. сортировка словаря слов;\n",
    "1. удаление стоп-слов;\n",
    "1. сохранение результатов в файл."
   ]
  },
  {
   "cell_type": "markdown",
   "metadata": {
    "id": "u1SZyzPqY-OL"
   },
   "source": [
    "## 1. Чтение из txt-файла и подготовка к составлению словаря слов\n",
    "Считываем текст из файла в одну строковую переменную, удаляя пробельные символы по краям строки."
   ]
  },
  {
   "cell_type": "code",
   "execution_count": 15,
   "metadata": {
    "id": "55eFnU8kY-ON",
    "outputId": "b6d1805a-7ee4-4d38-c464-cba922f78057"
   },
   "outputs": [
    {
     "data": {
      "text/plain": [
       "' Александр Пушкин КА'"
      ]
     },
     "execution_count": 15,
     "metadata": {},
     "output_type": "execute_result"
    }
   ],
   "source": [
    "text = ''\n",
    "with open('dochka.txt', encoding = 'utf8') as infile:\n",
    "    for line in infile:\n",
    "        text += line.strip() + ' '\n",
    "        \n",
    "text[:20]"
   ]
  },
  {
   "cell_type": "markdown",
   "metadata": {
    "id": "V-Qu8YAEY-OV"
   },
   "source": [
    "Хотим составить словарь, в котором ключ — уникальное слова текста, а значение — частота, то есть количество таких слов. Сначала нужно получить список всех слов текста."
   ]
  },
  {
   "cell_type": "code",
   "execution_count": 12,
   "metadata": {
    "id": "6ng8D3kYY-OX",
    "outputId": "8e988f33-e57a-416a-9548-1748b7036a0a"
   },
   "outputs": [
    {
     "data": {
      "text/plain": [
       "['Александр', 'Пушкин', 'КАПИТАНСКАЯ', 'ДОЧКА', 'Береги']"
      ]
     },
     "execution_count": 12,
     "metadata": {},
     "output_type": "execute_result"
    }
   ],
   "source": [
    "almost_words = text.split()\n",
    "almost_words[:5]"
   ]
  },
  {
   "cell_type": "code",
   "execution_count": 8,
   "metadata": {
    "colab": {
     "base_uri": "https://localhost:8080/",
     "height": 34
    },
    "executionInfo": {
     "elapsed": 531,
     "status": "ok",
     "timestamp": 1600415394632,
     "user": {
      "displayName": "Анна Шишкова",
      "photoUrl": "https://lh3.googleusercontent.com/a-/AOh14GglV7trPMOxrljX4T6wMrrbCXnSq4k4bMlUL6q9xQ=s64",
      "userId": "05776018689746249823"
     },
     "user_tz": -180
    },
    "id": "L0XTNsJoGt2h",
    "outputId": "12f13872-36cc-414e-9fb9-e29d7bc01648"
   },
   "outputs": [
    {
     "name": "stdout",
     "output_type": "stream",
     "text": [
      "['александр', 'пушкин', 'капитанская', 'дочка', 'береги', 'честь', 'смолоду', 'пословица', 'глава', 'i']\n"
     ]
    }
   ],
   "source": [
    "import string\n",
    "words = []\n",
    "for el in almost_words:\n",
    "    word = el.lower().strip(string.punctuation)\n",
    "    if word != '':\n",
    "        words.append(word)\n",
    "print(words[:10])"
   ]
  },
  {
   "cell_type": "code",
   "execution_count": 9,
   "metadata": {},
   "outputs": [],
   "source": [
    "import string"
   ]
  },
  {
   "cell_type": "code",
   "execution_count": 10,
   "metadata": {},
   "outputs": [
    {
     "data": {
      "text/plain": [
       "'!\"#$%&\\'()*+,-./:;<=>?@[\\\\]^_`{|}~'"
      ]
     },
     "execution_count": 10,
     "metadata": {},
     "output_type": "execute_result"
    }
   ],
   "source": [
    "string.punctuation"
   ]
  },
  {
   "cell_type": "markdown",
   "metadata": {
    "id": "drhob7kBY-Ou"
   },
   "source": [
    "## 2. Составление словаря слов\n",
    "Теперь создадим словарь по списку слов. Так как нам придется делать это неоднократно, напишем соответствующую функцию."
   ]
  },
  {
   "cell_type": "code",
   "execution_count": 17,
   "metadata": {
    "id": "jGpJnSnfY-Ow"
   },
   "outputs": [],
   "source": [
    "def create_dict(list_of_words):\n",
    "    dictionary = {}\n",
    "    for word in list_of_words:\n",
    "        if word not in dictionary:\n",
    "            dictionary[word] = 1\n",
    "        else:\n",
    "            dictionary[word] += 1\n",
    "    return dictionary"
   ]
  },
  {
   "cell_type": "markdown",
   "metadata": {
    "id": "DfgPy6xqQokb"
   },
   "source": [
    "Посмотрим на коротком тексте, преобразованном в список слов, как сработает эта функция."
   ]
  },
  {
   "cell_type": "code",
   "execution_count": 18,
   "metadata": {
    "colab": {
     "base_uri": "https://localhost:8080/",
     "height": 34
    },
    "executionInfo": {
     "elapsed": 1263,
     "status": "ok",
     "timestamp": 1600439977054,
     "user": {
      "displayName": "Анна Шишкова",
      "photoUrl": "https://lh3.googleusercontent.com/a-/AOh14GglV7trPMOxrljX4T6wMrrbCXnSq4k4bMlUL6q9xQ=s64",
      "userId": "05776018689746249823"
     },
     "user_tz": -180
    },
    "id": "LivvsK5-Qnqn",
    "outputId": "5134e39a-f62f-45bf-983b-5ae6574710f9"
   },
   "outputs": [],
   "source": [
    "small_text = \"cегодня он гуляет завтра он спит послезавтра он гуляет\"\n",
    "small_list = small_text.split()\n",
    "small_dict = create_dict(small_list)"
   ]
  },
  {
   "cell_type": "code",
   "execution_count": 19,
   "metadata": {},
   "outputs": [
    {
     "data": {
      "text/plain": [
       "{'cегодня': 1, 'он': 3, 'гуляет': 2, 'завтра': 1, 'спит': 1, 'послезавтра': 1}"
      ]
     },
     "execution_count": 19,
     "metadata": {},
     "output_type": "execute_result"
    }
   ],
   "source": [
    "small_dict"
   ]
  },
  {
   "cell_type": "markdown",
   "metadata": {
    "id": "Em3skdEiSguq"
   },
   "source": [
    "Функция сработала верно, применим ее к обрабатываемому списку слов."
   ]
  },
  {
   "cell_type": "code",
   "execution_count": 20,
   "metadata": {
    "id": "YYTVJLKsY-O4"
   },
   "outputs": [],
   "source": [
    "dict_of_words = create_dict(words)"
   ]
  },
  {
   "cell_type": "code",
   "execution_count": 21,
   "metadata": {
    "scrolled": true
   },
   "outputs": [
    {
     "data": {
      "text/plain": [
       "8943"
      ]
     },
     "execution_count": 21,
     "metadata": {},
     "output_type": "execute_result"
    }
   ],
   "source": [
    "len(dict_of_words)"
   ]
  },
  {
   "cell_type": "code",
   "execution_count": 22,
   "metadata": {},
   "outputs": [
    {
     "data": {
      "text/plain": [
       "30690"
      ]
     },
     "execution_count": 22,
     "metadata": {},
     "output_type": "execute_result"
    }
   ],
   "source": [
    "len(words)"
   ]
  },
  {
   "cell_type": "markdown",
   "metadata": {
    "id": "ZX8TNJ0BY-O-"
   },
   "source": [
    "Предыдущий маленький словарь мы легко могли посмотреть целиком, а теперь слов слишком много — хочется посмотреть на фрагмент словаря. Напишем соответствующую функцию, которая будет выводить элементы словаря в заданном диапазоне (в том порядке, в котором они хранятся в словаре)."
   ]
  },
  {
   "cell_type": "code",
   "execution_count": 25,
   "metadata": {
    "id": "Mq6CjZdBY-O_"
   },
   "outputs": [],
   "source": [
    "def print_dict(dictionary, start, end):\n",
    "    i = 0\n",
    "    for w in dictionary:\n",
    "        if i >= start:\n",
    "            print(w, dictionary[w])\n",
    "        if i == end:\n",
    "            break\n",
    "        i += 1"
   ]
  },
  {
   "cell_type": "code",
   "execution_count": 26,
   "metadata": {
    "colab": {
     "base_uri": "https://localhost:8080/",
     "height": 202
    },
    "executionInfo": {
     "elapsed": 616,
     "status": "ok",
     "timestamp": 1602666274316,
     "user": {
      "displayName": "Анна Шишкова",
      "photoUrl": "https://lh3.googleusercontent.com/a-/AOh14GglV7trPMOxrljX4T6wMrrbCXnSq4k4bMlUL6q9xQ=s64",
      "userId": "05776018689746249823"
     },
     "user_tz": -180
    },
    "id": "NPaqS7BbY-PE",
    "outputId": "73c58592-f2c9-4575-9b74-3afd1c15de11"
   },
   "outputs": [
    {
     "name": "stdout",
     "output_type": "stream",
     "text": [
      "кобеля 1\n",
      "это 91\n",
      "нанял 1\n",
      "для 36\n",
      "меня 287\n",
      "француза 2\n",
      "мосье 1\n",
      "бопре 8\n",
      "которого 8\n",
      "выписали 1\n",
      "из 122\n",
      "москвы 2\n",
      "вместе 17\n",
      "годовым 1\n",
      "запасом 1\n",
      "вина 5\n",
      "прованского 1\n",
      "масла 1\n",
      "приезд 1\n",
      "сильно 10\n",
      "понравился 1\n",
      "«слава 4\n",
      "богу 20\n",
      "ворчал 3\n",
      "про 17\n",
      "себя 42\n"
     ]
    }
   ],
   "source": [
    "print_dict(dict_of_words, 150, 175)"
   ]
  },
  {
   "cell_type": "markdown",
   "metadata": {
    "id": "RsjLMgC2_Tbm"
   },
   "source": [
    "# 3. Сортировка словаря слов"
   ]
  },
  {
   "cell_type": "markdown",
   "metadata": {
    "id": "n8QpMg5_Y-PH"
   },
   "source": [
    "Сейчас ключи словаря расположены в том порядке, как мы их записывали. А мы хотим узнать самые популярные, то есть наиболее часто употребляемые слова. Но для этого нужно отсортировать словарь по значениям. Встроенной такой функции нет — напишем свою. Сразу оговоримся, что на выходе будет не словарь, а **отсортированный список, состоящий из ключей и значений словаря**.\n",
    "\n",
    "Сначала по шагам разберем, что будет делать функция. На этапе разработки будем использовать словарь `small_dict`."
   ]
  },
  {
   "cell_type": "code",
   "execution_count": null,
   "metadata": {
    "colab": {
     "base_uri": "https://localhost:8080/",
     "height": 34
    },
    "executionInfo": {
     "elapsed": 1721,
     "status": "ok",
     "timestamp": 1597431209531,
     "user": {
      "displayName": "Анна Шишкова",
      "photoUrl": "https://lh3.googleusercontent.com/a-/AOh14GglV7trPMOxrljX4T6wMrrbCXnSq4k4bMlUL6q9xQ=s64",
      "userId": "05776018689746249823"
     },
     "user_tz": -180
    },
    "id": "K9ho-5TkY-PI",
    "outputId": "cb7c4f8b-10e6-4506-abaa-9915799e0379"
   },
   "outputs": [],
   "source": []
  },
  {
   "cell_type": "markdown",
   "metadata": {
    "id": "GIornPqLVETP"
   },
   "source": [
    "Преобразуем словарь в список. Для этого нужно преобразовать словарь в пары (ключ, значение) с помощью метода `items()`."
   ]
  },
  {
   "cell_type": "code",
   "execution_count": null,
   "metadata": {
    "colab": {
     "base_uri": "https://localhost:8080/",
     "height": 70
    },
    "executionInfo": {
     "elapsed": 655,
     "status": "ok",
     "timestamp": 1597431238048,
     "user": {
      "displayName": "Анна Шишкова",
      "photoUrl": "https://lh3.googleusercontent.com/a-/AOh14GglV7trPMOxrljX4T6wMrrbCXnSq4k4bMlUL6q9xQ=s64",
      "userId": "05776018689746249823"
     },
     "user_tz": -180
    },
    "id": "PLzzDlYLUNYC",
    "outputId": "0a8efac6-482a-45c2-ea1a-669a33eea106"
   },
   "outputs": [],
   "source": []
  },
  {
   "cell_type": "code",
   "execution_count": null,
   "metadata": {
    "colab": {
     "base_uri": "https://localhost:8080/",
     "height": 118
    },
    "executionInfo": {
     "elapsed": 1096,
     "status": "ok",
     "timestamp": 1597347457401,
     "user": {
      "displayName": "Анна Шишкова",
      "photoUrl": "https://lh3.googleusercontent.com/a-/AOh14GglV7trPMOxrljX4T6wMrrbCXnSq4k4bMlUL6q9xQ=s64",
      "userId": "05776018689746249823"
     },
     "user_tz": -180
    },
    "id": "BuyexO2ruyc1",
    "outputId": "24a8b25c-4a95-4eae-c68f-5e7df2553392"
   },
   "outputs": [],
   "source": []
  },
  {
   "cell_type": "markdown",
   "metadata": {
    "id": "e7igaU56VIKi"
   },
   "source": [
    "Теперь хотим отсортировать список так, чтобы наверху списка оказались самые популярные слова. Значит, сортировать нужно по частоте, то есть по количеству употреблений слова — по второму элементу.\n",
    "\n",
    "Но простая сортировка списка отсортирует по первым элементам списка, которые в нашем случае являются строками: "
   ]
  },
  {
   "cell_type": "code",
   "execution_count": null,
   "metadata": {
    "colab": {
     "base_uri": "https://localhost:8080/",
     "height": 118
    },
    "executionInfo": {
     "elapsed": 492,
     "status": "ok",
     "timestamp": 1597321248016,
     "user": {
      "displayName": "Анна Шишкова",
      "photoUrl": "https://lh3.googleusercontent.com/a-/AOh14GglV7trPMOxrljX4T6wMrrbCXnSq4k4bMlUL6q9xQ=s64",
      "userId": "05776018689746249823"
     },
     "user_tz": -180
    },
    "id": "Q7YNDwMZwtKE",
    "outputId": "9d964884-8ead-47e1-dee7-13389ddddf06"
   },
   "outputs": [],
   "source": []
  },
  {
   "cell_type": "markdown",
   "metadata": {
    "id": "7aCv5hxEVNSv"
   },
   "source": [
    "Если бы мы хотели получить сортировку слов по алфавиту, нас бы это устроило. Но мы хотим найти самые популярные слова. Это значит, что мы хотим отсортировать по \"второму столбцу\" — второму элементу кортежей. Для этого можем вывести его на первое место, так как сортировка списка начинается с первых элементов кортежей.\n",
    "\n",
    "Поменяем местами слово и количество употреблений, чтобы то, по чему мы хотим сортировать, стояло на первом месте:"
   ]
  },
  {
   "cell_type": "code",
   "execution_count": null,
   "metadata": {
    "colab": {
     "base_uri": "https://localhost:8080/",
     "height": 118
    },
    "executionInfo": {
     "elapsed": 976,
     "status": "ok",
     "timestamp": 1597321539890,
     "user": {
      "displayName": "Анна Шишкова",
      "photoUrl": "https://lh3.googleusercontent.com/a-/AOh14GglV7trPMOxrljX4T6wMrrbCXnSq4k4bMlUL6q9xQ=s64",
      "userId": "05776018689746249823"
     },
     "user_tz": -180
    },
    "id": "MAqKH5pfxkeb",
    "outputId": "170daa02-9e24-4c76-efd5-b62ab9a424dc"
   },
   "outputs": [],
   "source": []
  },
  {
   "cell_type": "markdown",
   "metadata": {
    "id": "0osU5VpfVVq4"
   },
   "source": [
    "Осталось отсортировать полученный список:"
   ]
  },
  {
   "cell_type": "code",
   "execution_count": null,
   "metadata": {
    "colab": {
     "base_uri": "https://localhost:8080/",
     "height": 118
    },
    "executionInfo": {
     "elapsed": 510,
     "status": "ok",
     "timestamp": 1597321862307,
     "user": {
      "displayName": "Анна Шишкова",
      "photoUrl": "https://lh3.googleusercontent.com/a-/AOh14GglV7trPMOxrljX4T6wMrrbCXnSq4k4bMlUL6q9xQ=s64",
      "userId": "05776018689746249823"
     },
     "user_tz": -180
    },
    "id": "Mx65_lzNv48N",
    "outputId": "32d2f71a-0679-45e0-e62f-99370f1b2cf0"
   },
   "outputs": [],
   "source": []
  },
  {
   "cell_type": "markdown",
   "metadata": {
    "id": "3_CWfYIaVZqu"
   },
   "source": [
    "Но нам нужно по убыванию:"
   ]
  },
  {
   "cell_type": "code",
   "execution_count": null,
   "metadata": {
    "colab": {
     "base_uri": "https://localhost:8080/",
     "height": 118
    },
    "executionInfo": {
     "elapsed": 563,
     "status": "ok",
     "timestamp": 1597321916182,
     "user": {
      "displayName": "Анна Шишкова",
      "photoUrl": "https://lh3.googleusercontent.com/a-/AOh14GglV7trPMOxrljX4T6wMrrbCXnSq4k4bMlUL6q9xQ=s64",
      "userId": "05776018689746249823"
     },
     "user_tz": -180
    },
    "id": "myO6sv9Xzf36",
    "outputId": "c3645312-37b0-4b1b-b1be-7ff4f09ebe83"
   },
   "outputs": [],
   "source": []
  },
  {
   "cell_type": "markdown",
   "metadata": {
    "id": "AzeN2uXkTVM9"
   },
   "source": [
    "Возможно, функция сортировки по значению пригодится не только в данной задаче, но и при работе с другими словарями. Поэтому переменную `word` переименуем в `key` (_ключ_), а переменную `count` — в `value` (_значение_). И дадим пользователю возможность выбирать, по возрастанию или по убыванию значений сортировать словарь. Итого, получаем следующую функцию:"
   ]
  },
  {
   "cell_type": "code",
   "execution_count": null,
   "metadata": {
    "id": "pOJZI2GMTaiu"
   },
   "outputs": [],
   "source": []
  },
  {
   "cell_type": "markdown",
   "metadata": {
    "id": "XWTBzoBjTrl-"
   },
   "source": [
    "Запустим ее на большом словаре слов:"
   ]
  },
  {
   "cell_type": "code",
   "execution_count": null,
   "metadata": {
    "id": "24TFTkqUY-PW",
    "outputId": "0b3eaa81-020d-4481-bdb9-6c4aaf85342c"
   },
   "outputs": [],
   "source": []
  },
  {
   "cell_type": "markdown",
   "metadata": {
    "id": "Y6Si5jtAY-Pc"
   },
   "source": [
    "Видим, что по наиболее часто употребляемым словам нельзя ничего узнать о тексте. Требуется дополнительная обработка."
   ]
  },
  {
   "cell_type": "markdown",
   "metadata": {
    "id": "KZIDFSRPY-Pp"
   },
   "source": [
    "# 4. Удаление стоп-слов"
   ]
  },
  {
   "cell_type": "markdown",
   "metadata": {
    "id": "xsla5J9HY-Pp"
   },
   "source": [
    "Если мы хотим получить какую-то информацию о тексте по наиболее часто употребяемым словам, необходимо очистить текст от так называемых стоп-слов: в основном это местоимения и служебные части речи, которых много в каждом тексте и которые не несут информации о содержании текста.\n",
    "\n",
    "Создадим список с общепринятыми стоп-словами для русского языка (список заимствован из модуля для обработки естественного языка Natural Language Toolkit и дополнены несколькими словами)."
   ]
  },
  {
   "cell_type": "code",
   "execution_count": 38,
   "metadata": {
    "id": "96hq-0XgY-Pt"
   },
   "outputs": [],
   "source": [
    "stopwords = ['и', 'в', 'во', 'не', 'что', 'он', 'на', 'я', 'с', 'со', 'как', 'а', 'то', 'все', 'она', 'так', 'его', 'но', 'да', 'ты', 'к', 'у', 'же', 'вы', 'за', 'бы', 'по', 'только', 'ее', 'мне', 'было', 'вот', 'от', 'меня', 'еще', 'нет', 'о', 'из', 'ему', 'теперь', 'когда', 'даже', 'ну', 'вдруг', 'ли', 'если', 'уже', 'или', 'ни', 'быть', 'был', 'него', 'до', 'вас', 'нибудь', 'опять', 'уж', 'вам', 'ведь', 'там', 'потом', 'себя', 'ничего', 'ей', 'может', 'они', 'тут', 'где', 'есть', 'надо', 'ней', 'для', 'мы', 'тебя', 'их', 'чем', 'была', 'сам', 'чтоб', 'без', 'будто', 'чего', 'раз', 'тоже', 'себе', 'под', 'будет', 'ж', 'тогда', 'кто', 'этот', 'того', 'потому', 'этого', 'какой', 'совсем', 'ним', 'здесь', 'этом', 'один', 'почти', 'мой', 'тем', 'чтобы', 'нее', 'сейчас', 'были', 'куда', 'зачем', 'всех', 'никогда', 'можно', 'при', 'наконец', 'два', 'об', 'другой', 'хоть', 'после', 'над', 'больше', 'тот', 'через', 'эти', 'нас', 'про', 'всего', 'них', 'какая', 'много', 'разве', 'три', 'эту', 'моя', 'впрочем', 'хорошо', 'свою', 'этой', 'перед', 'иногда', 'лучше', 'чуть', 'том', 'нельзя', 'такой', 'им', 'более', 'всегда', 'конечно', 'всю', 'между', 'сказал','это','сказала']\n",
    "\n"
   ]
  },
  {
   "cell_type": "markdown",
   "metadata": {
    "id": "bQWXvAJnY-Pz"
   },
   "source": [
    "Создаем новый список всех слов текста, в который войдут только слова, не являющиеся стоп-словами (то есть не входящие в список стоп-слов)."
   ]
  },
  {
   "cell_type": "code",
   "execution_count": null,
   "metadata": {
    "id": "xpbJUR_hY-P1",
    "outputId": "ca60d7b7-ca2a-49f5-b493-00472e74084d"
   },
   "outputs": [],
   "source": []
  },
  {
   "cell_type": "code",
   "execution_count": null,
   "metadata": {},
   "outputs": [],
   "source": []
  },
  {
   "cell_type": "markdown",
   "metadata": {
    "id": "NXKowjSPY-QJ"
   },
   "source": [
    "Создадим словарь по списку без стоп-слов и распечатаем несколько ключей и значений."
   ]
  },
  {
   "cell_type": "code",
   "execution_count": null,
   "metadata": {
    "id": "7jb7RNaJY-QK",
    "outputId": "b77c80f3-f12a-4f28-9f13-739670212570"
   },
   "outputs": [],
   "source": []
  },
  {
   "cell_type": "markdown",
   "metadata": {
    "id": "NFwKskuXY-QP"
   },
   "source": [
    "Осталось отсортировать список — используем подготовленную функцию."
   ]
  },
  {
   "cell_type": "code",
   "execution_count": null,
   "metadata": {
    "id": "GZ_akJQfY-QP",
    "outputId": "13bee345-1d34-4178-aa86-686a5710e054",
    "scrolled": true
   },
   "outputs": [],
   "source": []
  },
  {
   "cell_type": "code",
   "execution_count": null,
   "metadata": {},
   "outputs": [],
   "source": []
  },
  {
   "cell_type": "markdown",
   "metadata": {
    "id": "a2cD87TtY-Qj"
   },
   "source": [
    "Теперь наиболее часто встречаемые слова текста можно назвать его _ключевыми словами_ — по ним можно узнать, как минимум, нескольких главных героев произведения."
   ]
  },
  {
   "cell_type": "markdown",
   "metadata": {
    "id": "F5ydS8TIY-Qk"
   },
   "source": [
    "# 5. Запись в файл"
   ]
  },
  {
   "cell_type": "markdown",
   "metadata": {
    "id": "KtbO_t8CY-Qk"
   },
   "source": [
    "Когда все операции выполнены, может возникнуть потребность сохранить результаты в файл. Реализуем ситуацию, когда нужно сохранить список без стоп-слов по убыванию частоты встречаемости в тексте."
   ]
  },
  {
   "cell_type": "code",
   "execution_count": null,
   "metadata": {
    "id": "pLYlIPt6Y-Ql"
   },
   "outputs": [],
   "source": []
  },
  {
   "cell_type": "markdown",
   "metadata": {
    "id": "Oqgttr6OY-Qp"
   },
   "source": [
    "Сейчас в файле есть скобки:"
   ]
  },
  {
   "cell_type": "code",
   "execution_count": null,
   "metadata": {
    "id": "piV3kbpcY-Qq",
    "outputId": "4e19b15d-8fb0-4804-9388-2ec107661a54"
   },
   "outputs": [],
   "source": []
  },
  {
   "cell_type": "code",
   "execution_count": null,
   "metadata": {},
   "outputs": [],
   "source": []
  },
  {
   "cell_type": "markdown",
   "metadata": {
    "id": "hEzLYfkcY-Qz"
   },
   "source": [
    "Сделаем по-другому: будем записывать в файл в цикле, заодно поменяем местами слово и частоту."
   ]
  },
  {
   "cell_type": "code",
   "execution_count": null,
   "metadata": {
    "id": "TysLgBwGY-Q0"
   },
   "outputs": [],
   "source": []
  },
  {
   "cell_type": "markdown",
   "metadata": {
    "id": "Y9LiRDb6Y-Q4"
   },
   "source": [
    "Полученный файл можем открыть в виде таблицы, например, в Google Sheets."
   ]
  },
  {
   "cell_type": "markdown",
   "metadata": {
    "id": "x5bTHzjlY-Q5"
   },
   "source": [
    "# Задание для любознательных \n",
    "_не проверяется, не оценивается_\n",
    "\n",
    "Как вы могли заметить, в результате сортировки слова с одинаковой частотой выстроились в обратном порядке: от Я до А. Особенно это заметно, если смотреть в конец списка, где количество употреблений каждого слова равно 1. Но вся сортировка делалась для поиска самых популярных слов, у которых редко совпадают частоты. То есть конец списка — это \"побочный продукт\". Тем не менее, может возникнуть желание исправить эту ситуацию. **Подумайте, как можно отсортировать так, чтобы слова шли по убыванию количества употреблений, а слова с одинаковым количеством употреблений — по возрастанию (в алфавитном порядке).**"
   ]
  },
  {
   "cell_type": "markdown",
   "metadata": {
    "id": "QFtSZTFKY-Q6"
   },
   "source": [
    "Один из вариантов решения представлен ниже. Сначала попробуйте придумать свой способ, а потом — разобраться в предложенном решении. Раскомментируйте код, чтобы запустить программу."
   ]
  },
  {
   "cell_type": "code",
   "execution_count": null,
   "metadata": {
    "id": "cdzR6JjKY-Q7"
   },
   "outputs": [],
   "source": []
  },
  {
   "cell_type": "code",
   "execution_count": null,
   "metadata": {
    "id": "eILhJSTuY-Q_"
   },
   "outputs": [],
   "source": []
  },
  {
   "cell_type": "code",
   "execution_count": null,
   "metadata": {},
   "outputs": [],
   "source": []
  }
 ],
 "metadata": {
  "colab": {
   "collapsed_sections": [],
   "name": "8.11.4–8.11.8 Работа с текстовыми файлами.ipynb",
   "provenance": []
  },
  "kernelspec": {
   "display_name": "Python 3 (ipykernel)",
   "language": "python",
   "name": "python3"
  },
  "language_info": {
   "codemirror_mode": {
    "name": "ipython",
    "version": 3
   },
   "file_extension": ".py",
   "mimetype": "text/x-python",
   "name": "python",
   "nbconvert_exporter": "python",
   "pygments_lexer": "ipython3",
   "version": "3.9.12"
  }
 },
 "nbformat": 4,
 "nbformat_minor": 1
}
