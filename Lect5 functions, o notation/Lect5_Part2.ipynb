{
 "cells": [
  {
   "cell_type": "markdown",
   "id": "c766e277",
   "metadata": {},
   "source": [
    "# Вложенные структуры"
   ]
  },
  {
   "cell_type": "code",
   "execution_count": 28,
   "id": "c30f676d",
   "metadata": {
    "scrolled": true
   },
   "outputs": [
    {
     "data": {
      "text/plain": [
       "[{'Петя': 5, 'Аня': 7}, {'Вася': 6, 'Оля': 7}]"
      ]
     },
     "execution_count": 28,
     "metadata": {},
     "output_type": "execute_result"
    }
   ],
   "source": [
    "# Список списков\n",
    "[['bread', 'cheese'], ['milk', 'apple']]\n",
    "\n",
    "#Список кортежей\n",
    "[(10, 8, 9.4), (7, 5, 7.8)]\n",
    "\n",
    "#Список множеств\n",
    "[{'cat'}, {'dog'}]\n",
    "\n",
    "#Список словарей\n",
    "[{'Петя' : 5, 'Аня' : 7}, {'Вася' : 6, 'Оля' : 7}]"
   ]
  },
  {
   "cell_type": "code",
   "execution_count": 2,
   "id": "e97314b4",
   "metadata": {},
   "outputs": [],
   "source": [
    "# Словарь словарей списков (json)\n",
    "students = {'1 курс' : \n",
    "     {'181 группа' : ['Маша' , 'Петя'],\n",
    "     '182 группа' : ['Вася', 'Оля']},\n",
    "\n",
    "'2 курс' : \n",
    "    {'171 группа' : ['Маша' , 'Петя'],\n",
    "     '172 группа' : ['Вася', 'Оля']}}"
   ]
  },
  {
   "cell_type": "code",
   "execution_count": 3,
   "id": "cc27c493",
   "metadata": {},
   "outputs": [
    {
     "data": {
      "text/plain": [
       "{'181 группа': ['Маша', 'Петя'], '182 группа': ['Вася', 'Оля']}"
      ]
     },
     "execution_count": 3,
     "metadata": {},
     "output_type": "execute_result"
    }
   ],
   "source": [
    "students['1 курс']"
   ]
  },
  {
   "cell_type": "code",
   "execution_count": 4,
   "id": "e1337d99",
   "metadata": {},
   "outputs": [
    {
     "data": {
      "text/plain": [
       "['Маша', 'Петя']"
      ]
     },
     "execution_count": 4,
     "metadata": {},
     "output_type": "execute_result"
    }
   ],
   "source": [
    "students['1 курс']['181 группа']"
   ]
  },
  {
   "cell_type": "code",
   "execution_count": 5,
   "id": "e3c17747",
   "metadata": {},
   "outputs": [
    {
     "name": "stdout",
     "output_type": "stream",
     "text": [
      "Маша\n",
      "Петя\n",
      "Вася\n",
      "Оля\n",
      "Маша\n",
      "Петя\n",
      "Вася\n",
      "Оля\n"
     ]
    }
   ],
   "source": [
    "for course in students:\n",
    "    for group in students[course]:\n",
    "        for student in students[course][group]:\n",
    "            print(student)"
   ]
  },
  {
   "cell_type": "markdown",
   "id": "110cc0f0",
   "metadata": {},
   "source": [
    "# Сортировка с sorted()"
   ]
  },
  {
   "cell_type": "code",
   "execution_count": 6,
   "id": "0bca334b",
   "metadata": {},
   "outputs": [],
   "source": [
    "marks = ['Hello', 'hi'] #'hello' > 'hi'"
   ]
  },
  {
   "cell_type": "code",
   "execution_count": 7,
   "id": "c1c2fe24",
   "metadata": {},
   "outputs": [
    {
     "data": {
      "text/plain": [
       "['Hello', 'hi']"
      ]
     },
     "execution_count": 7,
     "metadata": {},
     "output_type": "execute_result"
    }
   ],
   "source": [
    "sorted(marks)"
   ]
  },
  {
   "cell_type": "code",
   "execution_count": 8,
   "id": "578c6d65",
   "metadata": {},
   "outputs": [
    {
     "data": {
      "text/plain": [
       "['hi', 'Hello']"
      ]
     },
     "execution_count": 8,
     "metadata": {},
     "output_type": "execute_result"
    }
   ],
   "source": [
    "sorted(marks, key = lambda s: len(s))"
   ]
  },
  {
   "cell_type": "code",
   "execution_count": 5,
   "id": "85712320",
   "metadata": {},
   "outputs": [],
   "source": [
    "marks = [4, 8.3, 2, 6]"
   ]
  },
  {
   "cell_type": "code",
   "execution_count": 12,
   "id": "2153100a",
   "metadata": {},
   "outputs": [],
   "source": [
    "marks = ['Удовл.', 'отл.', 'АЗБУКА'] #'А-Яа-я'"
   ]
  },
  {
   "cell_type": "code",
   "execution_count": 13,
   "id": "2ec0be21",
   "metadata": {},
   "outputs": [
    {
     "data": {
      "text/plain": [
       "['АЗБУКА', 'Удовл.', 'отл.']"
      ]
     },
     "execution_count": 13,
     "metadata": {},
     "output_type": "execute_result"
    }
   ],
   "source": [
    "sorted(marks)"
   ]
  },
  {
   "cell_type": "code",
   "execution_count": 14,
   "id": "c8c5fd2c",
   "metadata": {},
   "outputs": [
    {
     "data": {
      "text/plain": [
       "['АЗБУКА', 'отл.', 'Удовл.']"
      ]
     },
     "execution_count": 14,
     "metadata": {},
     "output_type": "execute_result"
    }
   ],
   "source": [
    "sorted(marks, key = str.lower)"
   ]
  },
  {
   "cell_type": "code",
   "execution_count": 15,
   "id": "453cfeef",
   "metadata": {},
   "outputs": [
    {
     "data": {
      "text/plain": [
       "['АЗБУКА', 'отл.', 'Удовл.']"
      ]
     },
     "execution_count": 15,
     "metadata": {},
     "output_type": "execute_result"
    }
   ],
   "source": [
    "sorted(marks, key = lambda s: s.lower())"
   ]
  },
  {
   "cell_type": "markdown",
   "id": "ac60fc4c",
   "metadata": {},
   "source": [
    "### Задача 1\n",
    "\n",
    "Дан словарь с результатами школьников на олимпиаде, где ключом является имя школьника, а значением набранные баллы. Реализуйте программу, которая будет выводить список всех победителей по введенному проходному баллу."
   ]
  },
  {
   "cell_type": "code",
   "execution_count": 16,
   "id": "c707a709",
   "metadata": {},
   "outputs": [],
   "source": [
    "# Задача Олимпиада\n",
    "\n",
    "results = { 'Петя': 100, 'Даша': 85, 'Кирилл': 28, \n",
    "            'Дима': 44, 'Миша': 91, 'Настя': 76, \n",
    "            'Глеб': 75} "
   ]
  },
  {
   "cell_type": "code",
   "execution_count": 17,
   "id": "4472438d",
   "metadata": {},
   "outputs": [],
   "source": [
    "score = 75"
   ]
  },
  {
   "cell_type": "code",
   "execution_count": 18,
   "id": "f3b32053",
   "metadata": {},
   "outputs": [
    {
     "name": "stdout",
     "output_type": "stream",
     "text": [
      "Петя Даша Миша Настя Глеб\n"
     ]
    }
   ],
   "source": [
    "winners = []\n",
    "for student in results:\n",
    "    if results[student] >= 75:\n",
    "        winners.append(student)\n",
    "print(*winners)"
   ]
  },
  {
   "cell_type": "code",
   "execution_count": 27,
   "id": "248962a6",
   "metadata": {},
   "outputs": [
    {
     "data": {
      "text/plain": [
       "{'Петя': 100, 'Даша': 85, 'Миша': 91, 'Настя': 76, 'Глеб': 75}"
      ]
     },
     "execution_count": 27,
     "metadata": {},
     "output_type": "execute_result"
    }
   ],
   "source": [
    "dict(filter(lambda pair: pair[1] >= 75, \n",
    "            results.items()))"
   ]
  },
  {
   "cell_type": "markdown",
   "id": "2b7e0200",
   "metadata": {},
   "source": [
    "### Задача 2\n",
    "\n",
    "Дан словарь с посещенными городами и странами. Реализуйте программу, которая при вводе города будет выводить страну, в которой находится этот город, и количество всех посещенных в этой стране городов. \n",
    "\n",
    "Гарантируется, что введенный город есть в словаре."
   ]
  },
  {
   "cell_type": "code",
   "execution_count": 6,
   "id": "43e8a256",
   "metadata": {},
   "outputs": [],
   "source": [
    "cities = {'Россия': ['Москва', 'Санкт-Петербург', 'Ростов-на-Дону', 'Казань'],\n",
    "          'Германия': ['Берлин', 'Дюссельдорф', 'Дрезден', 'Кельн'], \n",
    "          'Франция': ['Марсель', 'Ницца', 'Лион'], \n",
    "          'Великобритания': ['Лондон', 'Глазго']}"
   ]
  },
  {
   "cell_type": "code",
   "execution_count": null,
   "id": "43f04150",
   "metadata": {},
   "outputs": [],
   "source": []
  }
 ],
 "metadata": {
  "kernelspec": {
   "display_name": "Python 3 (ipykernel)",
   "language": "python",
   "name": "python3"
  },
  "language_info": {
   "codemirror_mode": {
    "name": "ipython",
    "version": 3
   },
   "file_extension": ".py",
   "mimetype": "text/x-python",
   "name": "python",
   "nbconvert_exporter": "python",
   "pygments_lexer": "ipython3",
   "version": "3.9.12"
  }
 },
 "nbformat": 4,
 "nbformat_minor": 5
}
