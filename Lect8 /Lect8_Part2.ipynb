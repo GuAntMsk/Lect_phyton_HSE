{
 "cells": [
  {
   "cell_type": "markdown",
   "metadata": {},
   "source": [
    "## Классы\n",
    "Классы в питоне - это способ работать с объектом у которого необходимо иметь состояние. Как правило, вам необходимо с этим состоянием как-то работать: модифицировать или узнавать что-то. Для этого в классах используются методы: особые функции, которые имеют доступ к содержимому вашего объекта."
   ]
  },
  {
   "cell_type": "markdown",
   "metadata": {},
   "source": [
    "Рассмотрим пример. Предположим у вас есть сеть отелей. И вам было бы очень удобно работать с отелем, кок отдельным объектом. Что является состоянием отеля? Для простоты предположим, что только информация о заполненных/свободных номерах. Тогда мы можем описать отель следующим образом:\n",
    "\n",
    "```python\n",
    "class Hotel:\n",
    "    def __init__(self, num_of_rooms):\n",
    "        self.rooms = [0 for _ in range(num_of_rooms)]\n",
    "```\n",
    "\n",
    "При создании объекта `Hotel` ему нужно будет передать количество комнат в этом отеле. Информацию о свободных и занятых комнатах мы будем хранить в массиве длины `num_of_rooms`, где 0 - комната свободна, 1 - комната занята.\n",
    "\n",
    "Какие функции помощники нам нужны? Мы бы наверное хотели уметь занимать комнаты (когда кто-то въезжает) и освобждать. Для этого напишем два метода `occupy` и `realize`.\n",
    "\n",
    "```python\n",
    "class Hotel:\n",
    "    def __init__(self, num_of_rooms):\n",
    "        self.rooms = [0 for _ in range(num_of_rooms)]\n",
    "        \n",
    "    def occupy(self, room_id):\n",
    "        self.rooms[room_id] = 1\n",
    "        \n",
    "    def free(self, room_id):\n",
    "        self.rooms[room_id] = 0\n",
    "```\n",
    "\n",
    "Отлично, теперь мы можем выполнять элементарные действия с нашим классом. Попробуйте создать класс и занять несколько комнат."
   ]
  },
  {
   "cell_type": "code",
   "execution_count": 2,
   "metadata": {},
   "outputs": [],
   "source": [
    "class Hotel:\n",
    "    def __init__(self, num_of_rooms):\n",
    "        self.rooms = [0 for _ in range(num_of_rooms)]\n",
    "        \n",
    "    def occupy(self, room_id):\n",
    "        self.rooms[room_id] = 1\n",
    "        \n",
    "    def free(self, room_id):\n",
    "        self.rooms[room_id] = 0"
   ]
  },
  {
   "cell_type": "code",
   "execution_count": 3,
   "metadata": {},
   "outputs": [
    {
     "data": {
      "text/plain": [
       "[0, 0, 0, 0, 0, 0, 0, 0, 0, 0]"
      ]
     },
     "execution_count": 3,
     "metadata": {},
     "output_type": "execute_result"
    }
   ],
   "source": [
    "h1 = Hotel(10)\n",
    "h1.rooms"
   ]
  },
  {
   "cell_type": "code",
   "execution_count": 5,
   "metadata": {},
   "outputs": [],
   "source": [
    "h1.occupy(2)"
   ]
  },
  {
   "cell_type": "code",
   "execution_count": 6,
   "metadata": {},
   "outputs": [
    {
     "data": {
      "text/plain": [
       "[0, 0, 1, 0, 0, 0, 0, 0, 0, 0]"
      ]
     },
     "execution_count": 6,
     "metadata": {},
     "output_type": "execute_result"
    }
   ],
   "source": [
    "h1.rooms"
   ]
  },
  {
   "cell_type": "code",
   "execution_count": 8,
   "metadata": {},
   "outputs": [],
   "source": [
    "h1.free(2)"
   ]
  },
  {
   "cell_type": "code",
   "execution_count": 9,
   "metadata": {},
   "outputs": [
    {
     "data": {
      "text/plain": [
       "[0, 0, 0, 0, 0, 0, 0, 0, 0, 0]"
      ]
     },
     "execution_count": 9,
     "metadata": {},
     "output_type": "execute_result"
    }
   ],
   "source": [
    "h1.rooms"
   ]
  },
  {
   "cell_type": "markdown",
   "metadata": {},
   "source": [
    "Зачем нам нужны классы? Ведь можно было написать функцию\n",
    "```python\n",
    "def occupy(rooms, room_id):\n",
    "    rooms[room_id] = 1\n",
    "    return rooms\n",
    "```\n",
    "\n",
    "Плюс работы с объектами в том, что тем, кто пользуются нашим классом (включая нас самих) не нужно думать о том, как мы реализовали хранение комнат. Если в какой-то момент мы захотим изменить `list` на `dict` (например мы заметили, что так быстрее), никто ничего не заметит. Код пользователей не изменится. Тоже самое касается функциональности - если мы вдруг решили, что нам нужно добавить бронирование на дату, мы можем это сделать и те кто уже пользуются нашим классом - ничего не заметят. У них ничего не сломается. А это очень важно."
   ]
  },
  {
   "cell_type": "markdown",
   "metadata": {},
   "source": [
    "# Задание 1\n",
    "\n",
    "Допишите несколько методов в класс `Hotel`.\n",
    "\n",
    "Напишите метод `occupancy_rate`. Метод должен возвращать долю комнат, которые заняты.\n",
    "\n",
    "Напишите метод `occupancy_rate`. Метод должен освобождать все комнаты. Если `occupancy_rate` написан корректно, то после `close` `occupancy_rate` должен возвращать 0."
   ]
  },
  {
   "cell_type": "code",
   "execution_count": 14,
   "metadata": {},
   "outputs": [],
   "source": [
    "class Hotel:\n",
    "    def __init__(self, num_of_rooms):\n",
    "        self.rooms = [0 for _ in range(num_of_rooms)]\n",
    "        \n",
    "    def occupy(self, room_id):\n",
    "        self.rooms[room_id] = 1\n",
    "        \n",
    "    def free(self, room_id):\n",
    "        self.rooms[room_id] = 0\n",
    "        \n",
    "    def occupancy_rate(self):\n",
    "        return sum(self.rooms) / len(self.rooms)\n",
    "        \n",
    "    def close(self):\n",
    "        for i in range(len(self.rooms)):\n",
    "            self.rooms[i] = 0"
   ]
  },
  {
   "cell_type": "code",
   "execution_count": 15,
   "metadata": {},
   "outputs": [
    {
     "name": "stdout",
     "output_type": "stream",
     "text": [
      "0.5\n",
      "0.0\n"
     ]
    }
   ],
   "source": [
    "h1 = Hotel(6)\n",
    "h1.occupy(1)\n",
    "h1.occupy(2)\n",
    "h1.occupy(3)\n",
    "print(h1.occupancy_rate())\n",
    "h1.close()\n",
    "print(h1.occupancy_rate())"
   ]
  },
  {
   "cell_type": "markdown",
   "metadata": {},
   "source": [
    "# Задание 2\n",
    "Мы хотим, чтобы пользователь нашего класса не натворил глупостей. Например, не пытался занять уже занятую комнату. Допишите методы `occupy` и `free`. Проверьте внутри них, что состояние комнаты действительно меняется. Иначе вы должны бросить исключение с понятным текстом.\n",
    "\n",
    "Напоминаю, что исключение - это такая конструкция, когда программа завершает работу из некоторой точки. Как правило в случае появления ошибки.\n",
    "Синтаксис\n",
    "```python\n",
    "raise RuntimeError(\"Bad news\")\n",
    "```"
   ]
  },
  {
   "cell_type": "code",
   "execution_count": 17,
   "metadata": {},
   "outputs": [],
   "source": [
    "class Hotel:\n",
    "    def __init__(self, num_of_rooms):\n",
    "        self.rooms = [0 for _ in range(num_of_rooms)]\n",
    "        \n",
    "    def occupy(self, room_id):\n",
    "        if self.rooms[room_id] == 1:\n",
    "            raise RuntimeError(\"Bad news\")\n",
    "        self.rooms[room_id] = 1\n",
    "        \n",
    "    def free(self, room_id):\n",
    "        if self.rooms[room_id] == 0:\n",
    "            raise RuntimeError(\"Bad news\")\n",
    "        self.rooms[room_id] = 0\n",
    "        \n",
    "    def occupancy_rate(self):\n",
    "        return sum(self.rooms) / len(self.rooms)\n",
    "        \n",
    "    def close(self):\n",
    "        for i in range(len(self.rooms)):\n",
    "            self.rooms[i] = 0"
   ]
  },
  {
   "cell_type": "code",
   "execution_count": 18,
   "metadata": {},
   "outputs": [
    {
     "ename": "RuntimeError",
     "evalue": "Bad news",
     "output_type": "error",
     "traceback": [
      "\u001b[0;31m---------------------------------------------------------------------------\u001b[0m",
      "\u001b[0;31mRuntimeError\u001b[0m                              Traceback (most recent call last)",
      "Input \u001b[0;32mIn [18]\u001b[0m, in \u001b[0;36m<cell line: 3>\u001b[0;34m()\u001b[0m\n\u001b[1;32m      1\u001b[0m h1 \u001b[38;5;241m=\u001b[39m Hotel(\u001b[38;5;241m6\u001b[39m)\n\u001b[1;32m      2\u001b[0m h1\u001b[38;5;241m.\u001b[39moccupy(\u001b[38;5;241m1\u001b[39m)\n\u001b[0;32m----> 3\u001b[0m \u001b[43mh1\u001b[49m\u001b[38;5;241;43m.\u001b[39;49m\u001b[43moccupy\u001b[49m\u001b[43m(\u001b[49m\u001b[38;5;241;43m1\u001b[39;49m\u001b[43m)\u001b[49m\n",
      "Input \u001b[0;32mIn [17]\u001b[0m, in \u001b[0;36mHotel.occupy\u001b[0;34m(self, room_id)\u001b[0m\n\u001b[1;32m      5\u001b[0m \u001b[38;5;28;01mdef\u001b[39;00m \u001b[38;5;21moccupy\u001b[39m(\u001b[38;5;28mself\u001b[39m, room_id):\n\u001b[1;32m      6\u001b[0m     \u001b[38;5;28;01mif\u001b[39;00m \u001b[38;5;28mself\u001b[39m\u001b[38;5;241m.\u001b[39mrooms[room_id] \u001b[38;5;241m==\u001b[39m \u001b[38;5;241m1\u001b[39m:\n\u001b[0;32m----> 7\u001b[0m         \u001b[38;5;28;01mraise\u001b[39;00m \u001b[38;5;167;01mRuntimeError\u001b[39;00m(\u001b[38;5;124m\"\u001b[39m\u001b[38;5;124mBad news\u001b[39m\u001b[38;5;124m\"\u001b[39m)\n\u001b[1;32m      8\u001b[0m     \u001b[38;5;28mself\u001b[39m\u001b[38;5;241m.\u001b[39mrooms[room_id] \u001b[38;5;241m=\u001b[39m \u001b[38;5;241m1\u001b[39m\n",
      "\u001b[0;31mRuntimeError\u001b[0m: Bad news"
     ]
    }
   ],
   "source": [
    "h1 = Hotel(6)\n",
    "h1.occupy(1)\n",
    "h1.occupy(1)"
   ]
  },
  {
   "cell_type": "code",
   "execution_count": 19,
   "metadata": {},
   "outputs": [
    {
     "ename": "RuntimeError",
     "evalue": "Bad news",
     "output_type": "error",
     "traceback": [
      "\u001b[0;31m---------------------------------------------------------------------------\u001b[0m",
      "\u001b[0;31mRuntimeError\u001b[0m                              Traceback (most recent call last)",
      "Input \u001b[0;32mIn [19]\u001b[0m, in \u001b[0;36m<cell line: 4>\u001b[0;34m()\u001b[0m\n\u001b[1;32m      2\u001b[0m h1\u001b[38;5;241m.\u001b[39moccupy(\u001b[38;5;241m1\u001b[39m)\n\u001b[1;32m      3\u001b[0m h1\u001b[38;5;241m.\u001b[39mfree(\u001b[38;5;241m1\u001b[39m)\n\u001b[0;32m----> 4\u001b[0m \u001b[43mh1\u001b[49m\u001b[38;5;241;43m.\u001b[39;49m\u001b[43mfree\u001b[49m\u001b[43m(\u001b[49m\u001b[38;5;241;43m1\u001b[39;49m\u001b[43m)\u001b[49m\n",
      "Input \u001b[0;32mIn [17]\u001b[0m, in \u001b[0;36mHotel.free\u001b[0;34m(self, room_id)\u001b[0m\n\u001b[1;32m     10\u001b[0m \u001b[38;5;28;01mdef\u001b[39;00m \u001b[38;5;21mfree\u001b[39m(\u001b[38;5;28mself\u001b[39m, room_id):\n\u001b[1;32m     11\u001b[0m     \u001b[38;5;28;01mif\u001b[39;00m \u001b[38;5;28mself\u001b[39m\u001b[38;5;241m.\u001b[39mrooms[room_id] \u001b[38;5;241m==\u001b[39m \u001b[38;5;241m0\u001b[39m:\n\u001b[0;32m---> 12\u001b[0m         \u001b[38;5;28;01mraise\u001b[39;00m \u001b[38;5;167;01mRuntimeError\u001b[39;00m(\u001b[38;5;124m\"\u001b[39m\u001b[38;5;124mBad news\u001b[39m\u001b[38;5;124m\"\u001b[39m)\n\u001b[1;32m     13\u001b[0m     \u001b[38;5;28mself\u001b[39m\u001b[38;5;241m.\u001b[39mrooms[room_id] \u001b[38;5;241m=\u001b[39m \u001b[38;5;241m0\u001b[39m\n",
      "\u001b[0;31mRuntimeError\u001b[0m: Bad news"
     ]
    }
   ],
   "source": [
    "h1 = Hotel(6)\n",
    "h1.occupy(1)\n",
    "h1.free(1)\n",
    "h1.free(1)"
   ]
  },
  {
   "cell_type": "markdown",
   "metadata": {},
   "source": [
    "# Задание 3\n",
    "Добавьте возможность бронировать номера. Метод назовем `book(self, date, room_id)`. На вход приходит дата и номер комнаты и она становится занята. Если бронь не удалась, бросьте исключение. Перед бронью убедитесь, что комната свободна. Для этого напишите метод `is_booked(self, date, room_id)`. "
   ]
  },
  {
   "cell_type": "code",
   "execution_count": 33,
   "metadata": {},
   "outputs": [],
   "source": [
    "from datetime import date\n",
    "\n",
    "class Hotel:\n",
    "    def __init__(self, num_of_rooms):\n",
    "        self.dates = [set() for _ in range(num_of_rooms)]\n",
    "        \n",
    "    def occupy(self, room_id, date):\n",
    "        if date in self.dates[room_id]:\n",
    "            raise RuntimeError(\"Bad news\")\n",
    "        self.dates[room_id].add(date)\n",
    "        \n",
    "    def free(self, room_id, date):\n",
    "        if date not in self.dates[room_id]:\n",
    "            raise RuntimeError(\"Bad news\")\n",
    "        self.dates[room_id].remove(date)"
   ]
  },
  {
   "cell_type": "code",
   "execution_count": 34,
   "metadata": {},
   "outputs": [
    {
     "data": {
      "text/plain": [
       "[set(),\n",
       " {datetime.date(2023, 10, 7),\n",
       "  datetime.date(2023, 10, 9),\n",
       "  datetime.date(2023, 10, 11)},\n",
       " set(),\n",
       " set(),\n",
       " set()]"
      ]
     },
     "execution_count": 34,
     "metadata": {},
     "output_type": "execute_result"
    }
   ],
   "source": [
    "h1 = Hotel(5)\n",
    "h1.occupy(1, date.today())\n",
    "h1.occupy(1, date(2023, 10, 9))\n",
    "h1.occupy(1, date(2023, 10, 11))\n",
    "h1.dates"
   ]
  },
  {
   "cell_type": "code",
   "execution_count": 35,
   "metadata": {},
   "outputs": [],
   "source": [
    "h1.free(1, date(2023, 10, 9))"
   ]
  },
  {
   "cell_type": "code",
   "execution_count": 32,
   "metadata": {},
   "outputs": [
    {
     "data": {
      "text/plain": [
       "[set(),\n",
       " {datetime.date(2023, 10, 7), datetime.date(2023, 10, 11)},\n",
       " set(),\n",
       " set(),\n",
       " set()]"
      ]
     },
     "execution_count": 32,
     "metadata": {},
     "output_type": "execute_result"
    }
   ],
   "source": [
    "h1.dates"
   ]
  },
  {
   "cell_type": "code",
   "execution_count": 36,
   "metadata": {},
   "outputs": [
    {
     "ename": "RuntimeError",
     "evalue": "Bad news",
     "output_type": "error",
     "traceback": [
      "\u001b[0;31m---------------------------------------------------------------------------\u001b[0m",
      "\u001b[0;31mRuntimeError\u001b[0m                              Traceback (most recent call last)",
      "Input \u001b[0;32mIn [36]\u001b[0m, in \u001b[0;36m<cell line: 1>\u001b[0;34m()\u001b[0m\n\u001b[0;32m----> 1\u001b[0m \u001b[43mh1\u001b[49m\u001b[38;5;241;43m.\u001b[39;49m\u001b[43mfree\u001b[49m\u001b[43m(\u001b[49m\u001b[38;5;241;43m1\u001b[39;49m\u001b[43m,\u001b[49m\u001b[43m \u001b[49m\u001b[43mdate\u001b[49m\u001b[43m(\u001b[49m\u001b[38;5;241;43m2023\u001b[39;49m\u001b[43m,\u001b[49m\u001b[43m \u001b[49m\u001b[38;5;241;43m10\u001b[39;49m\u001b[43m,\u001b[49m\u001b[43m \u001b[49m\u001b[38;5;241;43m9\u001b[39;49m\u001b[43m)\u001b[49m\u001b[43m)\u001b[49m\n",
      "Input \u001b[0;32mIn [33]\u001b[0m, in \u001b[0;36mHotel.free\u001b[0;34m(self, room_id, date)\u001b[0m\n\u001b[1;32m     12\u001b[0m \u001b[38;5;28;01mdef\u001b[39;00m \u001b[38;5;21mfree\u001b[39m(\u001b[38;5;28mself\u001b[39m, room_id, date):\n\u001b[1;32m     13\u001b[0m     \u001b[38;5;28;01mif\u001b[39;00m date \u001b[38;5;129;01mnot\u001b[39;00m \u001b[38;5;129;01min\u001b[39;00m \u001b[38;5;28mself\u001b[39m\u001b[38;5;241m.\u001b[39mdates[room_id]:\n\u001b[0;32m---> 14\u001b[0m         \u001b[38;5;28;01mraise\u001b[39;00m \u001b[38;5;167;01mRuntimeError\u001b[39;00m(\u001b[38;5;124m\"\u001b[39m\u001b[38;5;124mBad news\u001b[39m\u001b[38;5;124m\"\u001b[39m)\n\u001b[1;32m     15\u001b[0m     \u001b[38;5;28mself\u001b[39m\u001b[38;5;241m.\u001b[39mdates[room_id]\u001b[38;5;241m.\u001b[39mremove(date)\n",
      "\u001b[0;31mRuntimeError\u001b[0m: Bad news"
     ]
    }
   ],
   "source": [
    "h1.free(1, date(2023, 10, 9))"
   ]
  },
  {
   "cell_type": "markdown",
   "metadata": {},
   "source": [
    "# Задание 4\n",
    "Мы, как отель, хотим знать свою выручку на какой-то день. Напишите метод `income(self, date)`. Он должен возвращать количество денег, которое заработает отель в этот день. Представим, что стоимость всех комнат одинакова и равна 200$."
   ]
  },
  {
   "cell_type": "code",
   "execution_count": 40,
   "metadata": {},
   "outputs": [],
   "source": [
    "from datetime import date\n",
    "\n",
    "class Hotel:\n",
    "    def __init__(self, num_of_rooms):\n",
    "        self.dates = [set() for _ in range(num_of_rooms)]\n",
    "        \n",
    "    def occupy(self, room_id, date):\n",
    "        if date in self.dates[room_id]:\n",
    "            raise RuntimeError(\"Bad news\")\n",
    "        self.dates[room_id].add(date)\n",
    "        \n",
    "    def free(self, room_id, date):\n",
    "        if date not in self.dates[room_id]:\n",
    "            raise RuntimeError(\"Bad news\")\n",
    "        self.dates[room_id].remove(date)\n",
    "        \n",
    "    def income(self, date):\n",
    "        total = 0\n",
    "        for room_id in range(len(self.dates)):\n",
    "            if date in self.dates[room_id]:\n",
    "                total += 1\n",
    "        return total * 200"
   ]
  },
  {
   "cell_type": "code",
   "execution_count": 41,
   "metadata": {},
   "outputs": [
    {
     "data": {
      "text/plain": [
       "[set(),\n",
       " {datetime.date(2023, 10, 9), datetime.date(2023, 10, 11)},\n",
       " {datetime.date(2023, 10, 9), datetime.date(2023, 10, 11)},\n",
       " {datetime.date(2023, 10, 9), datetime.date(2023, 10, 11)},\n",
       " set()]"
      ]
     },
     "execution_count": 41,
     "metadata": {},
     "output_type": "execute_result"
    }
   ],
   "source": [
    "h1 = Hotel(5)\n",
    "h1.occupy(1, date(2023, 10, 9))\n",
    "h1.occupy(1, date(2023, 10, 11))\n",
    "h1.occupy(2, date(2023, 10, 9))\n",
    "h1.occupy(2, date(2023, 10, 11))\n",
    "h1.occupy(3, date(2023, 10, 9))\n",
    "h1.occupy(3, date(2023, 10, 11))\n",
    "h1.dates"
   ]
  },
  {
   "cell_type": "code",
   "execution_count": 42,
   "metadata": {},
   "outputs": [
    {
     "data": {
      "text/plain": [
       "600"
      ]
     },
     "execution_count": 42,
     "metadata": {},
     "output_type": "execute_result"
    }
   ],
   "source": [
    "h1.income(date(2023, 10, 11))"
   ]
  },
  {
   "cell_type": "markdown",
   "metadata": {},
   "source": [
    "<hr>\n",
    "\n",
    "P.S. Классы будут нужны для построения нейросетей, например: https://proglib.io/p/pishem-neyroset-na-python-s-nulya-2020-10-07"
   ]
  }
 ],
 "metadata": {
  "kernelspec": {
   "display_name": "Python 3 (ipykernel)",
   "language": "python",
   "name": "python3"
  },
  "language_info": {
   "codemirror_mode": {
    "name": "ipython",
    "version": 3
   },
   "file_extension": ".py",
   "mimetype": "text/x-python",
   "name": "python",
   "nbconvert_exporter": "python",
   "pygments_lexer": "ipython3",
   "version": "3.9.12"
  },
  "toc": {
   "base_numbering": 1,
   "nav_menu": {},
   "number_sections": true,
   "sideBar": true,
   "skip_h1_title": false,
   "title_cell": "Table of Contents",
   "title_sidebar": "Contents",
   "toc_cell": false,
   "toc_position": {},
   "toc_section_display": true,
   "toc_window_display": false
  },
  "varInspector": {
   "cols": {
    "lenName": 16,
    "lenType": 16,
    "lenVar": 40
   },
   "kernels_config": {
    "python": {
     "delete_cmd_postfix": "",
     "delete_cmd_prefix": "del ",
     "library": "var_list.py",
     "varRefreshCmd": "print(var_dic_list())"
    },
    "r": {
     "delete_cmd_postfix": ") ",
     "delete_cmd_prefix": "rm(",
     "library": "var_list.r",
     "varRefreshCmd": "cat(var_dic_list()) "
    }
   },
   "types_to_exclude": [
    "module",
    "function",
    "builtin_function_or_method",
    "instance",
    "_Feature"
   ],
   "window_display": false
  }
 },
 "nbformat": 4,
 "nbformat_minor": 2
}
