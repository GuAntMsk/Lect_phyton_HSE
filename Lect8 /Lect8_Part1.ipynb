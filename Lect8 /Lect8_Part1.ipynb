{
 "cells": [
  {
   "cell_type": "markdown",
   "metadata": {},
   "source": [
    "Центр непрерывного образования\n",
    "\n",
    "# Программа «Python для автоматизации и анализа данных»\n",
    "\n",
    "# Введение в классы в Python\n",
    "\n",
    "*Татьяна Рогович, НИУ ВШЭ*\n"
   ]
  },
  {
   "cell_type": "markdown",
   "metadata": {},
   "source": [
    "## Объектно-Ориентированное Программирование (ООП)\n",
    "\n",
    "Объектно-ориентированное программирование (ООП) является методологией разработки программного обеспечения, в основе которой лежит понятие класса и объекта, при этом сама программа создается как некоторая совокупность объектов, которые взаимодействую друг с другом и с внешним миром. Каждый объект является экземпляром некоторого класса. Классы образуют иерархии. Классы, как и функции, создаются и используются для удобства и упрощения разработки программ. Более подробно о понятии ООП можно прочитать на [википедии](https://ru.wikipedia.org/wiki/%D0%9E%D0%B1%D1%8A%D0%B5%D0%BA%D1%82%D0%BD%D0%BE-%D0%BE%D1%80%D0%B8%D0%B5%D0%BD%D1%82%D0%B8%D1%80%D0%BE%D0%B2%D0%B0%D0%BD%D0%BD%D0%BE%D0%B5_%D0%BF%D1%80%D0%BE%D0%B3%D1%80%D0%B0%D0%BC%D0%BC%D0%B8%D1%80%D0%BE%D0%B2%D0%B0%D0%BD%D0%B8%D0%B5).\n",
    "\n",
    "Выделяют три основных “столпа” ООП - это инкапсуляция, наследование и полиморфизм.\n",
    "\n",
    "### Инкапсуляция\n",
    "\n",
    "Под инкапсуляцией понимается сокрытие деталей реализации, данных и т.п. от внешней стороны. Например, можно определить класс `холодильник`, который будет содержать следующие данные: `производитель`, `объем`, `количество камер хранения`, `потребляемая мощность` и т.п., и методы: `открыть/закрыть холодильник`, `включить/выключить`, но при этом реализация того, как происходит непосредственно включение и выключение пользователю вашего класса не доступна, что позволяет ее менять без опасения, что это может отразиться на использующей класс «холодильник» программе. При этом класс становится новым типом данных в рамках разрабатываемой программы. Можно создавать переменные этого нового типа, такие переменные называются объекты.\n",
    "\n",
    "### Наследование\n",
    "\n",
    "Под наследованием понимается возможность создания нового класса на базе существующего. При этом класс потомок будет содержать те же атрибуты и методы, что и базовый класс, но при этом его можно (и нужно) расширять через добавление новых методов и атрибутов.\n",
    "\n",
    "Примером базового класса, демонстрирующего наследование, можно определить класс `автомобиль`, имеющий атрибуты: масса, мощность двигателя, объем топливного бака и методы: завести и заглушить. У такого класса может быть потомок – `грузовой автомобиль`, он будет содержать те же атрибуты и методы, что и класс `автомобиль`, и дополнительные свойства: количество осей, мощность компрессора и т.п..\n",
    "\n",
    "### Полиморфизм\n",
    "\n",
    "Полиморфизм позволяет одинаково обращаться с объектами, имеющими однотипный интерфейс, независимо от внутренней реализации объекта. Например, с объектом класса `грузовой автомобиль` можно производить те же операции, что и с объектом класса `автомобиль`, т.к. первый является наследником второго, при этом обратное утверждение неверно (во всяком случае не всегда). Другими словами полиморфизм предполагает разную реализацию методов с одинаковыми именами. Это очень полезно при наследовании, когда в классе наследнике можно переопределить методы класса родителя. Простым примером полиморфизма может служить функция `count()`, выполняющая одинаковое действие для различных типов обьектов: `'abc'.count('a')` и `[1, 2, 'a'].count('a')`. Оператор плюс полиморфичен при сложении чисел и при сложении строк."
   ]
  },
  {
   "cell_type": "markdown",
   "metadata": {},
   "source": [
    "## Создание классов в Python\n",
    "\n",
    "Создание класса в Python начинается с инструкции `class`. Вот так будет выглядеть минимальный класс:"
   ]
  },
  {
   "cell_type": "code",
   "execution_count": 1,
   "metadata": {},
   "outputs": [],
   "source": [
    "class Car:\n",
    "   \"\"\"Необязательная строка документации класса\"\"\"  \n",
    "   pass"
   ]
  },
  {
   "cell_type": "code",
   "execution_count": 2,
   "metadata": {},
   "outputs": [],
   "source": [
    "?Car"
   ]
  },
  {
   "cell_type": "code",
   "execution_count": 3,
   "metadata": {},
   "outputs": [
    {
     "data": {
      "text/plain": [
       "<__main__.Car at 0x7f88900345e0>"
      ]
     },
     "execution_count": 3,
     "metadata": {},
     "output_type": "execute_result"
    }
   ],
   "source": [
    "c = Car()\n",
    "c"
   ]
  },
  {
   "cell_type": "code",
   "execution_count": 4,
   "metadata": {},
   "outputs": [
    {
     "data": {
      "text/plain": [
       "__main__.Car"
      ]
     },
     "execution_count": 4,
     "metadata": {},
     "output_type": "execute_result"
    }
   ],
   "source": [
    "type(c)"
   ]
  },
  {
   "cell_type": "markdown",
   "metadata": {},
   "source": [
    "Класс состоит из объявления (инструкция `class`), имени класса (нашем случае это имя `Car`) и тела класса, которое содержит атрибуты и методы (в нашем минимальном классе есть только одна инструкция `pass`). Также хорошим тоном считается описывать, что делает этот класс и его методы сразу после его объявления.\n",
    "\n",
    "Несмотря на пустое тело класса `Car`, на его основе уже можно создать определенный объект, обладающий уникальным идентификатором. Для того чтобы создать объект класса необходимо воспользоваться следующим синтаксисом:"
   ]
  },
  {
   "cell_type": "markdown",
   "metadata": {},
   "source": [
    "Определив новый класс, можно создавать сколько угодно объектов на его основе. Как уже было сказано выше, такая структура данных может включать в себя некие свойства, то есть переменные, которыми будет наделен каждый экземпляр класса.\n",
    "\n",
    "### Статические и динамические атрибуты класса\n",
    "\n",
    "Как уже было сказано выше, класс может содержать `атрибуты` и `методы`. `Атрибут` может быть статическим и динамическим. Суть в том, что для работы со статическим атрибутом, вам не нужно создавать экземпляр класса, а для работы с динамическим – нужно. Например, создадим такой класс `Car`:"
   ]
  },
  {
   "cell_type": "code",
   "execution_count": 24,
   "metadata": {},
   "outputs": [],
   "source": [
    "class Car:\n",
    "    default_color = 'green'\n",
    "    # constructor\n",
    "    def __init__(self, color, brand, doors_num):\n",
    "        if (color == None):\n",
    "            self.color = self.default_color\n",
    "        else:\n",
    "            self.color = color\n",
    "        self.brand = brand\n",
    "        self.doors_num = doors_num"
   ]
  },
  {
   "cell_type": "code",
   "execution_count": 25,
   "metadata": {},
   "outputs": [],
   "source": [
    "?Car"
   ]
  },
  {
   "cell_type": "code",
   "execution_count": 26,
   "metadata": {},
   "outputs": [],
   "source": [
    "Car.default_color = 'EXAMPLE'"
   ]
  },
  {
   "cell_type": "code",
   "execution_count": 32,
   "metadata": {},
   "outputs": [
    {
     "data": {
      "text/plain": [
       "'EXAMPLE'"
      ]
     },
     "execution_count": 32,
     "metadata": {},
     "output_type": "execute_result"
    }
   ],
   "source": [
    "Car.default_color"
   ]
  },
  {
   "cell_type": "code",
   "execution_count": 33,
   "metadata": {},
   "outputs": [
    {
     "ename": "AttributeError",
     "evalue": "type object 'Car' has no attribute 'color'",
     "output_type": "error",
     "traceback": [
      "\u001b[0;31m---------------------------------------------------------------------------\u001b[0m",
      "\u001b[0;31mAttributeError\u001b[0m                            Traceback (most recent call last)",
      "Input \u001b[0;32mIn [33]\u001b[0m, in \u001b[0;36m<cell line: 1>\u001b[0;34m()\u001b[0m\n\u001b[0;32m----> 1\u001b[0m \u001b[43mCar\u001b[49m\u001b[38;5;241;43m.\u001b[39;49m\u001b[43mcolor\u001b[49m\n",
      "\u001b[0;31mAttributeError\u001b[0m: type object 'Car' has no attribute 'color'"
     ]
    }
   ],
   "source": [
    "Car.color"
   ]
  },
  {
   "cell_type": "code",
   "execution_count": 28,
   "metadata": {},
   "outputs": [
    {
     "data": {
      "text/plain": [
       "<__main__.Car at 0x7f88981fffd0>"
      ]
     },
     "execution_count": 28,
     "metadata": {},
     "output_type": "execute_result"
    }
   ],
   "source": [
    "car = Car('white', 'honda', 5)\n",
    "car"
   ]
  },
  {
   "cell_type": "code",
   "execution_count": 29,
   "metadata": {},
   "outputs": [
    {
     "data": {
      "text/plain": [
       "('white', 'honda', 5)"
      ]
     },
     "execution_count": 29,
     "metadata": {},
     "output_type": "execute_result"
    }
   ],
   "source": [
    "car.color, car.brand, car.doors_num"
   ]
  },
  {
   "cell_type": "code",
   "execution_count": 30,
   "metadata": {},
   "outputs": [
    {
     "data": {
      "text/plain": [
       "('black', 'honda', 3)"
      ]
     },
     "execution_count": 30,
     "metadata": {},
     "output_type": "execute_result"
    }
   ],
   "source": [
    "car2 = Car('black', 'honda', 3)\n",
    "car2.color, car2.brand, car2.doors_num"
   ]
  },
  {
   "cell_type": "code",
   "execution_count": 31,
   "metadata": {},
   "outputs": [
    {
     "data": {
      "text/plain": [
       "('EXAMPLE', 'honda', 3)"
      ]
     },
     "execution_count": 31,
     "metadata": {},
     "output_type": "execute_result"
    }
   ],
   "source": [
    "car3 = Car(None, 'honda', 3)\n",
    "car3.color, car3.brand, car3.doors_num"
   ]
  },
  {
   "cell_type": "markdown",
   "metadata": {},
   "source": [
    "В представленном выше классе, атрибут default_color – это статический атрибут, и доступ к нему, как было сказано выше, можно получить не создавая объект класса Car"
   ]
  },
  {
   "cell_type": "markdown",
   "metadata": {},
   "source": [
    "`color`, `brand` и `doors_num` – это динамические атрибуты, при их создании было использовано ключевое слово `self`. Про `self` и конструктор `def __init__` будет рассказано далее. Также обратите внимание на то, что внутри класса мы используем статический атрибут `default_color` для присвоения цвета машины, если мы его явно не задали.\n",
    "\n",
    "`if color == None:\n",
    "    self.color = default_color\n",
    " else:\n",
    "    self.color = color`\n",
    "            \n",
    "Для доступа к `color`, `brand` и `doors_num` предварительно нужно создать объект класса Car:"
   ]
  },
  {
   "cell_type": "markdown",
   "metadata": {},
   "source": [
    "Мы создали объект класса, не задав ему конкретный цвет, поэтому был использован стандартный.\n",
    "\n",
    "Если обратиться через класс, то получим ошибку:"
   ]
  },
  {
   "cell_type": "markdown",
   "metadata": {},
   "source": [
    "Иными словами статический атрибут - это стандартный атрибут класса, который общий для всех объектов этого класса. Давайте присвоим новое значение цвету."
   ]
  },
  {
   "cell_type": "markdown",
   "metadata": {},
   "source": [
    "Создадим два объекта класса `Car` и проверим, что `default_color` у них совпадает:"
   ]
  },
  {
   "cell_type": "code",
   "execution_count": 34,
   "metadata": {},
   "outputs": [],
   "source": [
    "bmw = Car(None, 'bmw', 3)\n",
    "audi = Car(None, 'audi', 5)"
   ]
  },
  {
   "cell_type": "code",
   "execution_count": 36,
   "metadata": {},
   "outputs": [
    {
     "data": {
      "text/plain": [
       "'EXAMPLE'"
      ]
     },
     "execution_count": 36,
     "metadata": {},
     "output_type": "execute_result"
    }
   ],
   "source": [
    "bmw.color"
   ]
  },
  {
   "cell_type": "code",
   "execution_count": 37,
   "metadata": {},
   "outputs": [
    {
     "data": {
      "text/plain": [
       "'EXAMPLE'"
      ]
     },
     "execution_count": 37,
     "metadata": {},
     "output_type": "execute_result"
    }
   ],
   "source": [
    "audi.color"
   ]
  },
  {
   "cell_type": "markdown",
   "metadata": {},
   "source": [
    "Если поменять значение default_color через имя класса `Car`, то все будет ожидаемо: у объектов `bmw` и `audi` это значение изменится, но если поменять его через экземпляр класса, то у экземпляра будет создан атрибут с таким же именем как статический, а доступ к последнему будет потерян:"
   ]
  },
  {
   "cell_type": "code",
   "execution_count": 38,
   "metadata": {},
   "outputs": [],
   "source": [
    "Car.default_color = 'red'"
   ]
  },
  {
   "cell_type": "code",
   "execution_count": 40,
   "metadata": {},
   "outputs": [
    {
     "data": {
      "text/plain": [
       "'red'"
      ]
     },
     "execution_count": 40,
     "metadata": {},
     "output_type": "execute_result"
    }
   ],
   "source": [
    "Car.default_color"
   ]
  },
  {
   "cell_type": "code",
   "execution_count": 41,
   "metadata": {},
   "outputs": [
    {
     "data": {
      "text/plain": [
       "'EXAMPLE'"
      ]
     },
     "execution_count": 41,
     "metadata": {},
     "output_type": "execute_result"
    }
   ],
   "source": [
    "bmw.color"
   ]
  },
  {
   "cell_type": "markdown",
   "metadata": {},
   "source": [
    "А у `audi` и класса все останется по-прежнему:"
   ]
  },
  {
   "cell_type": "markdown",
   "metadata": {},
   "source": [
    "Наш класс можем представить в виде автозавода. Все машины изначально делают в одном цвете `default_color = green` - зеленом. Если мы, покупая машину, хотим перекрасить ее, мы задаем цвет `color` - Car(\"black\",\"BMW\",2). Т.е. мы перекрасим машину в черный цвет, а если его не укажем, то он автоматоматически будет в стандартном зеленом цвете. Через некоторое время завод меняет стандартный цвет, допустим на красный - `Car.default_color = \"red\"` И теперь все машины будут создаваться изначально в красном цвете."
   ]
  },
  {
   "cell_type": "code",
   "execution_count": 42,
   "metadata": {},
   "outputs": [],
   "source": [
    "car1 = Car(None, 'bmw', 3)\n",
    "car1 = Car('White', 'bmw', 3)"
   ]
  },
  {
   "cell_type": "markdown",
   "metadata": {},
   "source": [
    "## Аргумент self\n",
    "\n",
    "Рассмотрим зачем нужен и что означает `self` в функциях Python. Классам нужен способ, что ссылаться на самих себя.  Это способ сообщения между экземплярами. Потому что мы должны взять значении атрибута класса именно своего экземпляра, а не чужого. `Self` таким образом заменяет идентификатор объекта. Помещать его нужно в каждую функцию, чтобы иметь возможность вызвать ее на текущем объекте. Также с помощью этого ключевого слова можно получать доступ к полям класса в описываемом методе. \n",
    "\n",
    "Мы уже обращались с помощью `self` к `default_color` в нашем классе `Car`."
   ]
  },
  {
   "cell_type": "code",
   "execution_count": 43,
   "metadata": {},
   "outputs": [
    {
     "data": {
      "text/plain": [
       "140224645422144"
      ]
     },
     "execution_count": 43,
     "metadata": {},
     "output_type": "execute_result"
    }
   ],
   "source": [
    "id(car1)"
   ]
  },
  {
   "cell_type": "code",
   "execution_count": 45,
   "metadata": {},
   "outputs": [
    {
     "data": {
      "text/plain": [
       "'red'"
      ]
     },
     "execution_count": 45,
     "metadata": {},
     "output_type": "execute_result"
    }
   ],
   "source": [
    "class Car:\n",
    "    default_color = 'green'\n",
    "    # constructor\n",
    "    def __init__(self, color, brand, doors_num):\n",
    "        if (color == None):\n",
    "            self.color = self.default_color\n",
    "        else:\n",
    "            self.color = color\n",
    "        self.brand = brand\n",
    "        self.doors_num = doors_num\n",
    "\n",
    "fiat = Car('red', 'Fiat', 5)\n",
    "fiat.color"
   ]
  },
  {
   "cell_type": "markdown",
   "metadata": {},
   "source": [
    "Если бы в качестве первого параметра не было указано `self`, то при попытке создать класс, вылезла ошибка:"
   ]
  },
  {
   "cell_type": "code",
   "execution_count": 46,
   "metadata": {},
   "outputs": [
    {
     "ename": "TypeError",
     "evalue": "__init__() takes 3 positional arguments but 4 were given",
     "output_type": "error",
     "traceback": [
      "\u001b[0;31m---------------------------------------------------------------------------\u001b[0m",
      "\u001b[0;31mTypeError\u001b[0m                                 Traceback (most recent call last)",
      "Input \u001b[0;32mIn [46]\u001b[0m, in \u001b[0;36m<cell line: 12>\u001b[0;34m()\u001b[0m\n\u001b[1;32m      9\u001b[0m         \u001b[38;5;28mself\u001b[39m\u001b[38;5;241m.\u001b[39mbrand \u001b[38;5;241m=\u001b[39m brand\n\u001b[1;32m     10\u001b[0m         \u001b[38;5;28mself\u001b[39m\u001b[38;5;241m.\u001b[39mdoors_num \u001b[38;5;241m=\u001b[39m doors_num\n\u001b[0;32m---> 12\u001b[0m fiat \u001b[38;5;241m=\u001b[39m \u001b[43mCar\u001b[49m\u001b[43m(\u001b[49m\u001b[38;5;124;43m'\u001b[39;49m\u001b[38;5;124;43mred\u001b[39;49m\u001b[38;5;124;43m'\u001b[39;49m\u001b[43m,\u001b[49m\u001b[43m \u001b[49m\u001b[38;5;124;43m'\u001b[39;49m\u001b[38;5;124;43mFiat\u001b[39;49m\u001b[38;5;124;43m'\u001b[39;49m\u001b[43m,\u001b[49m\u001b[43m \u001b[49m\u001b[38;5;241;43m5\u001b[39;49m\u001b[43m)\u001b[49m\n\u001b[1;32m     13\u001b[0m fiat\u001b[38;5;241m.\u001b[39mcolor\n",
      "\u001b[0;31mTypeError\u001b[0m: __init__() takes 3 positional arguments but 4 were given"
     ]
    }
   ],
   "source": [
    "class Car:\n",
    "    default_color = 'green'\n",
    "    # constructor\n",
    "    def __init__(color, brand, doors_num):\n",
    "        if (color == None):\n",
    "            self.color = self.default_color\n",
    "        else:\n",
    "            self.color = color\n",
    "        self.brand = brand\n",
    "        self.doors_num = doors_num\n",
    "\n",
    "fiat = Car('red', 'Fiat', 5)\n",
    "fiat.color"
   ]
  },
  {
   "cell_type": "markdown",
   "metadata": {},
   "source": [
    "Класс не знает, к переменной какого экземпляра класса он обращается, а `self` говорит ему обратиться к тому экземпляру, в котором он вызывается\\создается."
   ]
  },
  {
   "cell_type": "markdown",
   "metadata": {},
   "source": [
    "## Конструктор класса\n",
    "\n",
    "Обычно при создании класса нам хочется его сразу инициализровать некоторыми данными. Например, когда мы создадем список `a = []`, мы можем сразу передать в него некоторые значения - `a = [1,2,3,4,5]`. Точно также можно сделать с нашими самописными классами. Для этой цели в ООП используется конструктор, принимающий необходимые параметры. До этого мы уже создавали его в нашем классе:"
   ]
  },
  {
   "cell_type": "code",
   "execution_count": 53,
   "metadata": {},
   "outputs": [
    {
     "data": {
      "text/plain": [
       "'red'"
      ]
     },
     "execution_count": 53,
     "metadata": {},
     "output_type": "execute_result"
    }
   ],
   "source": [
    "class Car:\n",
    "    default_color = 'green'\n",
    "    # constructor Car\n",
    "    def __init__(self, color, brand, doors_num):\n",
    "        if (color == None):\n",
    "            self.color = self.default_color\n",
    "        else:\n",
    "            self.color = color\n",
    "        self.brand = brand\n",
    "        self.doors_num = doors_num\n",
    "\n",
    "fiat = Car('red', 'Fiat', 5)\n",
    "fiat.color"
   ]
  },
  {
   "cell_type": "code",
   "execution_count": 54,
   "metadata": {},
   "outputs": [],
   "source": [
    "Car.__init__(fiat, 'white', 'ford', 5)"
   ]
  },
  {
   "cell_type": "code",
   "execution_count": 55,
   "metadata": {},
   "outputs": [
    {
     "data": {
      "text/plain": [
       "'white'"
      ]
     },
     "execution_count": 55,
     "metadata": {},
     "output_type": "execute_result"
    }
   ],
   "source": [
    "fiat.color"
   ]
  },
  {
   "cell_type": "markdown",
   "metadata": {},
   "source": [
    "Внешне конструктор похож на обычный метод, однако вызвать его явным образом нельзя. Вместо этого он автоматически срабатывает каждый раз, когда программа создает новый объект для класса, в котором он расположен. Имя у каждого конструктора задается в виде идентификатора `__init__`. Получаемые им параметры можно присвоить полям будущего объекта, воспользовавшись ключевым словом `self`, как в вышеописанном примере.\n",
    "\n",
    "Таким образом, класс `Car` содержит три поля: `color` (цвет), `brand` (марка) и `doors_num` (количество дверей). Конструктор принимает параметры для изменения этих свойств во время инициализации нового объекта под названием `ford`. Каждый класс содержит в себе по крайней мере один конструктор по умолчанию, если ни одного из них не было задано явно (т.е. если мы не создадим конструктор в нашем классе, то будет использован пустой конструктор по умолчанию и класс все равно будет работать). "
   ]
  },
  {
   "cell_type": "markdown",
   "metadata": {},
   "source": [
    "### Методы класса\n",
    "\n",
    "Добавим к нашему классу методы. Метод – это функция, находящаяся внутри класса и выполняющая определенную работу.\n",
    "\n",
    "Методы бывают статическими, классовыми и уровня экземпляра класса (будем их называть обычными меотдами). Статический метод создается с декоратором `@staticmethod`, классовый – с декоратором `@classmethod`, первым аргументом в него передается `cls` (ссылка на вызываемый класс), обычный метод создается без специального декоратора, ему первым аргументом передается `self`. Подробнее про сами декораторы, можно почитать [здесь](https://pythonworld.ru/osnovy/dekoratory.html)."
   ]
  },
  {
   "cell_type": "code",
   "execution_count": 72,
   "metadata": {},
   "outputs": [
    {
     "data": {
      "text/plain": [
       "'red'"
      ]
     },
     "execution_count": 72,
     "metadata": {},
     "output_type": "execute_result"
    }
   ],
   "source": [
    "class Car:\n",
    "    default_color = 'green'\n",
    "    # constructor Car\n",
    "    def __init__(self, color, brand, doors_num):\n",
    "        if (color == None):\n",
    "            self.color = self.default_color\n",
    "        else:\n",
    "            self.color = color\n",
    "        self.brand = brand\n",
    "        self.doors_num = doors_num\n",
    "    \n",
    "    @staticmethod\n",
    "    def ex_static_metchod():\n",
    "        print('from ex_static_metchod()')\n",
    "        \n",
    "    @classmethod\n",
    "    def ex_class_metchod(cls):\n",
    "        print('from ex_class_metchod()')\n",
    "    \n",
    "    def beep(self):\n",
    "        print(f'{self.brand} {self.color} -- beep')\n",
    "\n",
    "fiat = Car('red', 'Fiat', 5)\n",
    "fiat.color"
   ]
  },
  {
   "cell_type": "code",
   "execution_count": 73,
   "metadata": {},
   "outputs": [
    {
     "name": "stdout",
     "output_type": "stream",
     "text": [
      "Fiat red -- beep\n"
     ]
    }
   ],
   "source": [
    "fiat.beep()"
   ]
  },
  {
   "cell_type": "code",
   "execution_count": 74,
   "metadata": {},
   "outputs": [
    {
     "name": "stdout",
     "output_type": "stream",
     "text": [
      "from ex_static_metchod()\n"
     ]
    }
   ],
   "source": [
    "Car.ex_static_metchod()"
   ]
  },
  {
   "cell_type": "code",
   "execution_count": 75,
   "metadata": {},
   "outputs": [
    {
     "name": "stdout",
     "output_type": "stream",
     "text": [
      "from ex_static_metchod()\n"
     ]
    }
   ],
   "source": [
    "fiat.ex_static_metchod()"
   ]
  },
  {
   "cell_type": "code",
   "execution_count": 76,
   "metadata": {},
   "outputs": [
    {
     "name": "stdout",
     "output_type": "stream",
     "text": [
      "from ex_class_metchod()\n"
     ]
    }
   ],
   "source": [
    "Car.ex_class_metchod()"
   ]
  },
  {
   "cell_type": "code",
   "execution_count": 77,
   "metadata": {},
   "outputs": [
    {
     "name": "stdout",
     "output_type": "stream",
     "text": [
      "from ex_class_metchod()\n"
     ]
    }
   ],
   "source": [
    "fiat.ex_class_metchod()"
   ]
  },
  {
   "cell_type": "markdown",
   "metadata": {},
   "source": [
    "Статический и классовый метод можно вызвать, не создавая экземпляр класса, для вызова ex_method() нужен объект:"
   ]
  },
  {
   "cell_type": "markdown",
   "metadata": {},
   "source": [
    "**Статическим методам** не нужен определённый первый аргумент (ни self, ни cls). Их можно воспринимать как методы, которые `не знают, к какому классу относятся`.\n",
    "\n",
    "Таким образом, статические методы прикреплены к классу лишь для удобства и не могут менять состояние ни класса, ни его экземпляра. То есть статические методы не могут получить доступ к параметрам класса или объекта. Они работают только с теми данными, которые им передаются в качестве аргументов."
   ]
  },
  {
   "cell_type": "markdown",
   "metadata": {},
   "source": [
    "**Классовые методы** принимают класс в качестве параметра, который принято обозначать как `cls`. В данном случае он указывает на класс `Car`, а не на объект этого класса.\n",
    "\n",
    "Методы класса привязаны к самому классу, а не его экземпляру. Они могут менять состояние класса, что отразится на всех объектах этого класса, но не могут менять конкретный объект.\n",
    "\n",
    "Встроенный пример метода класса — `dict.fromkeys()` — возвращает новый словарь с переданными элементами в качестве ключей."
   ]
  },
  {
   "cell_type": "code",
   "execution_count": 78,
   "metadata": {
    "scrolled": true
   },
   "outputs": [
    {
     "data": {
      "text/plain": [
       "{'A': None, 'E': None, 'I': None, 'O': None, 'U': None}"
      ]
     },
     "execution_count": 78,
     "metadata": {},
     "output_type": "execute_result"
    }
   ],
   "source": [
    "dict.fromkeys('AEIOU')"
   ]
  },
  {
   "cell_type": "code",
   "execution_count": 82,
   "metadata": {},
   "outputs": [],
   "source": [
    "?dict.fromkeys"
   ]
  },
  {
   "cell_type": "markdown",
   "metadata": {},
   "source": [
    "**Метод экземпляра класса** это наиболее часто используемый вид методов. Методы экземпляра класса принимают объект класса как первый аргумент, который принято называть `self` и который указывает на сам экземпляр. Количество параметров метода не ограничено.\n",
    "\n",
    "Используя параметр `self`, мы можем менять состояние объекта и обращаться к другим его методам и параметрам. К тому же, используя атрибут `self.__class__`, мы получаем доступ к атрибутам класса и возможности менять состояние самого класса. То есть методы экземпляров класса позволяют менять как состояние определённого объекта, так и класса.\n",
    "\n",
    "Встроенный пример метода экземпляра — `str.upper()`:"
   ]
  },
  {
   "cell_type": "code",
   "execution_count": 83,
   "metadata": {},
   "outputs": [],
   "source": [
    "?str.upper"
   ]
  },
  {
   "cell_type": "markdown",
   "metadata": {},
   "source": [
    "Реализовать класс Pupil, представляющий из себя ученика с оценками. Класс должен содержать, как минимум, следующие элементы:\n",
    "Поля:\n",
    "●     String name – имя ученика;\n",
    "●     marks – оценки ученика (каждый массив представляет из себя набор оценок за одну четверть).\n",
    "Методы:\n",
    "●     double getMark(int quarter) – возвращает среднюю оценку ученика за четверть;\n",
    "●     double getMark() – возвращает среднюю оценку ученика за все время (считается как среднее арифметическое между четырьмя оценками - оценками за 1, 2, 3 и 4 четверти, соответственно);\n",
    "●     String getInfo() – возвращает строку с информацией об ученике (разрешается переопределить ToString() вместо этого метода);\n",
    " \n",
    "Необходимо прочитать входные данные, на их основе сформировать объект класса Pupil. Затем используя методы getMark(i) и getMark() вывести средние оценки ученика в формате:\n",
    "I: {оценка за 1 четверть}\n",
    "II: {оценка за 2 четверть}\n",
    "III: {оценка за 3 четверть}\n",
    "IV: {оценка за 4 четверть}\n",
    "Total for {name}: {среднее арифметическое между оценками выше}\n",
    " \n",
    "Гарантируется, что у каждого ученика есть, как минимум, одна оценка в каждой четверти. Количество оценок в каждой четверти может отличаться. Дробную часть числа округлять до 1 знака после запятой.\n",
    "Формат ввода\n",
    "На первой строке - имя ученика.\n",
    "На следующих четырех строках: цифры от 1 до 5, разделенные одним пробелом.\n",
    "Формат вывода\n",
    "Для каждого ученика выведите информацию по шаблону из условия.\n",
    "\n",
    "Для примера:\n",
    "Ввод\tРезультат\n",
    "Vasya\n",
    "\n",
    "5 4 5 4\n",
    "\n",
    "5 5 4 3 3\n",
    "\n",
    "3 3 3 5 5 5\n",
    "\n",
    "4 4\n",
    "\n",
    "I: 4,5\n",
    "\n",
    "II: 4,0\n",
    "\n",
    "III: 4,0\n",
    "\n",
    "IV: 4,0\n",
    "\n",
    "Total for Vasya: 4,1\n"
   ]
  },
  {
   "cell_type": "code",
   "execution_count": 107,
   "metadata": {},
   "outputs": [],
   "source": [
    "class Pupil:\n",
    "    \n",
    "    def __init__(self, name, marks):\n",
    "        \"\"\"name - Pupil's name, marks - the list of marks in every quarters\"\"\"\n",
    "        self.name = name\n",
    "        self.marks = marks\n",
    "        \n",
    "    def getMark(self, quarter):\n",
    "        # marks = [[1, 2, 5], [3], [5, 6, 3], [1, 2]]\n",
    "        \"\"\"returns average mark value in quarter\"\"\"\n",
    "        return sum(marks[quarter - 1])/len(marks[quarter - 1])\n",
    "    \n",
    "    def getMarks(self):\n",
    "        average = (self.getMark(1) + self.getMark(2) + self.getMark(3) + self.getMark(4)) / 4\n",
    "        return average\n",
    "    \n",
    "    def getInfo(self):\n",
    "        return f'''I : {self.getMark(1)}\n",
    "            II: {self.getMark(2)}\n",
    "            III: {self.getMark(3)}\n",
    "            IV: {self.getMark(4)}\n",
    "            Total for {self.name}: {self.getMarks()}'''"
   ]
  },
  {
   "cell_type": "code",
   "execution_count": 108,
   "metadata": {},
   "outputs": [],
   "source": [
    "name = 'Vasya'\n",
    "marks = [[5, 4, 5, 4], [5, 5, 4, 3, 3], [3, 3, 3, 5, 5, 5], [4, 4]]"
   ]
  },
  {
   "cell_type": "code",
   "execution_count": 109,
   "metadata": {},
   "outputs": [],
   "source": [
    "pupil = Pupil(name, marks)"
   ]
  },
  {
   "cell_type": "code",
   "execution_count": 110,
   "metadata": {},
   "outputs": [
    {
     "name": "stdout",
     "output_type": "stream",
     "text": [
      "I : 4.5\n",
      "            II: 4.0\n",
      "            III: 4.0\n",
      "            IV: 4.0\n",
      "            Total for Vasya: 4.125\n"
     ]
    }
   ],
   "source": [
    "print(pupil.getInfo())"
   ]
  },
  {
   "cell_type": "code",
   "execution_count": 111,
   "metadata": {},
   "outputs": [
    {
     "name": "stdout",
     "output_type": "stream",
     "text": [
      "I : 4.0\n",
      "            II: 3.4\n",
      "            III: 4.333333333333333\n",
      "            IV: 3.6666666666666665\n",
      "            Total for Anya: 3.85\n"
     ]
    }
   ],
   "source": [
    "name = 'Anya'\n",
    "marks = [[5, 2, 5, 4], [5, 2, 4, 3, 3], [3, 5, 3, 5, 5, 5], [3, 4, 4]]\n",
    "pupil = Pupil(name, marks)\n",
    "print(pupil.getInfo())"
   ]
  },
  {
   "cell_type": "code",
   "execution_count": 113,
   "metadata": {},
   "outputs": [
    {
     "name": "stdout",
     "output_type": "stream",
     "text": [
      "3.4\n"
     ]
    }
   ],
   "source": [
    "print(pupil.getMark(2))"
   ]
  },
  {
   "cell_type": "markdown",
   "metadata": {},
   "source": [
    "### Когда какой тип метод применять\n",
    "\n",
    "Давайте рассмотрим более натуральный пример и выясним, в чем разница между методами."
   ]
  },
  {
   "cell_type": "code",
   "execution_count": 126,
   "metadata": {},
   "outputs": [],
   "source": [
    "from datetime import date\n",
    "\n",
    "class Car:\n",
    "    def __init__(self, brand, age):\n",
    "        self.brand = brand\n",
    "        self.age = age\n",
    "    \n",
    "    @classmethod\n",
    "    def from_production_year(cls, brand, prod_year):\n",
    "        return cls(brand, date.today().year - prod_year)\n",
    "    \n",
    "    @staticmethod\n",
    "    def is_warranty_active(age):\n",
    "        return age < 3\n",
    "    \n",
    "    def info(self):\n",
    "        print('Car: ' + self.brand)\n",
    "        print('Age: ' + str(self.age))\n",
    "        if self.is_warranty_active(self.age):\n",
    "            print('warranty is active')\n",
    "        else:\n",
    "            print('warranty is NOT active')\n",
    "\n",
    "car1 = Car('Fiat', 5)\n",
    "car2 = Car.from_production_year('Fiat', 5)"
   ]
  },
  {
   "cell_type": "code",
   "execution_count": 127,
   "metadata": {},
   "outputs": [
    {
     "data": {
      "text/plain": [
       "(2018, 'Fiat')"
      ]
     },
     "execution_count": 127,
     "metadata": {},
     "output_type": "execute_result"
    }
   ],
   "source": [
    "car2.age, car2.brand"
   ]
  },
  {
   "cell_type": "code",
   "execution_count": 128,
   "metadata": {},
   "outputs": [
    {
     "data": {
      "text/plain": [
       "False"
      ]
     },
     "execution_count": 128,
     "metadata": {},
     "output_type": "execute_result"
    }
   ],
   "source": [
    "Car.is_warranty_active(10)"
   ]
  },
  {
   "cell_type": "code",
   "execution_count": 129,
   "metadata": {},
   "outputs": [
    {
     "data": {
      "text/plain": [
       "True"
      ]
     },
     "execution_count": 129,
     "metadata": {},
     "output_type": "execute_result"
    }
   ],
   "source": [
    "Car.is_warranty_active(2)"
   ]
  },
  {
   "cell_type": "code",
   "execution_count": 130,
   "metadata": {},
   "outputs": [
    {
     "name": "stdout",
     "output_type": "stream",
     "text": [
      "Car: Fiat\n",
      "Age: 2018\n",
      "warranty is NOT active\n"
     ]
    }
   ],
   "source": [
    "car2.info()"
   ]
  },
  {
   "cell_type": "markdown",
   "metadata": {},
   "source": [
    "Метод класса - `from_production_year` возвращает нам СОЗДАННЫЙ внутри функции экземпляр класса `Car` с вычисленным возрастом. Т.к. мы не можем внутри класса `Car` вызвать класс `Car`, мы и используем `cls`.\n",
    "\n",
    "Статический метод - `is_warranty_active` выясняет действительна ли еще гарантия. Как вы видете, он не обращается к возрасту машины в классе, а принимает ее в качестве аргумента - `age`.\n",
    "\n",
    "Метод экземпляра класса - `info`, через `self` обращается к своим атрибутам, вызывает статическую функцию, передвая туда возраст машины.\n",
    "\n",
    "\n",
    "Выбор того, какой из методов использовать, может показаться достаточно сложным. Тем не менее с опытом этот выбор делать гораздо проще. Чаще всего **метод класса** используется тогда, когда нужен генерирующий метод, возвращающий объект класса. Как видим, метод класса `from_production_year` используется для создания объекта класса `Car` по году производства машины, а не по указанному возрасту. \n",
    "\n",
    "Статические методы в основном используются как вспомогательные функции и работают с данными, которые им передаются.\n",
    "\n",
    "Итак:\n",
    "- Методы экземпляра класса получают доступ к объекту класса через параметр `self` и к классу через `self.__class__`.\n",
    "- Методы класса не могут получить доступ к определённому объекту класса, но имеют доступ к самому классу через `cls`.\n",
    "- Статические методы работают как обычные функции, но принадлежат области имён класса. Они не имеют доступа ни к самому классу, ни к его экземплярам."
   ]
  },
  {
   "cell_type": "markdown",
   "metadata": {},
   "source": [
    "## Деструктор\n",
    "\n",
    "Работа с деструктором, как правило, является прерогативой языков, предоставляющих более широкие возможности для управления памятью. Несмотря на грамотную работу сборщика мусора, обеспечивающего своевременное удаление ненужных объектов, вызов деструктора все еще остается доступным. Переопределить его можно в классе, задав имя `__del__`."
   ]
  },
  {
   "cell_type": "code",
   "execution_count": 133,
   "metadata": {},
   "outputs": [
    {
     "name": "stdout",
     "output_type": "stream",
     "text": [
      "The object is destriyed\n",
      "The object is destriyed\n"
     ]
    }
   ],
   "source": [
    "class Data:\n",
    "    def __del__(self):\n",
    "        print('The object is destriyed')\n",
    "data = Data()\n",
    "data.__del__()"
   ]
  },
  {
   "cell_type": "markdown",
   "metadata": {},
   "source": [
    "Как и конструктор, деструктор может содержать некий пользовательский код, сообщающий об успешном завершении работы метода. В данном примере создается экземпляр класса `Data` и вызывается его деструктор, принимающий в качестве параметра сам объект."
   ]
  },
  {
   "cell_type": "markdown",
   "metadata": {},
   "source": [
    "## Уровни доступа атрибута и метода (Инкапсуляция)\n",
    "\n",
    "В языках программирования Java, C#, C++ можно явно указать для переменной, что доступ к ней снаружи класса запрещен, это делается с помощью ключевых слов (private, protected и т.д.). В Python таких возможностей нет, и любой может обратиться к атрибутам и методам вашего класса, если возникнет такая необходимость. Это существенный недостаток этого языка, т.к. нарушается один из ключевых принципов ООП – инкапсуляция. Хорошим тоном считается, что для чтения/изменения какого-то атрибута должны использоваться специальные методы, которые называются `getter/setter`, их можно реализовать, но ничего не помешает изменить атрибут напрямую. При этом есть соглашение, что метод или атрибут, который начинается с `нижнего подчеркивания`, является скрытым, и снаружи класса трогать его не нужно (хотя сделать это можно).\n",
    "\n",
    "Внесем соответствующие изменения в класс Car:"
   ]
  },
  {
   "cell_type": "code",
   "execution_count": 138,
   "metadata": {},
   "outputs": [],
   "source": [
    "class Car:\n",
    "    def __init__(self, brand, doors_num):\n",
    "        self._brand = brand\n",
    "        self._doors_num = doors_num\n",
    "    \n",
    "    def get_brand(self):\n",
    "        return self._brand\n",
    "        \n",
    "    def get_doors_num(self):\n",
    "        return self._doors_num  \n",
    "    \n",
    "    def set_brand(self, brand):\n",
    "        self._brand = brand\n",
    "        \n",
    "    def set_doors_num(self, doors_num):\n",
    "        self._doors_num = doors_num\n",
    "        \n",
    "    def info(self):\n",
    "        return f'Car {_brand} with {_doors_num} doors.'"
   ]
  },
  {
   "cell_type": "markdown",
   "metadata": {},
   "source": [
    "В приведенном примере для доступа к `_brand` и` _doors_num` используются специальные методы, но ничего не мешает вам обратиться к ним (атрибутам) напрямую."
   ]
  },
  {
   "cell_type": "code",
   "execution_count": 139,
   "metadata": {
    "scrolled": true
   },
   "outputs": [
    {
     "data": {
      "text/plain": [
       "'audi'"
      ]
     },
     "execution_count": 139,
     "metadata": {},
     "output_type": "execute_result"
    }
   ],
   "source": [
    "car = Car('audi', 6)\n",
    "car.get_brand()"
   ]
  },
  {
   "cell_type": "markdown",
   "metadata": {},
   "source": [
    "Если же атрибут или метод начинается с двух подчеркиваний, то тут напрямую вы к нему уже не обратитесь (простым образом). Модифицируем наш класс `Car`:"
   ]
  },
  {
   "cell_type": "code",
   "execution_count": 140,
   "metadata": {},
   "outputs": [
    {
     "data": {
      "text/plain": [
       "'audi'"
      ]
     },
     "execution_count": 140,
     "metadata": {},
     "output_type": "execute_result"
    }
   ],
   "source": [
    "car._brand"
   ]
  },
  {
   "cell_type": "code",
   "execution_count": 141,
   "metadata": {},
   "outputs": [],
   "source": [
    "class Car:\n",
    "    def __init__(self, brand, doors_num):\n",
    "        self.__brand = brand\n",
    "        self.__doors_num = doors_num\n",
    "    \n",
    "    def get_brand(self):\n",
    "        return self.__brand\n",
    "        \n",
    "    def get_doors_num(self):\n",
    "        return self.__doors_num  \n",
    "    \n",
    "    def set_brand(self, brand):\n",
    "        self._brand = brand\n",
    "        \n",
    "    def set_doors_num(self, doors_num):\n",
    "        self.__doors_num = doors_num\n",
    "        \n",
    "    def info(self):\n",
    "        return f'Car {__brand} with {__doors_num} doors.'"
   ]
  },
  {
   "cell_type": "code",
   "execution_count": 142,
   "metadata": {},
   "outputs": [
    {
     "data": {
      "text/plain": [
       "'audi'"
      ]
     },
     "execution_count": 142,
     "metadata": {},
     "output_type": "execute_result"
    }
   ],
   "source": [
    "car = Car('audi', 6)\n",
    "car.get_brand()"
   ]
  },
  {
   "cell_type": "code",
   "execution_count": 143,
   "metadata": {},
   "outputs": [
    {
     "ename": "AttributeError",
     "evalue": "'Car' object has no attribute '__brand'",
     "output_type": "error",
     "traceback": [
      "\u001b[0;31m---------------------------------------------------------------------------\u001b[0m",
      "\u001b[0;31mAttributeError\u001b[0m                            Traceback (most recent call last)",
      "Input \u001b[0;32mIn [143]\u001b[0m, in \u001b[0;36m<cell line: 1>\u001b[0;34m()\u001b[0m\n\u001b[0;32m----> 1\u001b[0m \u001b[43mcar\u001b[49m\u001b[38;5;241;43m.\u001b[39;49m\u001b[43m__brand\u001b[49m\n",
      "\u001b[0;31mAttributeError\u001b[0m: 'Car' object has no attribute '__brand'"
     ]
    }
   ],
   "source": [
    "car.__brand"
   ]
  },
  {
   "cell_type": "code",
   "execution_count": 144,
   "metadata": {},
   "outputs": [
    {
     "data": {
      "text/plain": [
       "'audi'"
      ]
     },
     "execution_count": 144,
     "metadata": {},
     "output_type": "execute_result"
    }
   ],
   "source": [
    "car._Car__brand"
   ]
  },
  {
   "cell_type": "markdown",
   "metadata": {},
   "source": [
    "## Наследование\n",
    "\n",
    "Возможность одному классу выступать в качестве наследника для другого, перенимая тем самым его свойства и методы, является важной особенностью ООП. Благодаря этой важной особенности пропадает необходимость переписывания кода для подобных или родственных по назначению классов.\n",
    "\n",
    "При наследовании классов в Python обязательно следует соблюдать одно условие: `класс-наследник` должен представлять собой более частный случай `класса-родителя`. В следующем примере показывается как класс `Car` наследуется классом `Truck`. При описании подкласса в Python, имя родительского класса записывается в круглых скобках."
   ]
  },
  {
   "cell_type": "code",
   "execution_count": 150,
   "metadata": {},
   "outputs": [],
   "source": [
    "class Car:\n",
    "    def __init__(self, brand, doors_num):\n",
    "        self.__brand = brand\n",
    "        self.__doors_num = doors_num\n",
    "    \n",
    "    def get_brand(self):\n",
    "        return self.__brand\n",
    "        \n",
    "    def get_doors_num(self):\n",
    "        return self.__doors_num  \n",
    "    \n",
    "    def set_brand(self, brand):\n",
    "        self._brand = brand\n",
    "        \n",
    "    def set_doors_num(self, doors_num):\n",
    "        self.__doors_num = doors_num\n",
    "        \n",
    "    def info(self):\n",
    "        return f'Car {self.__brand} with {self.__doors_num} doors.'"
   ]
  },
  {
   "cell_type": "code",
   "execution_count": 151,
   "metadata": {},
   "outputs": [],
   "source": [
    "class Truck(Car):\n",
    "    def __init__(self, brand, doors_num, load_weight, axes):\n",
    "        super().__init__(brand, doors_num)\n",
    "        self.__load_weight = load_weight\n",
    "        self.__axes = axes\n",
    "    \n",
    "    def get_load(self):\n",
    "        return self.__load_weight\n",
    "    \n",
    "    def set_load(self, load_weight):\n",
    "        self.__load_weight = load_weight\n",
    "        \n",
    "    def get_axes(self):\n",
    "        return self.__axes\n",
    "    \n",
    "    def set_axes(self, axes):\n",
    "        self.__axes = axes    "
   ]
  },
  {
   "cell_type": "markdown",
   "metadata": {},
   "source": [
    "Родительским классом является `Car`, который при инициализации принимает бренд машины и количество дверей и предоставляет его через свойства. `Truck` – класс наследник от `Car`. Обратите внимание на его метод `__init__`: в нем первым делом вызывается конструктор его родительского класса: `super().__init__(brand, doors_num)`\n",
    "\n",
    "`super` – это ключевое слово, которое используется для обращения к родительскому классу. Теперь у объекта класса `Truck` помимо уже знакомых свойств `brand` и `doors_num` появились свойства `load_weight` и `axes`:"
   ]
  },
  {
   "cell_type": "code",
   "execution_count": 152,
   "metadata": {},
   "outputs": [],
   "source": [
    "truck = Truck('Kamaz', 2, 13000, 6)"
   ]
  },
  {
   "cell_type": "markdown",
   "metadata": {},
   "source": [
    "И смотрите, методы из родительского класса работают!"
   ]
  },
  {
   "cell_type": "code",
   "execution_count": 153,
   "metadata": {},
   "outputs": [
    {
     "data": {
      "text/plain": [
       "13000"
      ]
     },
     "execution_count": 153,
     "metadata": {},
     "output_type": "execute_result"
    }
   ],
   "source": [
    "truck.get_load()"
   ]
  },
  {
   "cell_type": "code",
   "execution_count": 154,
   "metadata": {},
   "outputs": [
    {
     "data": {
      "text/plain": [
       "'Car Kamaz with 2 doors.'"
      ]
     },
     "execution_count": 154,
     "metadata": {},
     "output_type": "execute_result"
    }
   ],
   "source": [
    "truck.info()"
   ]
  },
  {
   "cell_type": "code",
   "execution_count": 155,
   "metadata": {},
   "outputs": [
    {
     "data": {
      "text/plain": [
       "'Kamaz'"
      ]
     },
     "execution_count": 155,
     "metadata": {},
     "output_type": "execute_result"
    }
   ],
   "source": [
    "truck.get_brand()"
   ]
  },
  {
   "cell_type": "markdown",
   "metadata": {},
   "source": [
    "### Множественное наследование\n",
    "\n",
    "Наследовать можно не только один класс, но и несколько одновременно, обретая тем самым их свойства и методы. В данном примере класс `Dog` выступает в роли подкласса для `Animal` и `Pet` , поскольку может являться и тем, и другим. От `Animal Dog` получает способность спать (метод `sleep`), в то время как `Pet` дает возможность играть с хозяином (метод `play`). В свою очередь, оба родительских класса унаследовали поле `name` от `Creature`. Класс `Dog` также получил это свойство и может его использовать. Так как мы не используем конструкторы в наследованных классах, то и вызывать через `super()` ничего не надо. Конструктор родительского класса, вызовется автоматически."
   ]
  },
  {
   "cell_type": "code",
   "execution_count": 156,
   "metadata": {},
   "outputs": [],
   "source": [
    "class Creature:\n",
    "    def __init__(self, name):\n",
    "        self.name = name\n",
    "\n",
    "class Animal(Creature):\n",
    "    def sleep(self):\n",
    "        print(self.name + ' is sleeping')\n",
    "        \n",
    "class Pet(Creature):\n",
    "    def play(self):\n",
    "        print(self.name + ' is playing')\n",
    "        \n",
    "class Dog(Animal, Pet):\n",
    "    def bark(self):\n",
    "        print(self.name + ' is barking')"
   ]
  },
  {
   "cell_type": "code",
   "execution_count": 157,
   "metadata": {},
   "outputs": [
    {
     "name": "stdout",
     "output_type": "stream",
     "text": [
      "Buddy is sleeping\n",
      "Buddy is playing\n",
      "Buddy is barking\n"
     ]
    }
   ],
   "source": [
    "dog = Dog('Buddy')\n",
    "dog.sleep()\n",
    "dog.play()\n",
    "dog.bark()"
   ]
  },
  {
   "cell_type": "markdown",
   "metadata": {},
   "source": [
    "В вышеописанном примере создается объект класса `Dog`, получающий имя в конструкторе. Затем по очереди выполняются методы `sleep`, `play` и `bark`, двое из которых были унаследованы. Способность лаять является уникальной особенностью собаки, поскольку не каждое животное или домашний питомец умеет это делать."
   ]
  },
  {
   "cell_type": "markdown",
   "metadata": {},
   "source": [
    "## Полиморфизм\n",
    "\n",
    "Как уже было сказано во введении в рамках ООП полиморфизм, как правило, используется с позиции переопределения методов базового класса в классе наследнике. Проще всего это рассмотреть на примере. В нашем базовом класс `Car` есть метод `info()`, который печатает сводную информацию по объекту класса `Car` и переопределим этот метод в классе `Truck`, добавим  в него дополнительные данные:"
   ]
  },
  {
   "cell_type": "code",
   "execution_count": 158,
   "metadata": {},
   "outputs": [],
   "source": [
    "class Car:\n",
    "    def __init__(self, brand, doors_num):\n",
    "        self.__brand = brand\n",
    "        self.__doors_num = doors_num\n",
    "    \n",
    "    def get_brand(self):\n",
    "        return self.__brand\n",
    "        \n",
    "    def get_doors_num(self):\n",
    "        return self.__doors_num  \n",
    "    \n",
    "    def set_brand(self, brand):\n",
    "        self._brand = brand\n",
    "        \n",
    "    def set_doors_num(self, doors_num):\n",
    "        self.__doors_num = doors_num\n",
    "        \n",
    "    def info(self):\n",
    "        return f'Car {self.__brand} with {self.__doors_num} doors.'"
   ]
  },
  {
   "cell_type": "code",
   "execution_count": 170,
   "metadata": {},
   "outputs": [],
   "source": [
    "class Truck(Car):\n",
    "    def __init__(self, brand, doors_num, load_weight, axes):\n",
    "        super().__init__(brand, doors_num)\n",
    "        self.__load_weight = load_weight\n",
    "        self.__axes = axes\n",
    "    \n",
    "    def get_load(self):\n",
    "        return self.__load_weight\n",
    "    \n",
    "    def set_load(self, load_weight):\n",
    "        self.__load_weight = load_weight\n",
    "        \n",
    "    def get_axes(self):\n",
    "        return self.__axes\n",
    "    \n",
    "    def set_axes(self, axes):\n",
    "        self.__axes = axes    \n",
    "        \n",
    "    def info(self):\n",
    "        return f'Car {self.get_brand()} with {self.get_doors_num()} doors. {self.__load_weight} - {self.__axes}'"
   ]
  },
  {
   "cell_type": "markdown",
   "metadata": {},
   "source": [
    "Посмотрим, как это работает"
   ]
  },
  {
   "cell_type": "code",
   "execution_count": 171,
   "metadata": {},
   "outputs": [
    {
     "name": "stdout",
     "output_type": "stream",
     "text": [
      "Car audi with 4 doors.\n"
     ]
    }
   ],
   "source": [
    "audi = Car('audi', 4)\n",
    "print(audi.info())"
   ]
  },
  {
   "cell_type": "code",
   "execution_count": 172,
   "metadata": {},
   "outputs": [
    {
     "name": "stdout",
     "output_type": "stream",
     "text": [
      "Car kamaz with 4 doors. 10000 - 5\n"
     ]
    }
   ],
   "source": [
    "truck = Truck('kamaz', 4, 10000, 5)\n",
    "print(truck.info())"
   ]
  },
  {
   "cell_type": "markdown",
   "metadata": {},
   "source": [
    "Таким образом, класс-наследник может расширять функционал класса-родителя."
   ]
  },
  {
   "cell_type": "markdown",
   "metadata": {},
   "source": [
    "## Абстрактные методы\n",
    "\n",
    "Поскольку в ООП присутствует возможность наследовать поведение родительского класса, иногда возникает необходимость в специфической реализации соответствующих методов. В качестве примера можно привести следующий код, где классы `Truck` и `Bus` являются потомками класса `Car`. Как и положено, они оба наследуют метод `honk` (гудеть), однако в родительском классе для него не существует реализации.\n",
    "\n",
    "Все потому, что машина представляет собой абстрактное понятие, а значит не способно издавать какой-то конкретный гудок. Однако для грузовика и автобуса данная команда зачастую имеет общепринятое значение. В таком случае можно утверждать, что метод `honk` из `Car` является абстрактным, поскольку не имеет собственного тела реализации."
   ]
  },
  {
   "cell_type": "code",
   "execution_count": 176,
   "metadata": {},
   "outputs": [
    {
     "name": "stdout",
     "output_type": "stream",
     "text": [
      "UUUUUUU\n",
      "RRRRRR\n"
     ]
    }
   ],
   "source": [
    "class Car:\n",
    "    def __init__(self, brand):\n",
    "        self.__brand = brand\n",
    "    \n",
    "    def honk(self):\n",
    "        pass\n",
    "    \n",
    "class Truck(Car):\n",
    "    def honk(self):\n",
    "        print('RRRRRR')\n",
    "\n",
    "class Bus(Car):\n",
    "    def honk(self):\n",
    "        print('UUUUUUU')\n",
    "        \n",
    "truck = Truck('Iveco')\n",
    "bus = Bus('VAN')\n",
    "\n",
    "bus.honk()\n",
    "truck.honk()"
   ]
  },
  {
   "cell_type": "markdown",
   "metadata": {},
   "source": [
    "Как видно из примера, потомки `Truck` и `Bus` получают `honk`, после чего переопределяют его каждый по-своему. В этом заключается суть полиморфизма, позволяющего изменять ход работы определенного метода, исходя из нужд конкретного класса. При этом название у него остается общим для всех наследников, что помогает избежать путаницы с именами."
   ]
  },
  {
   "cell_type": "markdown",
   "metadata": {},
   "source": [
    "## Перегрузка операторов\n",
    "\n",
    "Для обработки примитивных типов данных в языках программирования используются специальные операторы. К примеру, арифметические операции выполняются при помощи обычных знаков плюс, минус, умножить, разделить. Однако при работе с собственными типами информации вполне может потребоваться помощь этих операторов. Благодаря специальным функциям, их можно самостоятельно настроить под свои задачи.\n",
    "\n",
    "В данном примере создается класс `Point`, обладающий двумя полями: `x` и `y`. Для сравнения двух разных объектов такого типа можно написать специальный метод либо же просто перегрузить соответствующий оператор. Для этого потребуется переопределить функцию `__eq__` в собственном классе, реализовав новое поведение в ее теле."
   ]
  },
  {
   "cell_type": "code",
   "execution_count": 193,
   "metadata": {},
   "outputs": [],
   "source": [
    "class Point:\n",
    "    def __init__(self, x, y):\n",
    "        self.x = x\n",
    "        self.y = y\n",
    "    \n",
    "    def __add__(self, other):\n",
    "        return Point(self.x + other.x, \n",
    "                     self.y + other.y)\n",
    "    \n",
    "    def __sub__(self, other):\n",
    "        return Point(self.x - other.x, \n",
    "                     self.y - other.y)\n",
    "\n",
    "    def __mul__(self, other):\n",
    "        return Point(self.x * other.x, \n",
    "                     self.y * other.y)\n",
    "    \n",
    "    def __eq__(self, other):\n",
    "        return self.x == other.x and self.y == other.y"
   ]
  },
  {
   "cell_type": "code",
   "execution_count": 194,
   "metadata": {},
   "outputs": [
    {
     "data": {
      "text/plain": [
       "True"
      ]
     },
     "execution_count": 194,
     "metadata": {},
     "output_type": "execute_result"
    }
   ],
   "source": [
    "p1 = Point(2, 5)\n",
    "p2 = Point(2, 5)\n",
    "p1 == p2"
   ]
  },
  {
   "cell_type": "code",
   "execution_count": 195,
   "metadata": {},
   "outputs": [
    {
     "data": {
      "text/plain": [
       "140225184313936"
      ]
     },
     "execution_count": 195,
     "metadata": {},
     "output_type": "execute_result"
    }
   ],
   "source": [
    "id(p1)"
   ]
  },
  {
   "cell_type": "code",
   "execution_count": 196,
   "metadata": {},
   "outputs": [
    {
     "data": {
      "text/plain": [
       "140225184316768"
      ]
     },
     "execution_count": 196,
     "metadata": {},
     "output_type": "execute_result"
    }
   ],
   "source": [
    "id(p2)"
   ]
  },
  {
   "cell_type": "code",
   "execution_count": 192,
   "metadata": {},
   "outputs": [
    {
     "data": {
      "text/plain": [
       "(4, 10)"
      ]
     },
     "execution_count": 192,
     "metadata": {},
     "output_type": "execute_result"
    }
   ],
   "source": [
    "(p1 + p2).x, (p1 + p2).y"
   ]
  },
  {
   "cell_type": "code",
   "execution_count": 197,
   "metadata": {},
   "outputs": [
    {
     "data": {
      "text/plain": [
       "(0, 0)"
      ]
     },
     "execution_count": 197,
     "metadata": {},
     "output_type": "execute_result"
    }
   ],
   "source": [
    "p3 = p2 - p1\n",
    "p3.x, p3.y"
   ]
  },
  {
   "cell_type": "markdown",
   "metadata": {},
   "source": [
    "Переопределенный метод возвращает результат сравнения двух полей у различных объектов. Благодаря этому появилась возможность сравнивать две разных точки, пользуясь всего лишь обычным оператором. Результат его работы выводится при помощи метода `print`.\n",
    "\n",
    "Аналогично сравнению, можно реализовать в Python перегрузку операторов сложения, вычитания и других арифметических и логических действий. Так же можно сделать перегрузку стандартных функций str и len.\n",
    "\n",
    "Если мы не перегрузим оператор, то наш класс выдаст ошибку или будет работать некорректно:"
   ]
  },
  {
   "cell_type": "markdown",
   "metadata": {},
   "source": [
    "В первом случае, ответ должен был быть `True`"
   ]
  },
  {
   "cell_type": "markdown",
   "metadata": {},
   "source": [
    "Почитать документацию про объекты в Python: https://docs.python.org/3/reference/datamodel.html"
   ]
  }
 ],
 "metadata": {
  "kernelspec": {
   "display_name": "Python 3 (ipykernel)",
   "language": "python",
   "name": "python3"
  },
  "language_info": {
   "codemirror_mode": {
    "name": "ipython",
    "version": 3
   },
   "file_extension": ".py",
   "mimetype": "text/x-python",
   "name": "python",
   "nbconvert_exporter": "python",
   "pygments_lexer": "ipython3",
   "version": "3.9.12"
  },
  "toc": {
   "base_numbering": 1,
   "nav_menu": {},
   "number_sections": true,
   "sideBar": true,
   "skip_h1_title": false,
   "title_cell": "Table of Contents",
   "title_sidebar": "Contents",
   "toc_cell": false,
   "toc_position": {},
   "toc_section_display": true,
   "toc_window_display": true
  },
  "varInspector": {
   "cols": {
    "lenName": 16,
    "lenType": 16,
    "lenVar": 40
   },
   "kernels_config": {
    "python": {
     "delete_cmd_postfix": "",
     "delete_cmd_prefix": "del ",
     "library": "var_list.py",
     "varRefreshCmd": "print(var_dic_list())"
    },
    "r": {
     "delete_cmd_postfix": ") ",
     "delete_cmd_prefix": "rm(",
     "library": "var_list.r",
     "varRefreshCmd": "cat(var_dic_list()) "
    }
   },
   "types_to_exclude": [
    "module",
    "function",
    "builtin_function_or_method",
    "instance",
    "_Feature"
   ],
   "window_display": false
  }
 },
 "nbformat": 4,
 "nbformat_minor": 2
}
