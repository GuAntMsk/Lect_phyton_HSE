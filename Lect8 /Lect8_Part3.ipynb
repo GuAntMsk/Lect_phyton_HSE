{
 "cells": [
  {
   "cell_type": "markdown",
   "id": "9205b164",
   "metadata": {},
   "source": [
    "Центр непрерывного образования\n",
    "\n",
    "# Программа «Python для автоматизации и анализа данных»\n",
    "\n",
    "# Декораторы\n",
    "\n",
    "*Дарья Касьяненко, НИУ ВШЭ*"
   ]
  },
  {
   "cell_type": "markdown",
   "id": "7bd8a433",
   "metadata": {},
   "source": [
    "Декоратор в Python - это специальная конструкция, которая позволяет изменять поведение функции без изменения её самой. \n",
    "\n",
    "Представьте, что у вас есть функция, которую вы хотите изменить или расширить. Вместо того, чтобы изменять код этой функции, вы можете создать декоратор, который будет добавлять нужное вам дополнительное поведение. Декоратор обычно принимает оригинальную функцию в качестве аргумента, создаёт новую функцию (обертку) вокруг неё и возвращает эту обертку.\n",
    "\n",
    "Когда вы применяете декоратор к функции, вы фактически заменяете оригинальную функцию обёрнутой версией. При вызове функции, украшенной декоратором, будет выполняться дополнительный код, определенный в декораторе, до и после вызова оригинальной функции.\n",
    "\n",
    "Преимущество декораторов заключается в их гибкости и возможности повторного использования. Они позволяют добавлять функциональность к функциям без изменения самих функций, что делает код более модульным и понятным."
   ]
  },
  {
   "cell_type": "markdown",
   "id": "c2f849ff",
   "metadata": {},
   "source": [
    "## Где используются декораторы?\n",
    "\n",
    "* Логирование: Декораторы могут использоваться для добавления логирования к функциям. Это позволяет отслеживать вызовы функций, передаваемые аргументы и результаты работы. Логирование может быть полезным для отладки кода.\n",
    "\n",
    "\n",
    "* Аутентификация и авторизация: Декораторы могут применяться для проверки прав доступа пользователя к определенным функциям или страницам веб-приложений. Например, декоратор может проверять, авторизован ли пользователь и имеет ли он достаточные права для выполнения определенной операции.\n",
    "\n",
    "\n",
    "* Кэширование: Декораторы могут использоваться для кэширования результатов выполнения функций. Это может сэкономить время выполнения, особенно для функций, которые требуют длительных вычислений или обращений к внешним источникам данных. Кэширование позволяет сохранять результаты выполнения функции и возвращать их без повторного выполнения кода функции, если входные аргументы остаются неизменными.\n",
    "\n",
    "\n",
    "* Метрики и отслеживание: Декораторы могут использоваться для сбора метрик и статистики о выполнении функций. Например, они могут измерять время выполнения функции или считать количество вызовов функции. Это может быть полезно для мониторинга производительности приложений или определения наиболее ресурсоемких участков кода.\n",
    "\n",
    "\n",
    "* Проверка типов: Декораторы могут применяться для проверки типов аргументов функции. Они позволяют автоматически проверять, соответствуют ли переданные аргументы определенным типам данных, и предотвращать ошибки типизации."
   ]
  },
  {
   "cell_type": "markdown",
   "id": "22a5bb1e",
   "metadata": {},
   "source": [
    "<hr>\n",
    "\n",
    "### Пример 1\n",
    "Мы с вами пишем две функции, возвращающие только согласные буквы дважды. Нам интересно, сколько времени будет выполняться каждая функция. Напишем код."
   ]
  },
  {
   "cell_type": "code",
   "execution_count": 13,
   "id": "6f2aa8e8",
   "metadata": {},
   "outputs": [],
   "source": [
    "def str_to_list(string):\n",
    "    lst = [i * 2 for i in string if i not in 'aeiou']\n",
    "    return lst"
   ]
  },
  {
   "cell_type": "code",
   "execution_count": 14,
   "id": "214e2797",
   "metadata": {},
   "outputs": [],
   "source": [
    "def str_to_set(string):\n",
    "    str_set = {i * 2 for i in string if i not in 'aeiou'}\n",
    "    return str_set"
   ]
  },
  {
   "cell_type": "code",
   "execution_count": 10,
   "id": "40622f70",
   "metadata": {},
   "outputs": [
    {
     "data": {
      "text/plain": [
       "'GMYNDRCFZE'"
      ]
     },
     "execution_count": 10,
     "metadata": {},
     "output_type": "execute_result"
    }
   ],
   "source": [
    "import string\n",
    "import random\n",
    "\n",
    "char_set = string.ascii_uppercase\n",
    "string = ''.join(random.sample(char_set, 10))\n",
    "string"
   ]
  },
  {
   "cell_type": "code",
   "execution_count": 15,
   "id": "fc564f0d",
   "metadata": {},
   "outputs": [
    {
     "data": {
      "text/plain": [
       "['GG', 'MM', 'YY', 'NN', 'DD', 'RR', 'CC', 'FF', 'ZZ', 'EE']"
      ]
     },
     "execution_count": 15,
     "metadata": {},
     "output_type": "execute_result"
    }
   ],
   "source": [
    "str_to_list(string)"
   ]
  },
  {
   "cell_type": "code",
   "execution_count": 16,
   "id": "66c9d323",
   "metadata": {},
   "outputs": [
    {
     "data": {
      "text/plain": [
       "{'CC', 'DD', 'EE', 'FF', 'GG', 'MM', 'NN', 'RR', 'YY', 'ZZ'}"
      ]
     },
     "execution_count": 16,
     "metadata": {},
     "output_type": "execute_result"
    }
   ],
   "source": [
    "str_to_set(string)"
   ]
  },
  {
   "cell_type": "markdown",
   "id": "cfde310f",
   "metadata": {},
   "source": [
    "Добавим к функциям печать времени ее исполнения."
   ]
  },
  {
   "cell_type": "code",
   "execution_count": 21,
   "id": "9bf8bbad",
   "metadata": {},
   "outputs": [],
   "source": [
    "from datetime import datetime as dt\n",
    "\n",
    "def str_to_list(string):\n",
    "    start = dt.utcnow().timestamp()\n",
    "    lst = [i * 2 for i in string if i not in 'aeiou']\n",
    "    end = dt.utcnow().timestamp()\n",
    "    print(f'Time - {end - start}')\n",
    "    return lst\n",
    "\n",
    "def str_to_set(string):\n",
    "    start = dt.utcnow().timestamp()\n",
    "    str_set = {i * 2 for i in string if i not in 'aeiou'}\n",
    "    end = dt.utcnow().timestamp()\n",
    "    print(f'Time - {end - start}')\n",
    "    return str_set"
   ]
  },
  {
   "cell_type": "code",
   "execution_count": 22,
   "id": "a686ef3d",
   "metadata": {},
   "outputs": [
    {
     "name": "stdout",
     "output_type": "stream",
     "text": [
      "Time - 1.2874603271484375e-05\n"
     ]
    },
    {
     "data": {
      "text/plain": [
       "['GG', 'MM', 'YY', 'NN', 'DD', 'RR', 'CC', 'FF', 'ZZ', 'EE']"
      ]
     },
     "execution_count": 22,
     "metadata": {},
     "output_type": "execute_result"
    }
   ],
   "source": [
    "str_to_list(string)"
   ]
  },
  {
   "cell_type": "code",
   "execution_count": 23,
   "id": "99c6ed15",
   "metadata": {},
   "outputs": [
    {
     "name": "stdout",
     "output_type": "stream",
     "text": [
      "Time - 3.409385681152344e-05\n"
     ]
    },
    {
     "data": {
      "text/plain": [
       "{'CC', 'DD', 'EE', 'FF', 'GG', 'MM', 'NN', 'RR', 'YY', 'ZZ'}"
      ]
     },
     "execution_count": 23,
     "metadata": {},
     "output_type": "execute_result"
    }
   ],
   "source": [
    "str_to_set(string)"
   ]
  },
  {
   "cell_type": "markdown",
   "id": "e48c9204",
   "metadata": {},
   "source": [
    "Прописать к каждой новой функции дополнительные 3 строчки кода кажется лишней работой. Здесь и выходят на сцену декораторы."
   ]
  },
  {
   "cell_type": "code",
   "execution_count": 24,
   "id": "4ed63499",
   "metadata": {},
   "outputs": [],
   "source": [
    "def dt_stamp(func):\n",
    "    def wrapper(*args, **kwargs):\n",
    "        start = dt.utcnow().timestamp()\n",
    "        result = func(*args, **kwargs)\n",
    "        end = dt.utcnow().timestamp()\n",
    "        print(f'Time - {end - start}')\n",
    "        return result\n",
    "    return wrapper"
   ]
  },
  {
   "cell_type": "code",
   "execution_count": 25,
   "id": "87cb530a",
   "metadata": {},
   "outputs": [],
   "source": [
    "@dt_stamp\n",
    "def str_to_list(string):\n",
    "    lst = [i * 2 for i in string if i not in 'aeiou']\n",
    "    return lst\n",
    "\n",
    "@dt_stamp\n",
    "def str_to_set(string):\n",
    "    str_set = {i * 2 for i in string if i not in 'aeiou'}\n",
    "    return str_set"
   ]
  },
  {
   "cell_type": "code",
   "execution_count": 27,
   "id": "84969358",
   "metadata": {},
   "outputs": [
    {
     "name": "stdout",
     "output_type": "stream",
     "text": [
      "Time - 1.621246337890625e-05\n",
      "Time - 1.0967254638671875e-05\n"
     ]
    },
    {
     "data": {
      "text/plain": [
       "{'DD', 'FF', 'HH', 'LL', 'NN', 'OO', 'RR', 'TT', 'VV', 'ZZ'}"
      ]
     },
     "execution_count": 27,
     "metadata": {},
     "output_type": "execute_result"
    }
   ],
   "source": [
    "import string\n",
    "import random\n",
    "\n",
    "char_set = string.ascii_uppercase\n",
    "string = ''.join(random.sample(char_set, 10))\n",
    "str_to_list(string)\n",
    "str_to_set(string)"
   ]
  },
  {
   "cell_type": "markdown",
   "id": "48160df1",
   "metadata": {},
   "source": [
    "<hr>\n",
    "\n",
    "### Пример 2\n",
    "Посмотрим на еще один пример с кэшированием данных."
   ]
  },
  {
   "cell_type": "code",
   "execution_count": 30,
   "id": "c29061df",
   "metadata": {},
   "outputs": [],
   "source": [
    "import time\n",
    "import pickle"
   ]
  },
  {
   "cell_type": "code",
   "execution_count": 34,
   "id": "86f2f4d9",
   "metadata": {},
   "outputs": [],
   "source": [
    "def memorize(func):\n",
    "    cache = {}\n",
    "    def wrapper(*args, **kwargs):\n",
    "        t = (pickle.dumps(args), pickle.dumps(kwargs))\n",
    "        if t not in cache:\n",
    "            print(f'Кэшируем данные {func.__name__}{args}')\n",
    "            cache[t] = func(*args, **kwargs)\n",
    "        else:\n",
    "            print(f'Используем старые данные данные {func.__name__}{args}')\n",
    "        return cache[t]\n",
    "    return wrapper"
   ]
  },
  {
   "cell_type": "code",
   "execution_count": 35,
   "id": "b3bafd42",
   "metadata": {},
   "outputs": [],
   "source": [
    "@memorize\n",
    "def add(a, b):\n",
    "    time.sleep(1)\n",
    "    return a + b"
   ]
  },
  {
   "cell_type": "code",
   "execution_count": 36,
   "id": "49b56b70",
   "metadata": {},
   "outputs": [
    {
     "name": "stdout",
     "output_type": "stream",
     "text": [
      "Кэшируем данные add(1, 2)\n",
      "Кэшируем данные add(1, 20)\n",
      "Кэшируем данные add(1, 21)\n",
      "Используем старые данные данные add(1, 2)\n",
      "Используем старые данные данные add(1, 20)\n"
     ]
    },
    {
     "data": {
      "text/plain": [
       "21"
      ]
     },
     "execution_count": 36,
     "metadata": {},
     "output_type": "execute_result"
    }
   ],
   "source": [
    "add(1, 2)\n",
    "add(1, 20)\n",
    "add(1, 21)\n",
    "add(1, 2)\n",
    "add(1, 20)"
   ]
  },
  {
   "cell_type": "markdown",
   "id": "61febefd",
   "metadata": {},
   "source": [
    "<hr>\n",
    "\n",
    "Декораторы могут работать с аргументами, но для этого потребуется сделать обертку внутри обертки."
   ]
  },
  {
   "cell_type": "code",
   "execution_count": 41,
   "id": "10ba14d0",
   "metadata": {},
   "outputs": [],
   "source": [
    "def as_charlist(upcase = False):\n",
    "    def outer(fn):\n",
    "        def inner(*args):\n",
    "            s = str(fn(*args))\n",
    "            if upcase:\n",
    "                s = s.upper()\n",
    "            return list(s)\n",
    "        return inner\n",
    "    return outer"
   ]
  },
  {
   "cell_type": "code",
   "execution_count": 43,
   "id": "f01d2c99",
   "metadata": {
    "scrolled": true
   },
   "outputs": [
    {
     "data": {
      "text/plain": [
       "['H', 'i', ',', ' ', 'e', 'v', 'e', 'r', 'y', 'o', 'n', 'e']"
      ]
     },
     "execution_count": 43,
     "metadata": {},
     "output_type": "execute_result"
    }
   ],
   "source": [
    "@as_charlist(False)\n",
    "def greeting(who):\n",
    "    return f'Hi, {who}'\n",
    "greeting('everyone')"
   ]
  },
  {
   "cell_type": "markdown",
   "id": "2625104f",
   "metadata": {},
   "source": [
    "## Использование декораторов в классах\n",
    "\n",
    "Использование декораторов в классах позволяет добавлять и изменять функциональность методов, подобно тому, как это делается с функциями. "
   ]
  },
  {
   "cell_type": "code",
   "execution_count": 48,
   "id": "3b615330",
   "metadata": {},
   "outputs": [],
   "source": [
    "from decorator import decorator # библиотека для помощи в декорировании"
   ]
  },
  {
   "cell_type": "code",
   "execution_count": 55,
   "id": "2950611d",
   "metadata": {},
   "outputs": [],
   "source": [
    "@decorator\n",
    "def change(func, self, *args, **kwargs):\n",
    "    self.is_important = not self.is_important\n",
    "    return func(self, *args, **kwargs)"
   ]
  },
  {
   "cell_type": "code",
   "execution_count": 56,
   "id": "3c32e502",
   "metadata": {},
   "outputs": [],
   "source": [
    "class MyClass:\n",
    "    is_important = True\n",
    "    @change\n",
    "    def do_something_important(self):\n",
    "        pass\n",
    "    @change\n",
    "    def do_another_important_things(self):\n",
    "        pass"
   ]
  },
  {
   "cell_type": "code",
   "execution_count": 57,
   "id": "dc7fc40c",
   "metadata": {
    "scrolled": true
   },
   "outputs": [
    {
     "data": {
      "text/plain": [
       "True"
      ]
     },
     "execution_count": 57,
     "metadata": {},
     "output_type": "execute_result"
    }
   ],
   "source": [
    "my_class = MyClass()\n",
    "my_class.is_important"
   ]
  },
  {
   "cell_type": "code",
   "execution_count": 58,
   "id": "ba40895c",
   "metadata": {},
   "outputs": [
    {
     "data": {
      "text/plain": [
       "False"
      ]
     },
     "execution_count": 58,
     "metadata": {},
     "output_type": "execute_result"
    }
   ],
   "source": [
    "my_class.do_something_important()\n",
    "my_class.is_important"
   ]
  },
  {
   "cell_type": "code",
   "execution_count": 59,
   "id": "4a18bb37",
   "metadata": {},
   "outputs": [
    {
     "data": {
      "text/plain": [
       "True"
      ]
     },
     "execution_count": 59,
     "metadata": {},
     "output_type": "execute_result"
    }
   ],
   "source": [
    "my_class.do_another_important_things()\n",
    "my_class.is_important"
   ]
  },
  {
   "cell_type": "code",
   "execution_count": null,
   "id": "a10a6990",
   "metadata": {},
   "outputs": [],
   "source": []
  }
 ],
 "metadata": {
  "kernelspec": {
   "display_name": "Python 3 (ipykernel)",
   "language": "python",
   "name": "python3"
  },
  "language_info": {
   "codemirror_mode": {
    "name": "ipython",
    "version": 3
   },
   "file_extension": ".py",
   "mimetype": "text/x-python",
   "name": "python",
   "nbconvert_exporter": "python",
   "pygments_lexer": "ipython3",
   "version": "3.9.12"
  }
 },
 "nbformat": 4,
 "nbformat_minor": 5
}
