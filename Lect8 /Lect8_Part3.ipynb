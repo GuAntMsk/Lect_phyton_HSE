{
 "cells": [
  {
   "cell_type": "markdown",
   "id": "9205b164",
   "metadata": {},
   "source": [
    "Центр непрерывного образования\n",
    "\n",
    "# Программа «Python для автоматизации и анализа данных»\n",
    "\n",
    "# Декораторы\n",
    "\n",
    "*Дарья Касьяненко, НИУ ВШЭ*"
   ]
  },
  {
   "cell_type": "markdown",
   "id": "7bd8a433",
   "metadata": {},
   "source": [
    "Декоратор в Python - это специальная конструкция, которая позволяет изменять поведение функции без изменения её самой. \n",
    "\n",
    "Представьте, что у вас есть функция, которую вы хотите изменить или расширить. Вместо того, чтобы изменять код этой функции, вы можете создать декоратор, который будет добавлять нужное вам дополнительное поведение. Декоратор обычно принимает оригинальную функцию в качестве аргумента, создаёт новую функцию (обертку) вокруг неё и возвращает эту обертку.\n",
    "\n",
    "Когда вы применяете декоратор к функции, вы фактически заменяете оригинальную функцию обёрнутой версией. При вызове функции, украшенной декоратором, будет выполняться дополнительный код, определенный в декораторе, до и после вызова оригинальной функции.\n",
    "\n",
    "Преимущество декораторов заключается в их гибкости и возможности повторного использования. Они позволяют добавлять функциональность к функциям без изменения самих функций, что делает код более модульным и понятным."
   ]
  },
  {
   "cell_type": "markdown",
   "id": "c2f849ff",
   "metadata": {},
   "source": [
    "## Где используются декораторы?\n",
    "\n",
    "* Логирование: Декораторы могут использоваться для добавления логирования к функциям. Это позволяет отслеживать вызовы функций, передаваемые аргументы и результаты работы. Логирование может быть полезным для отладки кода.\n",
    "\n",
    "\n",
    "* Аутентификация и авторизация: Декораторы могут применяться для проверки прав доступа пользователя к определенным функциям или страницам веб-приложений. Например, декоратор может проверять, авторизован ли пользователь и имеет ли он достаточные права для выполнения определенной операции.\n",
    "\n",
    "\n",
    "* Кэширование: Декораторы могут использоваться для кэширования результатов выполнения функций. Это может сэкономить время выполнения, особенно для функций, которые требуют длительных вычислений или обращений к внешним источникам данных. Кэширование позволяет сохранять результаты выполнения функции и возвращать их без повторного выполнения кода функции, если входные аргументы остаются неизменными.\n",
    "\n",
    "\n",
    "* Метрики и отслеживание: Декораторы могут использоваться для сбора метрик и статистики о выполнении функций. Например, они могут измерять время выполнения функции или считать количество вызовов функции. Это может быть полезно для мониторинга производительности приложений или определения наиболее ресурсоемких участков кода.\n",
    "\n",
    "\n",
    "* Проверка типов: Декораторы могут применяться для проверки типов аргументов функции. Они позволяют автоматически проверять, соответствуют ли переданные аргументы определенным типам данных, и предотвращать ошибки типизации."
   ]
  },
  {
   "cell_type": "markdown",
   "id": "22a5bb1e",
   "metadata": {},
   "source": [
    "<hr>\n",
    "\n",
    "### Пример 1\n",
    "Мы с вами пишем две функции, возвращающие только согласные буквы дважды. Нам интересно, сколько времени будет выполняться каждая функция. Напишем код."
   ]
  },
  {
   "cell_type": "code",
   "execution_count": null,
   "id": "6f2aa8e8",
   "metadata": {},
   "outputs": [],
   "source": []
  },
  {
   "cell_type": "code",
   "execution_count": null,
   "id": "214e2797",
   "metadata": {},
   "outputs": [],
   "source": []
  },
  {
   "cell_type": "code",
   "execution_count": 24,
   "id": "40622f70",
   "metadata": {},
   "outputs": [],
   "source": [
    "import string\n",
    "import random\n"
   ]
  },
  {
   "cell_type": "code",
   "execution_count": null,
   "id": "fc564f0d",
   "metadata": {},
   "outputs": [],
   "source": []
  },
  {
   "cell_type": "code",
   "execution_count": null,
   "id": "66c9d323",
   "metadata": {},
   "outputs": [],
   "source": []
  },
  {
   "cell_type": "markdown",
   "id": "cfde310f",
   "metadata": {},
   "source": [
    "Добавим к функциям печать времени ее исполнения."
   ]
  },
  {
   "cell_type": "code",
   "execution_count": 9,
   "id": "9bf8bbad",
   "metadata": {},
   "outputs": [],
   "source": [
    "from datetime import datetime as dt\n"
   ]
  },
  {
   "cell_type": "code",
   "execution_count": null,
   "id": "a686ef3d",
   "metadata": {},
   "outputs": [],
   "source": []
  },
  {
   "cell_type": "code",
   "execution_count": null,
   "id": "99c6ed15",
   "metadata": {},
   "outputs": [],
   "source": []
  },
  {
   "cell_type": "code",
   "execution_count": null,
   "id": "615ad953",
   "metadata": {},
   "outputs": [],
   "source": []
  },
  {
   "cell_type": "code",
   "execution_count": null,
   "id": "42dfeb99",
   "metadata": {
    "scrolled": true
   },
   "outputs": [],
   "source": []
  },
  {
   "cell_type": "markdown",
   "id": "e48c9204",
   "metadata": {},
   "source": [
    "Прописать к каждой новой функции дополнительные 3 строчки кода кажется лишней работой. Здесь и выходят на сцену декораторы."
   ]
  },
  {
   "cell_type": "code",
   "execution_count": null,
   "id": "4ed63499",
   "metadata": {},
   "outputs": [],
   "source": []
  },
  {
   "cell_type": "code",
   "execution_count": null,
   "id": "87cb530a",
   "metadata": {},
   "outputs": [],
   "source": []
  },
  {
   "cell_type": "code",
   "execution_count": null,
   "id": "84969358",
   "metadata": {},
   "outputs": [],
   "source": []
  },
  {
   "cell_type": "markdown",
   "id": "48160df1",
   "metadata": {},
   "source": [
    "<hr>\n",
    "\n",
    "### Пример 2\n",
    "Посмотрим на еще один пример с кэшированием данных."
   ]
  },
  {
   "cell_type": "code",
   "execution_count": 85,
   "id": "c29061df",
   "metadata": {},
   "outputs": [],
   "source": [
    "import time\n",
    "import pickle"
   ]
  },
  {
   "cell_type": "code",
   "execution_count": null,
   "id": "86f2f4d9",
   "metadata": {},
   "outputs": [],
   "source": []
  },
  {
   "cell_type": "code",
   "execution_count": null,
   "id": "b3bafd42",
   "metadata": {},
   "outputs": [],
   "source": []
  },
  {
   "cell_type": "code",
   "execution_count": null,
   "id": "49b56b70",
   "metadata": {},
   "outputs": [],
   "source": []
  },
  {
   "cell_type": "code",
   "execution_count": null,
   "id": "3d5be316",
   "metadata": {},
   "outputs": [],
   "source": []
  },
  {
   "cell_type": "code",
   "execution_count": null,
   "id": "3cda8c0c",
   "metadata": {},
   "outputs": [],
   "source": []
  },
  {
   "cell_type": "code",
   "execution_count": null,
   "id": "f37e2e25",
   "metadata": {},
   "outputs": [],
   "source": []
  },
  {
   "cell_type": "markdown",
   "id": "61febefd",
   "metadata": {},
   "source": [
    "<hr>\n",
    "\n",
    "Декораторы могут работать с аргументами, но для этого потребуется сделать обертку внутри обертки."
   ]
  },
  {
   "cell_type": "code",
   "execution_count": null,
   "id": "10ba14d0",
   "metadata": {},
   "outputs": [],
   "source": []
  },
  {
   "cell_type": "code",
   "execution_count": null,
   "id": "f01d2c99",
   "metadata": {
    "scrolled": true
   },
   "outputs": [],
   "source": []
  },
  {
   "cell_type": "markdown",
   "id": "2625104f",
   "metadata": {},
   "source": [
    "## Использование декораторов в классах\n",
    "\n",
    "Использование декораторов в классах позволяет добавлять и изменять функциональность методов, подобно тому, как это делается с функциями. "
   ]
  },
  {
   "cell_type": "code",
   "execution_count": 101,
   "id": "3b615330",
   "metadata": {},
   "outputs": [],
   "source": [
    "from decorator import decorator # библиотека для помощи в декорировании"
   ]
  },
  {
   "cell_type": "code",
   "execution_count": null,
   "id": "2950611d",
   "metadata": {},
   "outputs": [],
   "source": []
  },
  {
   "cell_type": "code",
   "execution_count": null,
   "id": "3c32e502",
   "metadata": {},
   "outputs": [],
   "source": []
  },
  {
   "cell_type": "code",
   "execution_count": null,
   "id": "dc7fc40c",
   "metadata": {
    "scrolled": true
   },
   "outputs": [],
   "source": []
  },
  {
   "cell_type": "code",
   "execution_count": null,
   "id": "ba40895c",
   "metadata": {},
   "outputs": [],
   "source": []
  },
  {
   "cell_type": "code",
   "execution_count": null,
   "id": "4a18bb37",
   "metadata": {},
   "outputs": [],
   "source": []
  },
  {
   "cell_type": "code",
   "execution_count": null,
   "id": "a10a6990",
   "metadata": {},
   "outputs": [],
   "source": []
  }
 ],
 "metadata": {
  "kernelspec": {
   "display_name": "Python 3 (ipykernel)",
   "language": "python",
   "name": "python3"
  },
  "language_info": {
   "codemirror_mode": {
    "name": "ipython",
    "version": 3
   },
   "file_extension": ".py",
   "mimetype": "text/x-python",
   "name": "python",
   "nbconvert_exporter": "python",
   "pygments_lexer": "ipython3",
   "version": "3.9.12"
  }
 },
 "nbformat": 4,
 "nbformat_minor": 5
}
