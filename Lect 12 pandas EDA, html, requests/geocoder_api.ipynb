{
 "cells": [
  {
   "cell_type": "markdown",
   "id": "af6b7f09",
   "metadata": {},
   "source": [
    "В этом примере мы покажем, как с помощью API Яндекс.Геокодера можно преобразовать адреса в геокоординаты, с которым можно работать в [Datalens](https://datalens.yandex.ru)"
   ]
  },
  {
   "cell_type": "markdown",
   "id": "7716da26",
   "metadata": {},
   "source": [
    "## Установка библиотек\n",
    "\n",
    " * requests для API Геокодера\n",
    " * clickhouse-driver для Clickhouse"
   ]
  },
  {
   "cell_type": "code",
   "execution_count": 1,
   "id": "762e8efd",
   "metadata": {},
   "outputs": [
    {
     "name": "stdout",
     "output_type": "stream",
     "text": [
      "Requirement already satisfied: requests in /Users/mgordenko/opt/anaconda3/lib/python3.9/site-packages (2.27.1)\n",
      "Requirement already satisfied: certifi>=2017.4.17 in /Users/mgordenko/opt/anaconda3/lib/python3.9/site-packages (from requests) (2021.10.8)\n",
      "Requirement already satisfied: charset-normalizer~=2.0.0 in /Users/mgordenko/opt/anaconda3/lib/python3.9/site-packages (from requests) (2.0.4)\n",
      "Requirement already satisfied: urllib3<1.27,>=1.21.1 in /Users/mgordenko/opt/anaconda3/lib/python3.9/site-packages (from requests) (1.26.9)\n",
      "Requirement already satisfied: idna<4,>=2.5 in /Users/mgordenko/opt/anaconda3/lib/python3.9/site-packages (from requests) (3.3)\n",
      "Note: you may need to restart the kernel to use updated packages.\n"
     ]
    }
   ],
   "source": [
    "%pip install requests"
   ]
  },
  {
   "cell_type": "markdown",
   "id": "c2c07183",
   "metadata": {},
   "source": [
    "## Получение ключа для API Геокодера\n",
    "\n",
    "В переменную API_KEY нужно записать свой ключ для API Геокодера.\n",
    "Получить ключ можно по [ссылке](https://yandex.ru/dev/maps/geocoder/)"
   ]
  },
  {
   "cell_type": "code",
   "execution_count": 10,
   "id": "6ce89553",
   "metadata": {},
   "outputs": [],
   "source": [
    "API_KEY = ''"
   ]
  },
  {
   "cell_type": "markdown",
   "id": "c77a7ea8",
   "metadata": {},
   "source": [
    "## Работа с API Геокодера\n",
    "\n",
    "Напишем небольшой класс для работы с Геокодером"
   ]
  },
  {
   "cell_type": "code",
   "execution_count": 1,
   "id": "c09d95ed",
   "metadata": {},
   "outputs": [],
   "source": [
    "import requests\n",
    "from dataclasses import dataclass\n",
    "\n",
    "@dataclass\n",
    "class YandexGeocoder:\n",
    "    api_key: str\n",
    "    geocoder_url: str = 'https://geocode-maps.yandex.ru/1.x'\n",
    "\n",
    "    def adress_to_geopoint(self, address: str) -> str:\n",
    "        \"\"\"\n",
    "        Преобразование адреса в геокоординаты в формате Datalens\n",
    "        \"\"\"\n",
    "        response = requests.get(self.geocoder_url, params={\n",
    "            'apikey': self.api_key,\n",
    "            'geocode': address,\n",
    "            'format': 'json',\n",
    "        })\n",
    "        response.raise_for_status()\n",
    "\n",
    "        result = response.json()['response']['GeoObjectCollection']['featureMember']\n",
    "        if not result:\n",
    "            return None\n",
    "\n",
    "        lat, lon = result[0]['GeoObject']['Point']['pos'].split(' ')\n",
    "        return self._to_datalens_format(lon, lat)\n",
    "    \n",
    "    def _to_datalens_format(self, lon, lat):\n",
    "        return f'[{lon},{lat}]'"
   ]
  },
  {
   "cell_type": "markdown",
   "id": "c5d2837a",
   "metadata": {},
   "source": [
    "Затем выгрузим данные из таблицы в переменную ch_data"
   ]
  },
  {
   "cell_type": "code",
   "execution_count": 8,
   "id": "d54f6eb6",
   "metadata": {},
   "outputs": [
    {
     "data": {
      "text/plain": [
       "['Upper West Side,NY',\n",
       " 'Central Park,ny',\n",
       " 'Riverdale,NY',\n",
       " 'Market City, MY',\n",
       " 'Upper East Side,NY',\n",
       " 'Market City, NY',\n",
       " 'Cedar Hill, NY',\n",
       " 'Central Park,NY',\n",
       " 'China Town, NY',\n",
       " 'St. George,NY']"
      ]
     },
     "execution_count": 8,
     "metadata": {},
     "output_type": "execute_result"
    }
   ],
   "source": [
    "import pandas as pd\n",
    "df = pd.read_csv('Cuisine_rating.csv')\n",
    "df = df[['Location']]\n",
    "set_locations = list(set(df['Location']))\n",
    "set_locations"
   ]
  },
  {
   "cell_type": "markdown",
   "id": "09c92983",
   "metadata": {},
   "source": [
    "## Геокодирование\n",
    "\n",
    "Преобразуем адреса магазинов из колонки ShopAddress в геокоординаты"
   ]
  },
  {
   "cell_type": "code",
   "execution_count": 11,
   "id": "e01d79b3",
   "metadata": {},
   "outputs": [],
   "source": [
    "geocoder = YandexGeocoder(api_key=API_KEY)"
   ]
  },
  {
   "cell_type": "code",
   "execution_count": 12,
   "id": "d6a42111",
   "metadata": {},
   "outputs": [
    {
     "name": "stdout",
     "output_type": "stream",
     "text": [
      "Upper West Side,NY [40.786843,-73.975698]\n",
      "Central Park,ny [40.782507,-73.965502]\n",
      "Riverdale,NY [40.9043,-73.914388]\n",
      "Market City, MY [42.90045,-103.088524]\n",
      "Upper East Side,NY [40.774033,-73.955737]\n",
      "Market City, NY [40.714627,-74.002863]\n",
      "Cedar Hill, NY [42.544201,-73.77399]\n",
      "Central Park,NY [40.782507,-73.965502]\n",
      "China Town, NY [40.714627,-74.002863]\n",
      "St. George,NY [40.644158,-74.073461]\n"
     ]
    }
   ],
   "source": [
    "encoded_data = []\n",
    "for adress in set_locations:\n",
    "    s = geocoder.adress_to_geopoint(adress)\n",
    "    print(adress, s)\n",
    "    encoded_data.append(s)\n"
   ]
  },
  {
   "cell_type": "code",
   "execution_count": 13,
   "id": "41845ac7",
   "metadata": {},
   "outputs": [
    {
     "data": {
      "text/plain": [
       "10"
      ]
     },
     "execution_count": 13,
     "metadata": {},
     "output_type": "execute_result"
    }
   ],
   "source": [
    "len(encoded_data)"
   ]
  },
  {
   "cell_type": "code",
   "execution_count": 15,
   "id": "a9c019d0",
   "metadata": {},
   "outputs": [
    {
     "data": {
      "text/plain": [
       "['[40.786843,-73.975698]',\n",
       " '[40.782507,-73.965502]',\n",
       " '[40.9043,-73.914388]',\n",
       " '[42.90045,-103.088524]',\n",
       " '[40.774033,-73.955737]',\n",
       " '[40.714627,-74.002863]',\n",
       " '[42.544201,-73.77399]',\n",
       " '[40.782507,-73.965502]',\n",
       " '[40.714627,-74.002863]',\n",
       " '[40.644158,-74.073461]']"
      ]
     },
     "execution_count": 15,
     "metadata": {},
     "output_type": "execute_result"
    }
   ],
   "source": [
    "encoded_data"
   ]
  },
  {
   "cell_type": "code",
   "execution_count": 14,
   "id": "70cc21ad",
   "metadata": {},
   "outputs": [],
   "source": [
    "import pandas as pd"
   ]
  },
  {
   "cell_type": "code",
   "execution_count": 18,
   "id": "982b429b",
   "metadata": {},
   "outputs": [],
   "source": [
    "df = pd.DataFrame(encoded_data, set_locations)"
   ]
  },
  {
   "cell_type": "code",
   "execution_count": 19,
   "id": "836efb4f",
   "metadata": {},
   "outputs": [
    {
     "data": {
      "text/html": [
       "<div>\n",
       "<style scoped>\n",
       "    .dataframe tbody tr th:only-of-type {\n",
       "        vertical-align: middle;\n",
       "    }\n",
       "\n",
       "    .dataframe tbody tr th {\n",
       "        vertical-align: top;\n",
       "    }\n",
       "\n",
       "    .dataframe thead th {\n",
       "        text-align: right;\n",
       "    }\n",
       "</style>\n",
       "<table border=\"1\" class=\"dataframe\">\n",
       "  <thead>\n",
       "    <tr style=\"text-align: right;\">\n",
       "      <th></th>\n",
       "      <th>0</th>\n",
       "    </tr>\n",
       "  </thead>\n",
       "  <tbody>\n",
       "    <tr>\n",
       "      <th>Upper West Side,NY</th>\n",
       "      <td>[40.786843,-73.975698]</td>\n",
       "    </tr>\n",
       "    <tr>\n",
       "      <th>Central Park,ny</th>\n",
       "      <td>[40.782507,-73.965502]</td>\n",
       "    </tr>\n",
       "    <tr>\n",
       "      <th>Riverdale,NY</th>\n",
       "      <td>[40.9043,-73.914388]</td>\n",
       "    </tr>\n",
       "    <tr>\n",
       "      <th>Market City, MY</th>\n",
       "      <td>[42.90045,-103.088524]</td>\n",
       "    </tr>\n",
       "    <tr>\n",
       "      <th>Upper East Side,NY</th>\n",
       "      <td>[40.774033,-73.955737]</td>\n",
       "    </tr>\n",
       "    <tr>\n",
       "      <th>Market City, NY</th>\n",
       "      <td>[40.714627,-74.002863]</td>\n",
       "    </tr>\n",
       "    <tr>\n",
       "      <th>Cedar Hill, NY</th>\n",
       "      <td>[42.544201,-73.77399]</td>\n",
       "    </tr>\n",
       "    <tr>\n",
       "      <th>Central Park,NY</th>\n",
       "      <td>[40.782507,-73.965502]</td>\n",
       "    </tr>\n",
       "    <tr>\n",
       "      <th>China Town, NY</th>\n",
       "      <td>[40.714627,-74.002863]</td>\n",
       "    </tr>\n",
       "    <tr>\n",
       "      <th>St. George,NY</th>\n",
       "      <td>[40.644158,-74.073461]</td>\n",
       "    </tr>\n",
       "  </tbody>\n",
       "</table>\n",
       "</div>"
      ],
      "text/plain": [
       "                                         0\n",
       "Upper West Side,NY  [40.786843,-73.975698]\n",
       "Central Park,ny     [40.782507,-73.965502]\n",
       "Riverdale,NY          [40.9043,-73.914388]\n",
       "Market City, MY     [42.90045,-103.088524]\n",
       "Upper East Side,NY  [40.774033,-73.955737]\n",
       "Market City, NY     [40.714627,-74.002863]\n",
       "Cedar Hill, NY       [42.544201,-73.77399]\n",
       "Central Park,NY     [40.782507,-73.965502]\n",
       "China Town, NY      [40.714627,-74.002863]\n",
       "St. George,NY       [40.644158,-74.073461]"
      ]
     },
     "execution_count": 19,
     "metadata": {},
     "output_type": "execute_result"
    }
   ],
   "source": [
    "df"
   ]
  },
  {
   "cell_type": "code",
   "execution_count": 20,
   "id": "90fc84e1",
   "metadata": {},
   "outputs": [],
   "source": [
    "df.to_csv(\"coord_city5.csv\")"
   ]
  },
  {
   "cell_type": "code",
   "execution_count": null,
   "id": "9c54d6de",
   "metadata": {},
   "outputs": [],
   "source": []
  }
 ],
 "metadata": {
  "kernelspec": {
   "display_name": "Python 3 (ipykernel)",
   "language": "python",
   "name": "python3"
  },
  "language_info": {
   "codemirror_mode": {
    "name": "ipython",
    "version": 3
   },
   "file_extension": ".py",
   "mimetype": "text/x-python",
   "name": "python",
   "nbconvert_exporter": "python",
   "pygments_lexer": "ipython3",
   "version": "3.9.12"
  }
 },
 "nbformat": 4,
 "nbformat_minor": 5
}
